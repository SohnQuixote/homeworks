{
 "cells": [
  {
   "cell_type": "code",
   "execution_count": 2,
   "id": "75506267",
   "metadata": {},
   "outputs": [],
   "source": [
    "import matplotlib.pyplot as plt\n",
    "import numpy as np\n",
    "import math"
   ]
  },
  {
   "cell_type": "code",
   "execution_count": 89,
   "id": "cd40d04c",
   "metadata": {},
   "outputs": [],
   "source": [
    "def newtraph(func,dfunc,xr,es = 1.0e-4,maxit = 100):\n",
    "    iterator = 0\n",
    "    ea = 100\n",
    "    while True:\n",
    "        if(dfunc(xr) == 0):\n",
    "            break\n",
    "        xrold = xr\n",
    "        xr -= func(xr)/dfunc(xr)\n",
    "        iterator+=1\n",
    "\n",
    "        if(xr!=0):\n",
    "            ea = abs((xr-xrold)/xr) *100\n",
    "        \n",
    "        if(ea<=es or iterator>=maxit):\n",
    "            break\n",
    "        \n",
    "    root =xr\n",
    "    fx = func(root)\n",
    "        \n",
    "    return root,fx,ea,iterator"
   ]
  },
  {
   "cell_type": "code",
   "execution_count": 28,
   "id": "7b87228a",
   "metadata": {},
   "outputs": [],
   "source": [
    "def fixedpoint(gfunc,xr,es = 1.0e-4, maxit = 100):\n",
    "    iterator = 0\n",
    "    ea = 100\n",
    "    while True:\n",
    "        xrold = xr\n",
    "        xr = gfunc(xr)\n",
    "        iterator +=1\n",
    "        if(xr!=0):\n",
    "            ea = abs((xr-xrold)/xr) *100\n",
    "        if(ea<=es or iterator>=maxit):\n",
    "            break\n",
    "    root = xr\n",
    "    fx = gfunc(root)\n",
    "    \n",
    "    return root,fx,ea,iterator"
   ]
  },
  {
   "cell_type": "code",
   "execution_count": 30,
   "id": "45506c4a",
   "metadata": {},
   "outputs": [],
   "source": [
    "def secant(func,xl,xr , es = 1.0e-4 , maxit = 100):\n",
    "    iterator = 0\n",
    "    ea = 100\n",
    "    while True:\n",
    "        xrold = xr\n",
    "        xr -= (func(xr) * (xl - xr))/(func(xl) - func(xr))\n",
    "        xl = xrold\n",
    "        iterator +=1\n",
    "        if(xr!=0):\n",
    "            ea = abs((xr-xrold)/xr) *100\n",
    "        if(ea<=es or iterator>=maxit):\n",
    "            break\n",
    "    root = xr\n",
    "    fx = func(root)\n",
    "    \n",
    "    return root,fx,ea,iterator"
   ]
  },
  {
   "cell_type": "code",
   "execution_count": 39,
   "id": "c9131bbd",
   "metadata": {},
   "outputs": [],
   "source": [
    "def modified_secant(func, xr , delta , es = 1.0e-4 , maxit = 100):\n",
    "    iterator = 0\n",
    "    ea = 100\n",
    "    while True:\n",
    "        xrold = xr\n",
    "        xr -= (delta *xr* func(xr))/(func(xr+delta*xr) - func(xr))\n",
    "        iterator +=1\n",
    "        if(xr!=0):\n",
    "            ea = abs((xr-xrold)/xr) *100\n",
    "        if(ea<=es or iterator>=maxit):\n",
    "            break\n",
    "    root = xr\n",
    "    fx = func(root)\n",
    "    \n",
    "    return root,fx,ea,iterator\n",
    "        "
   ]
  },
  {
   "cell_type": "markdown",
   "id": "49512923",
   "metadata": {},
   "source": [
    "fm = lambda m: np.sqrt(9.81 * m / 0.25) * np.tanh(np.sqrt(9.81 *0.25 / m)*4) -36"
   ]
  },
  {
   "cell_type": "code",
   "execution_count": 32,
   "id": "d5b98b59",
   "metadata": {},
   "outputs": [
    {
     "name": "stdout",
     "output_type": "stream",
     "text": [
      "root: 142.73763310844902 fx: 0.0 ea:  2.1694960772096252e-09 itera:  4\n"
     ]
    }
   ],
   "source": [
    "fm = lambda m: np.sqrt(9.81 * m / 0.25) * np.tanh(np.sqrt(9.81 *0.25 / m)*4) -36\n",
    "dm = lambda m: 1/2 * np.sqrt(9.81/(m*0.25)) * np.tanh(np.sqrt((9.81*0.25)/m) *4) -((9.81) / (2*m)) * 4 * (1/ np.cosh(np.sqrt((9.81*0.25)/m) *4)) **2\n",
    "root,fx,ea,itera = newtraph(fm,dm,150)\n",
    "print(\"root:\" , root, \"fx:\" ,fx , \"ea: \",ea , \"itera: \" , itera)"
   ]
  },
  {
   "cell_type": "code",
   "execution_count": 33,
   "id": "e5c8f80e",
   "metadata": {},
   "outputs": [
    {
     "name": "stdout",
     "output_type": "stream",
     "text": [
      "root: 0.56714343762633 fx: 0.5671432069169137 ea:  7.172649124324047e-05 itera:  27\n"
     ]
    }
   ],
   "source": [
    "gm = lambda x: math.exp(-x)\n",
    "root,fx,ea,itera = fixedpoint(gm,0)\n",
    "print(\"root:\" , root, \"fx:\" ,fx , \"ea: \",ea , \"itera: \" , itera)"
   ]
  },
  {
   "cell_type": "code",
   "execution_count": 52,
   "id": "ab5dfd3d",
   "metadata": {},
   "outputs": [
    {
     "name": "stdout",
     "output_type": "stream",
     "text": [
      "root: 142.7376331084497 fx: 7.105427357601002e-15 ea:  1.646295182341566e-07 itera:  5\n"
     ]
    }
   ],
   "source": [
    "root,fx,ea,itera = secant(fm,150 , 160)\n",
    "print(\"root:\" , root, \"fx:\" ,fx , \"ea: \",ea , \"itera: \" , itera)"
   ]
  },
  {
   "cell_type": "code",
   "execution_count": 40,
   "id": "440ae235",
   "metadata": {},
   "outputs": [
    {
     "name": "stdout",
     "output_type": "stream",
     "text": [
      "root: 142.73763310845445 fx: 1.0658141036401503e-13 ea:  4.081704734081578e-06 itera:  6\n"
     ]
    }
   ],
   "source": [
    "root,fx,ea,itera = modified_secant(fm,50,0.000001)\n",
    "print(\"root:\" , root, \"fx:\" ,fx , \"ea: \",ea , \"itera: \" , itera)"
   ]
  },
  {
   "cell_type": "code",
   "execution_count": 41,
   "id": "6819568e",
   "metadata": {},
   "outputs": [
    {
     "name": "stdout",
     "output_type": "stream",
     "text": [
      "root: 0.7686062313130103 fx: 0.7686333062749909 ea:  0.009655061726320559 itera:  9\n"
     ]
    }
   ],
   "source": [
    "gx = lambda x: np.sin(np.sqrt(x))\n",
    "root,fx,ea,itera = fixedpoint(gx,0.5, 0.01)\n",
    "print(\"root:\" , root, \"fx:\" ,fx , \"ea: \",ea , \"itera: \" , itera)"
   ]
  },
  {
   "cell_type": "code",
   "execution_count": 43,
   "id": "448b3dc9",
   "metadata": {},
   "outputs": [
    {
     "data": {
      "image/png": "[encoded data removed]",
      "text/plain": [
       "<Figure size 432x288 with 1 Axes>"
      ]
     },
     "metadata": {
      "needs_background": "light"
     },
     "output_type": "display_data"
    }
   ],
   "source": [
    "x = np.arange(0, 5, 0.1)\n",
    "plt.plot(x, np.sin(np.sqrt(x)), 'r--')\n",
    "plt.plot(x, x , 'b--')\n",
    "plt.grid()\n",
    "plt.show()"
   ]
  },
  {
   "cell_type": "code",
   "execution_count": 44,
   "id": "cfbd484f",
   "metadata": {},
   "outputs": [
    {
     "data": {
      "image/png": "[encoded data removed]",
      "text/plain": [
       "<Figure size 432x288 with 1 Axes>"
      ]
     },
     "metadata": {
      "needs_background": "light"
     },
     "output_type": "display_data"
    }
   ],
   "source": [
    "x = np.arange(-5,5,0.1)\n",
    "plt.plot(x, x**3-6*x**2 + 11 *x -6.1)\n",
    "plt.grid()\n",
    "plt.show()"
   ]
  },
  {
   "cell_type": "code",
   "execution_count": 64,
   "id": "75a4148e",
   "metadata": {},
   "outputs": [
    {
     "data": {
      "text/plain": [
       "-0.09999999999999964"
      ]
     },
     "execution_count": 64,
     "metadata": {},
     "output_type": "execute_result"
    }
   ],
   "source": [
    "funcx = lambda x: x**3-6*x**2 + 11 *x -6.1\n",
    "dx = lambda x: 3*x**2 -12*x +11\n",
    "funcx(2)"
   ]
  },
  {
   "cell_type": "code",
   "execution_count": 65,
   "id": "827249df",
   "metadata": {},
   "outputs": [
    {
     "name": "stdout",
     "output_type": "stream",
     "text": [
      "root: 3.047316736908595 fx: 0.0014560307849311727 ea:  0.7016692386297088 itera:  3\n"
     ]
    }
   ],
   "source": [
    "root,fx,ea,itera = newtraph(funcx,dx,3.5,maxit=3)\n",
    "print(\"root:\" , root, \"fx:\" ,fx , \"ea: \",ea , \"itera: \" , itera)"
   ]
  },
  {
   "cell_type": "code",
   "execution_count": 66,
   "id": "315d911b",
   "metadata": {},
   "outputs": [
    {
     "name": "stdout",
     "output_type": "stream",
     "text": [
      "root: 3.2219234494376807 fx: 0.50252668485488 ea:  10.88892866220558 itera:  3\n"
     ]
    }
   ],
   "source": [
    "root,fx,ea,itera = secant(funcx,2.5,3.5,maxit=3)\n",
    "print(\"root:\" , root, \"fx:\" ,fx , \"ea: \",ea , \"itera: \" , itera)"
   ]
  },
  {
   "cell_type": "code",
   "execution_count": 67,
   "id": "a586e4d9",
   "metadata": {},
   "outputs": [
    {
     "name": "stdout",
     "output_type": "stream",
     "text": [
      "root: 3.078755725469034 fx: 0.07660732339570409 ea:  1.8357828054332774 itera:  3\n"
     ]
    }
   ],
   "source": [
    "root,fx,ea,itera = modified_secant(funcx,3.5,0.1,maxit=3)\n",
    "print(\"root:\" , root, \"fx:\" ,fx , \"ea: \",ea , \"itera: \" , itera)"
   ]
  },
  {
   "cell_type": "code",
   "execution_count": 68,
   "id": "84c4f517",
   "metadata": {},
   "outputs": [
    {
     "data": {
      "text/plain": [
       "array([3.04668053, 1.89896874, 1.05435073])"
      ]
     },
     "execution_count": 68,
     "metadata": {},
     "output_type": "execute_result"
    }
   ],
   "source": [
    "coeff = [1,-6,11,-6.1]\n",
    "np.roots(coeff)"
   ]
  },
  {
   "cell_type": "code",
   "execution_count": 90,
   "id": "56bcbdca",
   "metadata": {},
   "outputs": [
    {
     "name": "stdout",
     "output_type": "stream",
     "text": [
      "root: 0.8857088020047771 fx: 0.0 ea:  1.214163533103135e-09 itera:  6\n"
     ]
    }
   ],
   "source": [
    "funcx = lambda x: math.exp(-0.5 *x) *(4-x)-2\n",
    "dx = lambda x : -0.5 * math.exp(-0.5*x) *(4-x) - math.exp(-0.5*x)\n",
    "root,fx,ea,itera = newtraph(funcx,dx,2)\n",
    "print(\"root:\" , root, \"fx:\" ,fx , \"ea: \",ea , \"itera: \" , itera)"
   ]
  },
  {
   "cell_type": "code",
   "execution_count": 91,
   "id": "20a25adc",
   "metadata": {},
   "outputs": [
    {
     "name": "stdout",
     "output_type": "stream",
     "text": [
      "root: 6 fx: -2.0995741367357277 ea:  100 itera:  0\n"
     ]
    }
   ],
   "source": [
    "root,fx,ea,itera = newtraph(funcx,dx,6)\n",
    "print(\"root:\" , root, \"fx:\" ,fx , \"ea: \",ea , \"itera: \" , itera)"
   ]
  },
  {
   "cell_type": "code",
   "execution_count": 92,
   "id": "b54593fd",
   "metadata": {},
   "outputs": [
    {
     "name": "stdout",
     "output_type": "stream",
     "text": [
      "root: 7.212131452880263e+24 fx: -2.0 ea:  100.0 itera:  2\n"
     ]
    }
   ],
   "source": [
    "root,fx,ea,itera = newtraph(funcx,dx,8)\n",
    "print(\"root:\" , root, \"fx:\" ,fx , \"ea: \",ea , \"itera: \" , itera)"
   ]
  },
  {
   "cell_type": "code",
   "execution_count": 104,
   "id": "0437774b",
   "metadata": {},
   "outputs": [],
   "source": [
    "import numpy as np\n",
    "import math\n",
    "def bisect(func , xl , xu , es = 1.0e-4 , maxit = 100):\n",
    "    test = func(xl)* func(xu)   \n",
    "    if test >0:\n",
    "        print(\"No.\")\n",
    "        return [],[],[],[]\n",
    "    itera = 0\n",
    "    xr = xl\n",
    "    ea = 100\n",
    "    \n",
    "    while True:\n",
    "        xrold = xr\n",
    "        xr = np.float64((xl+xu)/2)    \n",
    "        itera+=1\n",
    "        if (xr!= 0):\n",
    "            ea = abs((xr-xrold)/ xr) *100\n",
    "        test = func(xl)*func(xr)\n",
    "        if(test<0):\n",
    "            xu = xr\n",
    "        elif(test > 0):\n",
    "            xl = xr\n",
    "        else :\n",
    "            ea = 0\n",
    "        if (itera >= maxit or ea <= es):\n",
    "            break\n",
    "    root = xr\n",
    "    fx = func(xr)\n",
    "    return root,fx,ea,itera    "
   ]
  },
  {
   "cell_type": "code",
   "execution_count": 100,
   "id": "1f733eb2",
   "metadata": {},
   "outputs": [
    {
     "data": {
      "image/png": "[encoded data removed]",
      "text/plain": [
       "<Figure size 432x288 with 1 Axes>"
      ]
     },
     "metadata": {
      "needs_background": "light"
     },
     "output_type": "display_data"
    }
   ],
   "source": [
    "x = np.arange(-5,5,0.1)\n",
    "plt.plot(x, -2*x**6 -1.5*x**4 +10*x+2)\n",
    "plt.grid()\n",
    "plt.show()"
   ]
  },
  {
   "cell_type": "code",
   "execution_count": 101,
   "id": "b46fc3c1",
   "metadata": {},
   "outputs": [
    {
     "name": "stdout",
     "output_type": "stream",
     "text": [
      "root: 1.3208123567463566 fx: 0.024134563683501753 ea:  0.044591711576717846 itera:  9\n"
     ]
    }
   ],
   "source": [
    "funcx = lambda x: -2*x**6 -1.5*x**4 +10*x+2\n",
    "dx = lambda x: -12*x*5 -6*x*3 +10\n",
    "root,fx,ea,itera = newtraph(funcx,dx,1 , es = 0.05)\n",
    "print(\"root:\" , root, \"fx:\" ,fx , \"ea: \",ea , \"itera: \" , itera)"
   ]
  },
  {
   "cell_type": "code",
   "execution_count": 102,
   "id": "abf59ddd",
   "metadata": {},
   "outputs": [
    {
     "name": "stdout",
     "output_type": "stream",
     "text": [
      "root: -0.1997485011884186 fx: 3.1701086200541795e-11 ea:  0.00016674413683296805 itera:  5\n"
     ]
    }
   ],
   "source": [
    "root,fx,ea,itera = secant(funcx,0,1 , es = 0.05)\n",
    "print(\"root:\" , root, \"fx:\" ,fx , \"ea: \",ea , \"itera: \" , itera)"
   ]
  },
  {
   "cell_type": "code",
   "execution_count": 103,
   "id": "fef6c521",
   "metadata": {},
   "outputs": [
    {
     "name": "stdout",
     "output_type": "stream",
     "text": [
      "root: 1.3212754836326968 fx: -1.870006567372684e-07 ea:  0.0031121553927144544 itera:  7\n"
     ]
    }
   ],
   "source": [
    "root,fx,ea,itera = modified_secant(funcx, 1 ,0.000001, es = 0.05)\n",
    "print(\"root:\" , root, \"fx:\" ,fx , \"ea: \",ea , \"itera: \" , itera)"
   ]
  },
  {
   "cell_type": "code",
   "execution_count": 105,
   "id": "f0744b8f",
   "metadata": {},
   "outputs": [
    {
     "name": "stdout",
     "output_type": "stream",
     "text": [
      "No.\n",
      "root: [] fx: [] ea:  [] itera:  []\n"
     ]
    }
   ],
   "source": [
    "root,fx,ea,itera = bisect(funcx,0,1,0.05)\n",
    "print(\"root:\" , root, \"fx:\" ,fx , \"ea: \",ea , \"itera: \" , itera)"
   ]
  },
  {
   "cell_type": "code",
   "execution_count": 2,
   "id": "5a9684a8",
   "metadata": {},
   "outputs": [],
   "source": [
    "import numpy as np\n",
    "from numpy.linalg import inv"
   ]
  },
  {
   "cell_type": "code",
   "execution_count": 54,
   "id": "35b32e36",
   "metadata": {},
   "outputs": [],
   "source": [
    "def transposing (A):        \n",
    "    row = int(A.shape[0])\n",
    "    col = int(A.shape[1])\n",
    "    result = np.zeros((col,row))\n",
    "    for i in range(0,row):\n",
    "        for j in range(0,col):\n",
    "            result[j][i] = A[i][j]\n",
    "    return result"
   ]
  },
  {
   "cell_type": "code",
   "execution_count": 108,
   "id": "ba0cdca8",
   "metadata": {},
   "outputs": [],
   "source": [
    "def permuting (A,r1,r2):\n",
    "    row = int(A.shape[0])\n",
    "    if(r1> row or r2>row):\n",
    "        print(\"row err!!!!\")\n",
    "        return\n",
    "    r1-=1\n",
    "    r2-=1\n",
    "    I = np.eye(row)\n",
    "    I[r1][r1] = 0\n",
    "    I[r2][r2] = 0\n",
    "    I[r1][r2] =1\n",
    "    I[r2][r1] = 1\n",
    "    return np.dot(I,A)"
   ]
  },
  {
   "cell_type": "code",
   "execution_count": 116,
   "id": "a110574d",
   "metadata": {},
   "outputs": [],
   "source": [
    "A = np.array([[4,7],[1,2],[5,6]])\n",
    "B = np.array([[4,3,7],[1,2,7],[2,0,4]])\n",
    "C = np.array([[3],[6],[1]])\n",
    "D = np.array([[9,4,3,-6],[2,-1,7,5]])\n",
    "E = np.array([[1,5,8],[7,2,3],[4,0,6]])\n",
    "F = np.array([[3,0,1],[1,7,3]])\n",
    "G = np.array([[7,6,4]])\n"
   ]
  },
  {
   "cell_type": "code",
   "execution_count": 117,
   "id": "e6cc7e34",
   "metadata": {},
   "outputs": [
    {
     "data": {
      "text/plain": [
       "array([[4, 7],\n",
       "       [1, 2],\n",
       "       [5, 6]])"
      ]
     },
     "execution_count": 117,
     "metadata": {},
     "output_type": "execute_result"
    }
   ],
   "source": [
    "A"
   ]
  },
  {
   "cell_type": "code",
   "execution_count": 118,
   "id": "4b4e29af",
   "metadata": {},
   "outputs": [
    {
     "data": {
      "text/plain": [
       "array([[4., 1., 5.],\n",
       "       [7., 2., 6.]])"
      ]
     },
     "execution_count": 118,
     "metadata": {},
     "output_type": "execute_result"
    }
   ],
   "source": [
    "transposing(A)"
   ]
  },
  {
   "cell_type": "code",
   "execution_count": 119,
   "id": "4fd6a711",
   "metadata": {},
   "outputs": [
    {
     "data": {
      "text/plain": [
       "array([[ 5,  8, 15],\n",
       "       [ 8,  4, 10],\n",
       "       [ 6,  0, 10]])"
      ]
     },
     "execution_count": 119,
     "metadata": {},
     "output_type": "execute_result"
    }
   ],
   "source": [
    "#1\n",
    "E+B"
   ]
  },
  {
   "cell_type": "code",
   "execution_count": 131,
   "id": "9bf771e2",
   "metadata": {},
   "outputs": [],
   "source": [
    "#2 차원이 안맞음\n",
    "A+F"
   ]
  },
  {
   "cell_type": "code",
   "execution_count": 121,
   "id": "a7addeba",
   "metadata": {},
   "outputs": [
    {
     "data": {
      "text/plain": [
       "array([[ 3, -2, -1],\n",
       "       [-6,  0,  4],\n",
       "       [-2,  0, -2]])"
      ]
     },
     "execution_count": 121,
     "metadata": {},
     "output_type": "execute_result"
    }
   ],
   "source": [
    "#3\n",
    "B-E"
   ]
  },
  {
   "cell_type": "code",
   "execution_count": 122,
   "id": "cd278125",
   "metadata": {},
   "outputs": [
    {
     "data": {
      "text/plain": [
       "array([[28, 21, 49],\n",
       "       [ 7, 14, 49],\n",
       "       [14,  0, 28]])"
      ]
     },
     "execution_count": 122,
     "metadata": {},
     "output_type": "execute_result"
    }
   ],
   "source": [
    "#4\n",
    "7*B"
   ]
  },
  {
   "cell_type": "code",
   "execution_count": 123,
   "id": "75b777d7",
   "metadata": {},
   "outputs": [
    {
     "data": {
      "text/plain": [
       "array([[3., 6., 1.]])"
      ]
     },
     "execution_count": 123,
     "metadata": {},
     "output_type": "execute_result"
    }
   ],
   "source": [
    "#5\n",
    "transposing(C)"
   ]
  },
  {
   "cell_type": "code",
   "execution_count": 124,
   "id": "faefe827",
   "metadata": {},
   "outputs": [
    {
     "data": {
      "text/plain": [
       "array([[25, 13, 74],\n",
       "       [36, 25, 75],\n",
       "       [28, 12, 52]])"
      ]
     },
     "execution_count": 124,
     "metadata": {},
     "output_type": "execute_result"
    }
   ],
   "source": [
    "#6\n",
    "np.dot(E,B)"
   ]
  },
  {
   "cell_type": "code",
   "execution_count": 125,
   "id": "23c4609f",
   "metadata": {},
   "outputs": [
    {
     "data": {
      "text/plain": [
       "array([[54, 76],\n",
       "       [41, 53],\n",
       "       [28, 38]])"
      ]
     },
     "execution_count": 125,
     "metadata": {},
     "output_type": "execute_result"
    }
   ],
   "source": [
    "#7\n",
    "np.dot(B,A)"
   ]
  },
  {
   "cell_type": "code",
   "execution_count": 126,
   "id": "8923e7cf",
   "metadata": {},
   "outputs": [
    {
     "data": {
      "text/plain": [
       "array([[ 9.,  2.],\n",
       "       [ 4., -1.],\n",
       "       [ 3.,  7.],\n",
       "       [-6.,  5.]])"
      ]
     },
     "execution_count": 126,
     "metadata": {},
     "output_type": "execute_result"
    }
   ],
   "source": [
    "#8\n",
    "transposing(D)"
   ]
  },
  {
   "cell_type": "code",
   "execution_count": 132,
   "id": "80149430",
   "metadata": {},
   "outputs": [],
   "source": [
    "#9 차원이 안맞음\n",
    "np.dot(A,C)"
   ]
  },
  {
   "cell_type": "code",
   "execution_count": 128,
   "id": "63239de7",
   "metadata": {},
   "outputs": [
    {
     "data": {
      "text/plain": [
       "array([[4., 3., 7.],\n",
       "       [1., 2., 7.],\n",
       "       [2., 0., 4.]])"
      ]
     },
     "execution_count": 128,
     "metadata": {},
     "output_type": "execute_result"
    }
   ],
   "source": [
    "#10\n",
    "np.dot(np.eye(3),B)"
   ]
  },
  {
   "cell_type": "code",
   "execution_count": 129,
   "id": "9ff88dae",
   "metadata": {},
   "outputs": [
    {
     "data": {
      "text/plain": [
       "array([[ 66.,  19.,  53.],\n",
       "       [ 19.,  29.,  46.],\n",
       "       [ 53.,  46., 109.]])"
      ]
     },
     "execution_count": 129,
     "metadata": {},
     "output_type": "execute_result"
    }
   ],
   "source": [
    "#11\n",
    "np.dot(transposing(E),E)"
   ]
  },
  {
   "cell_type": "code",
   "execution_count": 130,
   "id": "ff2124d5",
   "metadata": {},
   "outputs": [
    {
     "data": {
      "text/plain": [
       "array([[46.]])"
      ]
     },
     "execution_count": 130,
     "metadata": {},
     "output_type": "execute_result"
    }
   ],
   "source": [
    "#12\n",
    "np.dot(transposing(C),C)"
   ]
  },
  {
   "cell_type": "code",
   "execution_count": 152,
   "id": "09f13ac8",
   "metadata": {},
   "outputs": [],
   "source": [
    "A = np.array([[6,-1],[12,8],[-5,4]])\n",
    "B = np.array([[4,0],[0.5,2]])\n",
    "C = np.array([[2,-2],[3,1]])"
   ]
  },
  {
   "cell_type": "code",
   "execution_count": 114,
   "id": "8f41a27b",
   "metadata": {},
   "outputs": [
    {
     "data": {
      "text/plain": [
       "array([[ 6, -1],\n",
       "       [12,  8],\n",
       "       [-5,  4]])"
      ]
     },
     "execution_count": 114,
     "metadata": {},
     "output_type": "execute_result"
    }
   ],
   "source": [
    "A"
   ]
  },
  {
   "cell_type": "code",
   "execution_count": 115,
   "id": "14c44f4e",
   "metadata": {},
   "outputs": [
    {
     "data": {
      "text/plain": [
       "array([[ 6., -1.],\n",
       "       [-5.,  4.],\n",
       "       [12.,  8.]])"
      ]
     },
     "execution_count": 115,
     "metadata": {},
     "output_type": "execute_result"
    }
   ],
   "source": [
    "permuting(A,2,3)"
   ]
  },
  {
   "cell_type": "code",
   "execution_count": 135,
   "id": "af3954f1",
   "metadata": {},
   "outputs": [],
   "source": [
    "arr = np.array([[0,-7,5],[0,4,7],[-4,3,-7]])\n",
    "ans = np.array([[50],[-30],[70]])"
   ]
  },
  {
   "cell_type": "code",
   "execution_count": 134,
   "id": "66d97a4a",
   "metadata": {},
   "outputs": [
    {
     "data": {
      "text/plain": [
       "array([[ 0, -7,  5],\n",
       "       [ 0,  4,  7],\n",
       "       [-4,  3, -7]])"
      ]
     },
     "execution_count": 134,
     "metadata": {},
     "output_type": "execute_result"
    }
   ],
   "source": [
    "arr"
   ]
  },
  {
   "cell_type": "code",
   "execution_count": 136,
   "id": "6db1933d",
   "metadata": {},
   "outputs": [
    {
     "data": {
      "text/plain": [
       "array([[-22.68115942],\n",
       "       [ -7.24637681],\n",
       "       [ -0.14492754]])"
      ]
     },
     "execution_count": 136,
     "metadata": {},
     "output_type": "execute_result"
    }
   ],
   "source": [
    "x = np.dot(inv(arr),ans)\n",
    "x"
   ]
  },
  {
   "cell_type": "code",
   "execution_count": 137,
   "id": "61eff207",
   "metadata": {},
   "outputs": [
    {
     "data": {
      "text/plain": [
       "array([[ 0.,  0., -4.],\n",
       "       [-7.,  4.,  3.],\n",
       "       [ 5.,  7., -7.]])"
      ]
     },
     "execution_count": 137,
     "metadata": {},
     "output_type": "execute_result"
    }
   ],
   "source": [
    "transposing(arr)"
   ]
  },
  {
   "cell_type": "code",
   "execution_count": 138,
   "id": "3fe693f5",
   "metadata": {},
   "outputs": [
    {
     "data": {
      "text/plain": [
       "array([[-0.17753623, -0.12318841, -0.25      ],\n",
       "       [-0.10144928,  0.07246377, -0.        ],\n",
       "       [ 0.05797101,  0.10144928,  0.        ]])"
      ]
     },
     "execution_count": 138,
     "metadata": {},
     "output_type": "execute_result"
    }
   ],
   "source": [
    "inv(arr)"
   ]
  },
  {
   "cell_type": "code",
   "execution_count": 153,
   "id": "875245d2",
   "metadata": {},
   "outputs": [
    {
     "data": {
      "text/plain": [
       "array([[ 23.5,  -2. ],\n",
       "       [ 52. ,  16. ],\n",
       "       [-18. ,   8. ]])"
      ]
     },
     "execution_count": 153,
     "metadata": {},
     "output_type": "execute_result"
    }
   ],
   "source": [
    "np.dot(A,B)"
   ]
  },
  {
   "cell_type": "code",
   "execution_count": 154,
   "id": "6d73bcac",
   "metadata": {},
   "outputs": [
    {
     "data": {
      "text/plain": [
       "array([[  9, -13],\n",
       "       [ 48, -16],\n",
       "       [  2,  14]])"
      ]
     },
     "execution_count": 154,
     "metadata": {},
     "output_type": "execute_result"
    }
   ],
   "source": [
    "np.dot(A,C)"
   ]
  },
  {
   "cell_type": "code",
   "execution_count": 157,
   "id": "92038148",
   "metadata": {},
   "outputs": [],
   "source": [
    "#np.dot(B,A)"
   ]
  },
  {
   "cell_type": "code",
   "execution_count": 156,
   "id": "14bea5b6",
   "metadata": {},
   "outputs": [
    {
     "data": {
      "text/plain": [
       "array([[ 8., -8.],\n",
       "       [ 7.,  1.]])"
      ]
     },
     "execution_count": 156,
     "metadata": {},
     "output_type": "execute_result"
    }
   ],
   "source": [
    "np.dot(B,C)"
   ]
  },
  {
   "cell_type": "code",
   "execution_count": 149,
   "id": "319beaca",
   "metadata": {},
   "outputs": [],
   "source": [
    "#np.dot(C,A)"
   ]
  },
  {
   "cell_type": "code",
   "execution_count": 158,
   "id": "09016207",
   "metadata": {},
   "outputs": [
    {
     "data": {
      "text/plain": [
       "array([[ 7. , -4. ],\n",
       "       [12.5,  2. ]])"
      ]
     },
     "execution_count": 158,
     "metadata": {},
     "output_type": "execute_result"
    }
   ],
   "source": [
    "np.dot(C,B)"
   ]
  },
  {
   "cell_type": "code",
   "execution_count": 170,
   "id": "2c86f25d",
   "metadata": {},
   "outputs": [],
   "source": [
    "K = np.array([[130,-50,0,0,0],[-50,120,-70,0,0],[0,-70,170,-100,0],[0,0,-100,120,-20],[0,0,0,-20,20]])\n",
    "mg = np.array([[539],[735],[588],[735],[882]])\n",
    "x1 = np.array([[10],[10],[10],[10],[10]])"
   ]
  },
  {
   "cell_type": "code",
   "execution_count": 171,
   "id": "a089dfe4",
   "metadata": {},
   "outputs": [
    {
     "data": {
      "text/plain": [
       "array([[ 130,  -50,    0,    0,    0],\n",
       "       [ -50,  120,  -70,    0,    0],\n",
       "       [   0,  -70,  170, -100,    0],\n",
       "       [   0,    0, -100,  120,  -20],\n",
       "       [   0,    0,    0,  -20,   20]])"
      ]
     },
     "execution_count": 171,
     "metadata": {},
     "output_type": "execute_result"
    }
   ],
   "source": [
    "K"
   ]
  },
  {
   "cell_type": "code",
   "execution_count": 174,
   "id": "17f34a31",
   "metadata": {},
   "outputs": [],
   "source": [
    "xs = np.dot(inv(K),mg)\n",
    "xs +=x1"
   ]
  },
  {
   "cell_type": "code",
   "execution_count": 175,
   "id": "d4c7c002",
   "metadata": {},
   "outputs": [
    {
     "data": {
      "text/plain": [
       "array([[ 53.4875],\n",
       "       [112.2875],\n",
       "       [143.7875],\n",
       "       [159.9575],\n",
       "       [204.0575]])"
      ]
     },
     "execution_count": 175,
     "metadata": {},
     "output_type": "execute_result"
    }
   ],
   "source": [
    "xs"
   ]
  },
  {
   "cell_type": "code",
   "execution_count": 1,
   "id": "27772e0b",
   "metadata": {},
   "outputs": [],
   "source": [
    "import numpy as np\n",
    "import math"
   ]
  },
  {
   "cell_type": "code",
   "execution_count": 52,
   "id": "c97f61ca",
   "metadata": {},
   "outputs": [],
   "source": [
    "def GaussNaive(A,b):\n",
    "    row = int(A.shape[0])\n",
    "    col = int(A.shape[1])\n",
    "    \n",
    "    n = col\n",
    "    if (row != col):\n",
    "        print(\"Matrix A must be square!!!\")\n",
    "        return\n",
    "    nb = n+1\n",
    "    Aug = np.concatenate([A,b] , axis = 1)\n",
    "    \n",
    "    for pivot_row in range(0,n-1):\n",
    "        for row in range(pivot_row+1 , n):\n",
    "            factor = Aug[row][pivot_row]/Aug[pivot_row][pivot_row]\n",
    "            Aug[row][pivot_row:nb] -= factor * Aug[pivot_row][pivot_row:nb]\n",
    "    x = np.zeros(n)\n",
    "    x[n-1] = Aug[n-1][n] / Aug[n-1][n-1]\n",
    "    \n",
    "    print(Aug)\n",
    "    for i in range (n-2 , -1 , -1):\n",
    "        x[i] = (Aug[i][n] - np.dot(Aug[i][i+1:n] , x[i+1:n]))/ Aug[i][i]\n",
    "    return x"
   ]
  },
  {
   "cell_type": "code",
   "execution_count": 34,
   "id": "8e3e3032",
   "metadata": {},
   "outputs": [],
   "source": [
    "A = np.array([[3,-0.1,-0.2],[0.1,7,-0.3],[0.3,-0.2,10]])\n",
    "b = np.array([[7.85],[-19.3],[71.4]])"
   ]
  },
  {
   "cell_type": "code",
   "execution_count": 35,
   "id": "60f57a0c",
   "metadata": {},
   "outputs": [],
   "source": [
    "result = GaussNaive(A,b)"
   ]
  },
  {
   "cell_type": "code",
   "execution_count": 38,
   "id": "4723c9e3",
   "metadata": {},
   "outputs": [
    {
     "data": {
      "text/plain": [
       "0"
      ]
     },
     "execution_count": 38,
     "metadata": {},
     "output_type": "execute_result"
    }
   ],
   "source": [
    "abs(Aug[1: , 1]).argmax()"
   ]
  },
  {
   "cell_type": "code",
   "execution_count": 36,
   "id": "2662c049",
   "metadata": {},
   "outputs": [
    {
     "data": {
      "text/plain": [
       "array([ 3. , -2.5,  7. ])"
      ]
     },
     "execution_count": 36,
     "metadata": {},
     "output_type": "execute_result"
    }
   ],
   "source": [
    "result"
   ]
  },
  {
   "cell_type": "code",
   "execution_count": 21,
   "id": "4ccbed3a",
   "metadata": {},
   "outputs": [
    {
     "name": "stdout",
     "output_type": "stream",
     "text": [
      "[[ 3.  -0.1 -0.2]\n",
      " [ 0.1  7.  -0.3]\n",
      " [ 0.3 -0.2 10. ]]\n"
     ]
    }
   ],
   "source": [
    "print(A)"
   ]
  },
  {
   "cell_type": "code",
   "execution_count": 53,
   "id": "33236ef2",
   "metadata": {},
   "outputs": [],
   "source": [
    "def P_GaussNaive(A,b):\n",
    "    row = int(A.shape[0])\n",
    "    col = int(A.shape[1])\n",
    "    \n",
    "    n = col\n",
    "    if (row != col):\n",
    "        print(\"Matrix A must be square!!!\")\n",
    "        return\n",
    "    nb = n+1\n",
    "    Aug = np.concatenate([A,b] , axis = 1)\n",
    "    \n",
    "    for pivot_row in range(0,n-1):\n",
    "        maxindex = abs(Aug[pivot_row: , pivot_row]).argmax()\n",
    "        ipr = maxindex + pivot_row\n",
    "        \n",
    "        if (ipr != pivot_row):\n",
    "            Aug[[pivot_row,ipr]] = Aug[[ipr,pivot_row]]\n",
    "        for row in range(pivot_row+1 , n):\n",
    "            factor = Aug[row][pivot_row]/Aug[pivot_row][pivot_row]\n",
    "            Aug[row][pivot_row:nb] -= factor * Aug[pivot_row][pivot_row:nb]\n",
    "    x = np.zeros(n)\n",
    "    x[n-1] = Aug[n-1][n] / Aug[n-1][n-1]\n",
    "    \n",
    "    print(Aug)\n",
    "    for i in range (n-2 , -1 , -1):\n",
    "        x[i] = (Aug[i][n] - np.dot(Aug[i][i+1:n] , x[i+1:n]))/ Aug[i][i]\n",
    "    return x\n",
    "    "
   ]
  },
  {
   "cell_type": "code",
   "execution_count": 54,
   "id": "9a830333",
   "metadata": {},
   "outputs": [],
   "source": [
    "A = np.array([[0.0003 , 3.0000] , [1.0000 , 1.0000]])\n",
    "b = np.array([[2.0001], [1.0000]])"
   ]
  },
  {
   "cell_type": "code",
   "execution_count": 55,
   "id": "e43da909",
   "metadata": {},
   "outputs": [
    {
     "name": "stdout",
     "output_type": "stream",
     "text": [
      "[[1.     1.     1.    ]\n",
      " [0.     2.9997 1.9998]]\n"
     ]
    },
    {
     "data": {
      "text/plain": [
       "array([0.33333333, 0.66666667])"
      ]
     },
     "execution_count": 55,
     "metadata": {},
     "output_type": "execute_result"
    }
   ],
   "source": [
    "P_GaussNaive(A,b)"
   ]
  },
  {
   "cell_type": "code",
   "execution_count": 56,
   "id": "d6f3d487",
   "metadata": {},
   "outputs": [
    {
     "name": "stdout",
     "output_type": "stream",
     "text": [
      "[[ 3.0000e-04  3.0000e+00  2.0001e+00]\n",
      " [ 0.0000e+00 -9.9990e+03 -6.6660e+03]]\n"
     ]
    },
    {
     "data": {
      "text/plain": [
       "array([0.33333333, 0.66666667])"
      ]
     },
     "execution_count": 56,
     "metadata": {},
     "output_type": "execute_result"
    }
   ],
   "source": [
    "GaussNaive(A,b)"
   ]
  },
  {
   "cell_type": "code",
   "execution_count": 1,
   "id": "33298718",
   "metadata": {},
   "outputs": [],
   "source": [
    "import numpy as np\n",
    "import math"
   ]
  },
  {
   "cell_type": "code",
   "execution_count": 7,
   "id": "5c42c09a",
   "metadata": {},
   "outputs": [],
   "source": [
    "def pentadiag(d,e,f,g,h,r):\n",
    "    n = len(f)\n",
    "    result = [0 for i in range(n)]\n",
    "    factor = e[1]/f[0]\n",
    "    f[1] = f[1] - factor * g[0]\n",
    "    g[1] = g[1] - factor * h[0]\n",
    "    r[1] = r[1] - factor * r[0]\n",
    "    for i in range(2,n):\n",
    "        factor = d[i]/f[i-2]\n",
    "        f[i] = f[i] - factor * h[i-2]\n",
    "        e[i] = e[i] - factor * g[i-2]\n",
    "        r[i] = r[i] - factor * r[i-2]\n",
    "        factor = e[i]/f[i-1]\n",
    "        f[i] = f[i] - factor * g[i-1]\n",
    "        if(i!= n-1):\n",
    "            g[i] = g[i] - factor * h[i-1]\n",
    "        r[i] = r[i] - factor * r[i-1]\n",
    "    result[n-1] = r[n-1]/f[n-1]\n",
    "    result[n-2] = (r[n-2] - g[n-2] * result[n-1])/f[n-2]\n",
    "    for i in range(n-3, -1 , -1):\n",
    "        result[i] = (r[i] - (g[i]*result[i+1]) - (h[i]*result[i+2]))/f[i]\n",
    "    return result"
   ]
  },
  {
   "cell_type": "code",
   "execution_count": 25,
   "id": "eb8bb358",
   "metadata": {},
   "outputs": [],
   "source": [
    "d = [0,0,-1,-4,-7]\n",
    "e = [0,-2,-3,-2,-3]\n",
    "f = [8,9,7,12,-15]\n",
    "g = [-2,-4,-1,-5,0]\n",
    "h = [-1,-1,-2,0,0]\n",
    "r = [5,2,1,1,5]"
   ]
  },
  {
   "cell_type": "code",
   "execution_count": 28,
   "id": "5b73b92c",
   "metadata": {},
   "outputs": [],
   "source": [
    "x = pentadiag(d,e,f,g,h,r)"
   ]
  },
  {
   "cell_type": "code",
   "execution_count": 29,
   "id": "2a67a382",
   "metadata": {},
   "outputs": [
    {
     "data": {
      "text/plain": [
       "[0.8177834085297273,\n",
       " 0.5837265522991997,\n",
       " 0.3748141636394193,\n",
       " 0.11871549907566603,\n",
       " -0.5319897095135289]"
      ]
     },
     "execution_count": 29,
     "metadata": {},
     "output_type": "execute_result"
    }
   ],
   "source": [
    "x"
   ]
  },
  {
   "cell_type": "code",
   "execution_count": 30,
   "id": "38da9fda",
   "metadata": {},
   "outputs": [],
   "source": [
    "A = np.array([[8,-2,-1,0,0],[-2,9,-4,-1,0],[-1,-3,7,-1,-2],[0,-4,-2,12,-5],[0,0,-7,-3,-15]])\n",
    "x = np.array([[0.8177834085297273],[0.5837265522991997],[0.3748141636394193],[0.11871549907566603],[-0.5319897095135289]])"
   ]
  },
  {
   "cell_type": "code",
   "execution_count": 31,
   "id": "3d9f7f66",
   "metadata": {},
   "outputs": [
    {
     "data": {
      "text/plain": [
       "array([[5.],\n",
       "       [2.],\n",
       "       [1.],\n",
       "       [1.],\n",
       "       [5.]])"
      ]
     },
     "execution_count": 31,
     "metadata": {},
     "output_type": "execute_result"
    }
   ],
   "source": [
    "np.dot(A,x)"
   ]
  },
  {
   "cell_type": "code",
   "execution_count": 46,
   "id": "957a2d4b",
   "metadata": {},
   "outputs": [],
   "source": [
    "def P_GaussNaive(A,b,tol):\n",
    "    t = np.linalg.det(A)\n",
    "    t = abs(t)\n",
    "    if(t< tol):\n",
    "        print(\"Det is  close to zero!!!\")\n",
    "        return\n",
    "    row = int(A.shape[0])\n",
    "    col = int(A.shape[1])\n",
    "    \n",
    "    n = col\n",
    "    if (row != col):\n",
    "        print(\"Matrix A must be square!!!\")\n",
    "        return\n",
    "    nb = n+1\n",
    "    Aug = np.concatenate([A,b] , axis = 1)\n",
    "    \n",
    "    for pivot_row in range(0,n-1):\n",
    "        maxindex = abs(Aug[pivot_row: , pivot_row]).argmax()\n",
    "        ipr = maxindex + pivot_row\n",
    "        \n",
    "        if (ipr != pivot_row):\n",
    "            Aug[[pivot_row,ipr]] = Aug[[ipr,pivot_row]]\n",
    "        for row in range(pivot_row+1 , n):\n",
    "            factor = Aug[row][pivot_row]/Aug[pivot_row][pivot_row]\n",
    "            Aug[row][pivot_row:nb] -= factor * Aug[pivot_row][pivot_row:nb]\n",
    "    x = np.zeros(n)\n",
    "    x[n-1] = Aug[n-1][n] / Aug[n-1][n-1]\n",
    "    \n",
    "    for i in range (n-2 , -1 , -1):\n",
    "        x[i] = (Aug[i][n] - np.dot(Aug[i][i+1:n] , x[i+1:n]))/ Aug[i][i]\n",
    "    return x"
   ]
  },
  {
   "cell_type": "code",
   "execution_count": 47,
   "id": "9e5bb6a1",
   "metadata": {},
   "outputs": [],
   "source": [
    "A = np.array([[0.5,-1],[1.02,-2]])\n",
    "b = np.array([[-9.5],[-18.8]])\n",
    "tol = 1 * (10**-5)"
   ]
  },
  {
   "cell_type": "code",
   "execution_count": 48,
   "id": "de007f21",
   "metadata": {},
   "outputs": [],
   "source": [
    "x = P_GaussNaive(A,b,tol)"
   ]
  },
  {
   "cell_type": "code",
   "execution_count": 49,
   "id": "479b2357",
   "metadata": {},
   "outputs": [
    {
     "data": {
      "text/plain": [
       "array([10. , 14.5])"
      ]
     },
     "execution_count": 49,
     "metadata": {},
     "output_type": "execute_result"
    }
   ],
   "source": [
    "x"
   ]
  },
  {
   "cell_type": "code",
   "execution_count": 1,
   "id": "3d8bdd7c",
   "metadata": {},
   "outputs": [],
   "source": [
    "import numpy as np"
   ]
  },
  {
   "cell_type": "code",
   "execution_count": 4,
   "id": "e8141b42",
   "metadata": {},
   "outputs": [],
   "source": [
    "L = np.array([[1,0,0] , [0.286,1,0],[0.143,-0.29,1]])\n",
    "U = np.array([[7,2,-3], [0,4.428,-2.15],[0,0,-6.195]])"
   ]
  },
  {
   "cell_type": "code",
   "execution_count": 6,
   "id": "50e485b1",
   "metadata": {},
   "outputs": [],
   "source": [
    "A = np.dot(L,U)"
   ]
  },
  {
   "cell_type": "code",
   "execution_count": 7,
   "id": "877e5df3",
   "metadata": {},
   "outputs": [],
   "source": [
    "X = np.array([[0.938],[3.564],[0.564]])"
   ]
  },
  {
   "cell_type": "code",
   "execution_count": 8,
   "id": "d5ef9f1d",
   "metadata": {},
   "outputs": [
    {
     "data": {
      "text/plain": [
       "array([[12.002     ],\n",
       "       [18.001364  ],\n",
       "       [-6.00264368]])"
      ]
     },
     "execution_count": 8,
     "metadata": {},
     "output_type": "execute_result"
    }
   ],
   "source": [
    "np.dot(A,X)"
   ]
  },
  {
   "cell_type": "code",
   "execution_count": 9,
   "id": "42539869",
   "metadata": {},
   "outputs": [],
   "source": [
    "U = np.array([[2.83,7.07,5.65],[0,5.48,1.83],[0,0,4.97]])"
   ]
  },
  {
   "cell_type": "code",
   "execution_count": 11,
   "id": "4d3b2875",
   "metadata": {},
   "outputs": [],
   "source": [
    "A = np.dot(U.T,U)"
   ]
  },
  {
   "cell_type": "code",
   "execution_count": 12,
   "id": "3fa2507d",
   "metadata": {},
   "outputs": [],
   "source": [
    "X = np.array([[17.18],[1.35],[-4.04]])"
   ]
  },
  {
   "cell_type": "code",
   "execution_count": 13,
   "id": "eb709a93",
   "metadata": {},
   "outputs": [
    {
     "data": {
      "text/plain": [
       "array([[100.006257],\n",
       "       [249.865257],\n",
       "       [ 99.876283]])"
      ]
     },
     "execution_count": 13,
     "metadata": {},
     "output_type": "execute_result"
    }
   ],
   "source": [
    "np.dot(A,X)"
   ]
  },
  {
   "cell_type": "code",
   "execution_count": 14,
   "id": "8e9aeb9b",
   "metadata": {},
   "outputs": [],
   "source": [
    "U = np.array([[1.41,-0.71,0],[0,1.22,0.82],[0,0,1.15]])"
   ]
  },
  {
   "cell_type": "code",
   "execution_count": 15,
   "id": "6c459b38",
   "metadata": {
    "scrolled": true
   },
   "outputs": [
    {
     "data": {
      "text/plain": [
       "array([[ 1.9881, -1.0011,  0.    ],\n",
       "       [-1.0011,  1.9925,  1.0004],\n",
       "       [ 0.    ,  1.0004,  1.9949]])"
      ]
     },
     "execution_count": 15,
     "metadata": {},
     "output_type": "execute_result"
    }
   ],
   "source": [
    "np.dot(U.T,U)"
   ]
  },
  {
   "cell_type": "code",
   "execution_count": 84,
   "id": "99f1a3c4",
   "metadata": {},
   "outputs": [],
   "source": [
    "from scipy.linalg import lu\n",
    "import numpy as np\n",
    "from numpy.linalg import inv\n",
    "from numpy.linalg import cond"
   ]
  },
  {
   "cell_type": "code",
   "execution_count": 3,
   "id": "3964b900",
   "metadata": {},
   "outputs": [],
   "source": [
    "A = np.array([[10,2,-1],[-3,-6,2],[1,1,5]])\n",
    "X1 = np.array([[1],[0],[0]])\n",
    "X2 = np.array([[0],[1],[0]])\n",
    "X3 = np.array ([[0],[0],[1]])"
   ]
  },
  {
   "cell_type": "code",
   "execution_count": 4,
   "id": "d7351974",
   "metadata": {},
   "outputs": [],
   "source": [
    "p,l,u = lu(A)"
   ]
  },
  {
   "cell_type": "code",
   "execution_count": 5,
   "id": "fde41c5e",
   "metadata": {},
   "outputs": [
    {
     "data": {
      "text/plain": [
       "array([[ 1.        ,  0.        ,  0.        ],\n",
       "       [-0.3       ,  1.        ,  0.        ],\n",
       "       [ 0.1       , -0.14814815,  1.        ]])"
      ]
     },
     "execution_count": 5,
     "metadata": {},
     "output_type": "execute_result"
    }
   ],
   "source": [
    "l"
   ]
  },
  {
   "cell_type": "code",
   "execution_count": 6,
   "id": "a82dbb34",
   "metadata": {},
   "outputs": [
    {
     "data": {
      "text/plain": [
       "array([[10.        ,  2.        , -1.        ],\n",
       "       [ 0.        , -5.4       ,  1.7       ],\n",
       "       [ 0.        ,  0.        ,  5.35185185]])"
      ]
     },
     "execution_count": 6,
     "metadata": {},
     "output_type": "execute_result"
    }
   ],
   "source": [
    "u"
   ]
  },
  {
   "cell_type": "code",
   "execution_count": 10,
   "id": "f28def63",
   "metadata": {},
   "outputs": [],
   "source": [
    "d1 = np.dot(inv(l),X1)\n",
    "A1i = np.dot(inv(u),d1)\n",
    "d2 = np.dot(inv(l),X2)\n",
    "A2i = np.dot(inv(u),d2)\n",
    "d3 = np.dot(inv(l),X3)\n",
    "A3i = np.dot(inv(u),d3)"
   ]
  },
  {
   "cell_type": "code",
   "execution_count": 16,
   "id": "0753f0b1",
   "metadata": {},
   "outputs": [],
   "source": [
    "Ai = np.concatenate((A1i,A2i,A3i),axis =1)"
   ]
  },
  {
   "cell_type": "code",
   "execution_count": 17,
   "id": "282470ac",
   "metadata": {},
   "outputs": [
    {
     "data": {
      "text/plain": [
       "array([[ 0.11072664,  0.03806228,  0.00692042],\n",
       "       [-0.05882353, -0.17647059,  0.05882353],\n",
       "       [-0.01038062,  0.02768166,  0.18685121]])"
      ]
     },
     "execution_count": 17,
     "metadata": {},
     "output_type": "execute_result"
    }
   ],
   "source": [
    "Ai"
   ]
  },
  {
   "cell_type": "code",
   "execution_count": 18,
   "id": "77d8a58d",
   "metadata": {},
   "outputs": [
    {
     "data": {
      "text/plain": [
       "array([[ 1.00000000e+00,  3.12250226e-17,  0.00000000e+00],\n",
       "       [ 3.46944695e-17,  1.00000000e+00,  5.55111512e-17],\n",
       "       [-2.08166817e-17,  2.77555756e-17,  1.00000000e+00]])"
      ]
     },
     "execution_count": 18,
     "metadata": {},
     "output_type": "execute_result"
    }
   ],
   "source": [
    "np.dot(A,Ai)"
   ]
  },
  {
   "cell_type": "code",
   "execution_count": 19,
   "id": "6d931b68",
   "metadata": {},
   "outputs": [],
   "source": [
    "A = np.array([[-8,1,-2],[2,-6,-1],[-3,-1,7]])"
   ]
  },
  {
   "cell_type": "code",
   "execution_count": 24,
   "id": "42e0299e",
   "metadata": {},
   "outputs": [],
   "source": [
    "p,l,u = lu(A)"
   ]
  },
  {
   "cell_type": "code",
   "execution_count": 25,
   "id": "3d93eda0",
   "metadata": {},
   "outputs": [],
   "source": [
    "d1 = np.dot(inv(l),X1)\n",
    "A1i = np.dot(inv(u),d1)\n",
    "d2 = np.dot(inv(l),X2)\n",
    "A2i = np.dot(inv(u),d2)\n",
    "d3 = np.dot(inv(l),X3)\n",
    "A3i = np.dot(inv(u),d3)"
   ]
  },
  {
   "cell_type": "code",
   "execution_count": 26,
   "id": "87c2d615",
   "metadata": {},
   "outputs": [],
   "source": [
    "Ai = np.concatenate((A1i,A2i,A3i),axis =1)"
   ]
  },
  {
   "cell_type": "code",
   "execution_count": 27,
   "id": "dc377196",
   "metadata": {},
   "outputs": [
    {
     "data": {
      "text/plain": [
       "array([[-0.1152815 , -0.01340483, -0.03485255],\n",
       "       [-0.02949062, -0.16621984, -0.03217158],\n",
       "       [-0.0536193 , -0.02949062,  0.1233244 ]])"
      ]
     },
     "execution_count": 27,
     "metadata": {},
     "output_type": "execute_result"
    }
   ],
   "source": [
    "Ai"
   ]
  },
  {
   "cell_type": "code",
   "execution_count": 28,
   "id": "098f9519",
   "metadata": {},
   "outputs": [
    {
     "data": {
      "text/plain": [
       "array([[1.00000000e+00, 0.00000000e+00, 0.00000000e+00],\n",
       "       [1.38777878e-17, 1.00000000e+00, 4.16333634e-17],\n",
       "       [5.55111512e-17, 0.00000000e+00, 1.00000000e+00]])"
      ]
     },
     "execution_count": 28,
     "metadata": {},
     "output_type": "execute_result"
    }
   ],
   "source": [
    "np.dot (A,Ai)"
   ]
  },
  {
   "cell_type": "code",
   "execution_count": 31,
   "id": "2f39a1c3",
   "metadata": {},
   "outputs": [],
   "source": [
    "A = np.array([[8,2,-10],[-9,1,3],[15,-1,6]])"
   ]
  },
  {
   "cell_type": "code",
   "execution_count": 32,
   "id": "75771882",
   "metadata": {},
   "outputs": [
    {
     "data": {
      "text/plain": [
       "array([[  8,   2, -10],\n",
       "       [ -9,   1,   3],\n",
       "       [ 15,  -1,   6]])"
      ]
     },
     "execution_count": 32,
     "metadata": {},
     "output_type": "execute_result"
    }
   ],
   "source": [
    "A"
   ]
  },
  {
   "cell_type": "code",
   "execution_count": 37,
   "id": "5fafb424",
   "metadata": {},
   "outputs": [],
   "source": [
    "A = np.array([[8/8,2/8,-10/8],[-9/3,1/3,3/3],[15/15,-1/15,6/15]])"
   ]
  },
  {
   "cell_type": "code",
   "execution_count": 38,
   "id": "7c5d9fa0",
   "metadata": {},
   "outputs": [
    {
     "data": {
      "text/plain": [
       "array([[ 1.        ,  0.25      , -1.25      ],\n",
       "       [-3.        ,  0.33333333,  1.        ],\n",
       "       [ 1.        , -0.06666667,  0.4       ]])"
      ]
     },
     "execution_count": 38,
     "metadata": {},
     "output_type": "execute_result"
    }
   ],
   "source": [
    "A"
   ]
  },
  {
   "cell_type": "code",
   "execution_count": 39,
   "id": "a671ad5d",
   "metadata": {},
   "outputs": [],
   "source": [
    "import math"
   ]
  },
  {
   "cell_type": "code",
   "execution_count": 40,
   "id": "6ead3ba8",
   "metadata": {},
   "outputs": [],
   "source": [
    "#||A||f\n",
    "Af = math.sqrt(1**2 + (0.25)**2 + (-1.25)**2 + (-3)**2 + (0.333)**2 + 1 + 1 + (0.666)**2 + (0.4 )**2)"
   ]
  },
  {
   "cell_type": "code",
   "execution_count": 41,
   "id": "041e6381",
   "metadata": {},
   "outputs": [
    {
     "data": {
      "text/plain": [
       "3.7867459645452852"
      ]
     },
     "execution_count": 41,
     "metadata": {},
     "output_type": "execute_result"
    }
   ],
   "source": [
    "Af"
   ]
  },
  {
   "cell_type": "code",
   "execution_count": 45,
   "id": "ab207fcb",
   "metadata": {},
   "outputs": [],
   "source": [
    "A1 = 0.25 + 0.333 -0.666"
   ]
  },
  {
   "cell_type": "code",
   "execution_count": 46,
   "id": "754c8cdc",
   "metadata": {},
   "outputs": [
    {
     "data": {
      "text/plain": [
       "-0.08300000000000007"
      ]
     },
     "execution_count": 46,
     "metadata": {},
     "output_type": "execute_result"
    }
   ],
   "source": [
    "A1"
   ]
  },
  {
   "cell_type": "code",
   "execution_count": 47,
   "id": "0b42509b",
   "metadata": {},
   "outputs": [],
   "source": [
    "Ainf = 1-0.666+0.4"
   ]
  },
  {
   "cell_type": "code",
   "execution_count": 48,
   "id": "99b174a7",
   "metadata": {},
   "outputs": [
    {
     "data": {
      "text/plain": [
       "0.734"
      ]
     },
     "execution_count": 48,
     "metadata": {},
     "output_type": "execute_result"
    }
   ],
   "source": [
    "Ainf"
   ]
  },
  {
   "cell_type": "code",
   "execution_count": 51,
   "id": "7da3a999",
   "metadata": {},
   "outputs": [],
   "source": [
    "A1 = np.array([[-8,1,-2],[2,-6,-1],[-3,-1,7]])\n",
    "A2 = np.array([[15,-3,-1],[-3,18,-6],[-4,-1,12]])"
   ]
  },
  {
   "cell_type": "code",
   "execution_count": 72,
   "id": "477bc9e3",
   "metadata": {},
   "outputs": [],
   "source": [
    "def fro_norm(A):\n",
    "    result  = 0\n",
    "    for i in range (0,len(A)):\n",
    "        for j in range (0,len(A)):\n",
    "            result += A[i][j] * A[i][j]\n",
    "    result = math.sqrt(result)\n",
    "    return result\n",
    "def inf_norm(A):\n",
    "    result = -123456789\n",
    "    for i in range (0,len(A)):\n",
    "        temp =0\n",
    "        for j in range(0,len(A)):\n",
    "            temp+=abs(A[i][j])\n",
    "        if(temp>result):\n",
    "            result = temp\n",
    "    return result"
   ]
  },
  {
   "cell_type": "code",
   "execution_count": 73,
   "id": "6fee2158",
   "metadata": {},
   "outputs": [
    {
     "data": {
      "text/plain": [
       "array([[-8,  1, -2],\n",
       "       [ 2, -6, -1],\n",
       "       [-3, -1,  7]])"
      ]
     },
     "execution_count": 73,
     "metadata": {},
     "output_type": "execute_result"
    }
   ],
   "source": [
    "A1"
   ]
  },
  {
   "cell_type": "code",
   "execution_count": 74,
   "id": "bf49df07",
   "metadata": {},
   "outputs": [
    {
     "data": {
      "text/plain": [
       "13.0"
      ]
     },
     "execution_count": 74,
     "metadata": {},
     "output_type": "execute_result"
    }
   ],
   "source": [
    "fro_norm(A1)"
   ]
  },
  {
   "cell_type": "code",
   "execution_count": 75,
   "id": "e548fc6d",
   "metadata": {},
   "outputs": [
    {
     "data": {
      "text/plain": [
       "11"
      ]
     },
     "execution_count": 75,
     "metadata": {},
     "output_type": "execute_result"
    }
   ],
   "source": [
    "inf_norm(A1)"
   ]
  },
  {
   "cell_type": "code",
   "execution_count": 76,
   "id": "239479ad",
   "metadata": {},
   "outputs": [
    {
     "data": {
      "text/plain": [
       "array([[15, -3, -1],\n",
       "       [-3, 18, -6],\n",
       "       [-4, -1, 12]])"
      ]
     },
     "execution_count": 76,
     "metadata": {},
     "output_type": "execute_result"
    }
   ],
   "source": [
    "A2"
   ]
  },
  {
   "cell_type": "code",
   "execution_count": 77,
   "id": "ede66252",
   "metadata": {},
   "outputs": [
    {
     "data": {
      "text/plain": [
       "27.65863337187866"
      ]
     },
     "execution_count": 77,
     "metadata": {},
     "output_type": "execute_result"
    }
   ],
   "source": [
    "fro_norm(A2)"
   ]
  },
  {
   "cell_type": "code",
   "execution_count": 78,
   "id": "c412731a",
   "metadata": {},
   "outputs": [
    {
     "data": {
      "text/plain": [
       "27"
      ]
     },
     "execution_count": 78,
     "metadata": {},
     "output_type": "execute_result"
    }
   ],
   "source": [
    "inf_norm(A2)"
   ]
  },
  {
   "cell_type": "code",
   "execution_count": 79,
   "id": "6c1ff855",
   "metadata": {},
   "outputs": [],
   "source": [
    "A = np.array([[16/16,4/16,1/16],[4/4,2/4,1/4],[49/49,7/49,1/49]])\n",
    "Ai = inv(A)"
   ]
  },
  {
   "cell_type": "code",
   "execution_count": 80,
   "id": "2570fb9a",
   "metadata": {},
   "outputs": [
    {
     "data": {
      "text/plain": [
       "array([[1.        , 0.25      , 0.0625    ],\n",
       "       [1.        , 0.5       , 0.25      ],\n",
       "       [1.        , 0.14285714, 0.02040816]])"
      ]
     },
     "execution_count": 80,
     "metadata": {},
     "output_type": "execute_result"
    }
   ],
   "source": [
    "A"
   ]
  },
  {
   "cell_type": "code",
   "execution_count": 81,
   "id": "4eaa2234",
   "metadata": {},
   "outputs": [
    {
     "data": {
      "text/plain": [
       "array([[ -2.66666667,   0.4       ,   3.26666667],\n",
       "       [ 24.        ,  -4.4       , -19.6       ],\n",
       "       [-37.33333333,  11.2       ,  26.13333333]])"
      ]
     },
     "execution_count": 81,
     "metadata": {},
     "output_type": "execute_result"
    }
   ],
   "source": [
    "Ai"
   ]
  },
  {
   "cell_type": "code",
   "execution_count": 82,
   "id": "0d890fdc",
   "metadata": {},
   "outputs": [],
   "source": [
    "condi = inf_norm(A) * inf_norm(Ai)"
   ]
  },
  {
   "cell_type": "code",
   "execution_count": 83,
   "id": "3b0096df",
   "metadata": {},
   "outputs": [
    {
     "data": {
      "text/plain": [
       "130.66666666666669"
      ]
     },
     "execution_count": 83,
     "metadata": {},
     "output_type": "execute_result"
    }
   ],
   "source": [
    "condi"
   ]
  },
  {
   "cell_type": "code",
   "execution_count": 85,
   "id": "387e7e6e",
   "metadata": {},
   "outputs": [
    {
     "data": {
      "text/plain": [
       "102.74429879133119"
      ]
     },
     "execution_count": 85,
     "metadata": {},
     "output_type": "execute_result"
    }
   ],
   "source": [
    "cond(A)"
   ]
  },
  {
   "cell_type": "code",
   "execution_count": 86,
   "id": "785d42ad",
   "metadata": {},
   "outputs": [
    {
     "data": {
      "text/plain": [
       "104.29709860538577"
      ]
     },
     "execution_count": 86,
     "metadata": {},
     "output_type": "execute_result"
    }
   ],
   "source": [
    "fro_norm(A) * fro_norm(Ai)"
   ]
  },
  {
   "cell_type": "code",
   "execution_count": 105,
   "id": "858ace88",
   "metadata": {},
   "outputs": [],
   "source": [
    "import numpy as np\n",
    "import math\n",
    "from numpy.linalg import inv"
   ]
  },
  {
   "cell_type": "code",
   "execution_count": 96,
   "id": "c98034de",
   "metadata": {},
   "outputs": [],
   "source": [
    "def gauss_seidel_itera(A,b,es = 1.0e-4, maxit = 100,lamb = 1):\n",
    "    row = int(A.shape[0])\n",
    "    col = int(A.shape[1])\n",
    "    \n",
    "    if (row != col):\n",
    "        print(\"matrix A must be square!!!!\")\n",
    "        return\n",
    "    C = np.zeros((row,col))\n",
    "    for i in range(0,row):\n",
    "        for j in range(0,col):\n",
    "            C[i][j] = float(A[i][j])\n",
    "    x= np.zeros((row,1))\n",
    "    xold = np.zeros((row,1))\n",
    "    xtemp = np.zeros((row,1))\n",
    "    ea = np.zeros((row,1))\n",
    "    d = np.zeros((row,1))\n",
    "    n = row\n",
    "\n",
    "    for i in range(0,n):\n",
    "        for j in range(0,n):\n",
    "            C[i][j] = C[i][j]/A[i][i]\n",
    "    for i in range(0,n):\n",
    "        C[i][i] = 0\n",
    "    for i in range(0,n):\n",
    "        d[i][0] = b[i][0]/A[i][i]\n",
    "    itera = 0\n",
    "    while True:\n",
    "        for i in range(0,n):\n",
    "            xold[i][0] = x[i][0]\n",
    "        for i in range(0,n):\n",
    "            xtemp[i][0] = d[i][0] - float(np.dot(C[i],x))\n",
    "            x[i][0] = lamb * xtemp[i][0] + (1-lamb)*xold[i][0]\n",
    "            if(x[i][0] !=0):\n",
    "                ea[i][0] = abs((x[i][0] - xold[i][0])/x[i][0]) *100\n",
    "        itera +=1\n",
    "        if(float(max(ea)) <= es or itera >= maxit ):\n",
    "            break\n",
    "    return x"
   ]
  },
  {
   "cell_type": "code",
   "execution_count": 108,
   "id": "75656218",
   "metadata": {},
   "outputs": [],
   "source": [
    "A = np.array([[3,8],[6,-1]])\n",
    "b = np.array([[11],[5]])"
   ]
  },
  {
   "cell_type": "code",
   "execution_count": 109,
   "id": "c5cabd18",
   "metadata": {},
   "outputs": [],
   "source": [
    "result = gauss_seidel_itera(A,b,maxit = 3,lamb = 1.25)"
   ]
  },
  {
   "cell_type": "code",
   "execution_count": 110,
   "id": "20790da1",
   "metadata": {},
   "outputs": [
    {
     "data": {
      "text/plain": [
       "array([[ 2329.24479167],\n",
       "       [17635.7421875 ]])"
      ]
     },
     "execution_count": 110,
     "metadata": {},
     "output_type": "execute_result"
    }
   ],
   "source": [
    "result"
   ]
  },
  {
   "cell_type": "code",
   "execution_count": 116,
   "id": "4eae6563",
   "metadata": {},
   "outputs": [],
   "source": [
    "A = np.array([[6,-1],[3,8]])\n",
    "b = np.array([[5],[11]])"
   ]
  },
  {
   "cell_type": "code",
   "execution_count": 117,
   "id": "515d3701",
   "metadata": {},
   "outputs": [],
   "source": [
    "result = gauss_seidel_itera(A,b,maxit = 3,lamb = 1.25)"
   ]
  },
  {
   "cell_type": "code",
   "execution_count": 118,
   "id": "b8bb4983",
   "metadata": {},
   "outputs": [
    {
     "data": {
      "text/plain": [
       "array([[0.97492536],\n",
       "       [1.03056401]])"
      ]
     },
     "execution_count": 118,
     "metadata": {},
     "output_type": "execute_result"
    }
   ],
   "source": [
    "result"
   ]
  },
  {
   "cell_type": "code",
   "execution_count": 123,
   "id": "9985dabe",
   "metadata": {},
   "outputs": [
    {
     "data": {
      "text/plain": [
       "0.025074640909830803"
      ]
     },
     "execution_count": 123,
     "metadata": {},
     "output_type": "execute_result"
    }
   ],
   "source": [
    "abs((1-result[0][0])/1)"
   ]
  },
  {
   "cell_type": "code",
   "execution_count": 122,
   "id": "872583e7",
   "metadata": {},
   "outputs": [
    {
     "data": {
      "text/plain": [
       "0.03056401014328003"
      ]
     },
     "execution_count": 122,
     "metadata": {},
     "output_type": "execute_result"
    }
   ],
   "source": [
    "abs((1-result[1][0])/1)"
   ]
  },
  {
   "cell_type": "code",
   "execution_count": 101,
   "id": "ae611113",
   "metadata": {},
   "outputs": [],
   "source": [
    "A = np.array([[3,-0.1,-0.2],[0.1,7,-0.3],[0.3,-0.2,10]])\n",
    "b = np.array([[7.85],[-19.3],[71.4]])"
   ]
  },
  {
   "cell_type": "code",
   "execution_count": 103,
   "id": "1ba6174d",
   "metadata": {},
   "outputs": [],
   "source": [
    "result = gauss_seidel_itera(A,b,es = 0.05)"
   ]
  },
  {
   "cell_type": "code",
   "execution_count": 104,
   "id": "1c676679",
   "metadata": {},
   "outputs": [
    {
     "data": {
      "text/plain": [
       "array([[ 3.00000035],\n",
       "       [-2.50000004],\n",
       "       [ 6.99999999]])"
      ]
     },
     "execution_count": 104,
     "metadata": {},
     "output_type": "execute_result"
    }
   ],
   "source": [
    "result"
   ]
  },
  {
   "cell_type": "code",
   "execution_count": 124,
   "id": "3877506b",
   "metadata": {},
   "outputs": [],
   "source": [
    "A = np.array([[0.8,-0.4,0],[-0.4,0.8,-0.4],[0,-0.4,0.8]])\n",
    "b = np.array([[41],[25],[105]])"
   ]
  },
  {
   "cell_type": "code",
   "execution_count": 125,
   "id": "1e3f81cd",
   "metadata": {},
   "outputs": [],
   "source": [
    "result = gauss_seidel_itera(A,b,es = 0.05)"
   ]
  },
  {
   "cell_type": "code",
   "execution_count": 126,
   "id": "2b919c11",
   "metadata": {},
   "outputs": [
    {
     "data": {
      "text/plain": [
       "array([[173.70407104],\n",
       "       [244.95407104],\n",
       "       [253.72703552]])"
      ]
     },
     "execution_count": 126,
     "metadata": {},
     "output_type": "execute_result"
    }
   ],
   "source": [
    "result"
   ]
  },
  {
   "cell_type": "code",
   "execution_count": 129,
   "id": "72209337",
   "metadata": {},
   "outputs": [],
   "source": [
    "result = gauss_seidel_itera(A,b,lamb = 1.2,es =0.05)"
   ]
  },
  {
   "cell_type": "code",
   "execution_count": 130,
   "id": "74997e1d",
   "metadata": {},
   "outputs": [
    {
     "data": {
      "text/plain": [
       "array([[173.79312906],\n",
       "       [245.05797317],\n",
       "       [253.76710209]])"
      ]
     },
     "execution_count": 130,
     "metadata": {},
     "output_type": "execute_result"
    }
   ],
   "source": [
    "result"
   ]
  },
  {
   "cell_type": "code",
   "execution_count": 131,
   "id": "41dc0bc9",
   "metadata": {},
   "outputs": [
    {
     "data": {
      "text/plain": [
       "array([[173.75],\n",
       "       [245.  ],\n",
       "       [253.75]])"
      ]
     },
     "execution_count": 131,
     "metadata": {},
     "output_type": "execute_result"
    }
   ],
   "source": [
    "np.dot(inv(A),b)"
   ]
  },
  {
   "cell_type": "code",
   "execution_count": 132,
   "id": "06f56f96",
   "metadata": {},
   "outputs": [],
   "source": [
    "A = np.array([[10,2,-1],[-3,-6,2],[1,1,5]])\n",
    "b = np.array([[27],[-61.5],[-21.5]])"
   ]
  },
  {
   "cell_type": "code",
   "execution_count": 133,
   "id": "df3d3105",
   "metadata": {},
   "outputs": [],
   "source": [
    "result = gauss_seidel_itera(A,b,es = 0.05)"
   ]
  },
  {
   "cell_type": "code",
   "execution_count": 134,
   "id": "430a25eb",
   "metadata": {},
   "outputs": [
    {
     "data": {
      "text/plain": [
       "array([[ 0.50000269],\n",
       "       [ 8.00000127],\n",
       "       [-6.00000079]])"
      ]
     },
     "execution_count": 134,
     "metadata": {},
     "output_type": "execute_result"
    }
   ],
   "source": [
    "result"
   ]
  },
  {
   "cell_type": "code",
   "execution_count": 136,
   "id": "64f5ab06",
   "metadata": {},
   "outputs": [
    {
     "data": {
      "text/plain": [
       "array([[ 0.5],\n",
       "       [ 8. ],\n",
       "       [-6. ]])"
      ]
     },
     "execution_count": 136,
     "metadata": {},
     "output_type": "execute_result"
    }
   ],
   "source": [
    "np.dot(inv(A),b)"
   ]
  },
  {
   "cell_type": "markdown",
   "id": "27711a6b",
   "metadata": {},
   "source": [
    "## y + x^2 - x  -0.5 = 0 -f1\n",
    "## y+5xy -x^2 = 0 -f2\n",
    "### @f1/@x = 2x-1  @f1/@y = 1\n",
    "\n",
    "### @f2/@x = 5y-2x @f2/@y = 1+5x\n",
    "\n",
    "## x = y = 1.2"
   ]
  },
  {
   "cell_type": "code",
   "execution_count": 141,
   "id": "d7997f5f",
   "metadata": {},
   "outputs": [],
   "source": [
    "lambf1x = 2.3 \n",
    "lambf1y = 1\n",
    "lambf2x = 3.6 \n",
    "lambf2y = 7"
   ]
  },
  {
   "cell_type": "code",
   "execution_count": 142,
   "id": "de7b587d",
   "metadata": {},
   "outputs": [],
   "source": [
    "jacobi = lambf1x*lambf2y - lambf2x*lambf1y"
   ]
  },
  {
   "cell_type": "code",
   "execution_count": 143,
   "id": "2d3ea8f5",
   "metadata": {},
   "outputs": [
    {
     "data": {
      "text/plain": [
       "12.499999999999998"
      ]
     },
     "execution_count": 143,
     "metadata": {},
     "output_type": "execute_result"
    }
   ],
   "source": [
    "jacobi"
   ]
  },
  {
   "cell_type": "code",
   "execution_count": 145,
   "id": "99fea2c8",
   "metadata": {},
   "outputs": [],
   "source": [
    "f1assum = 1.2 + (1.2*1.2) -1.2 -0.5\n",
    "f2assum = 1.2 + 5*(1.2 *1.2) -(1.2*1.2)"
   ]
  },
  {
   "cell_type": "code",
   "execution_count": 146,
   "id": "7216c3f8",
   "metadata": {},
   "outputs": [
    {
     "data": {
      "text/plain": [
       "0.9399999999999997"
      ]
     },
     "execution_count": 146,
     "metadata": {},
     "output_type": "execute_result"
    }
   ],
   "source": [
    "f1assum"
   ]
  },
  {
   "cell_type": "code",
   "execution_count": 147,
   "id": "31f5e9f0",
   "metadata": {},
   "outputs": [
    {
     "data": {
      "text/plain": [
       "6.959999999999999"
      ]
     },
     "execution_count": 147,
     "metadata": {},
     "output_type": "execute_result"
    }
   ],
   "source": [
    "f2assum"
   ]
  },
  {
   "cell_type": "code",
   "execution_count": 149,
   "id": "cd233656",
   "metadata": {},
   "outputs": [],
   "source": [
    "x = 1.2 -((f1assum * lambf2y)-(f2assum * lambf1y)/jacobi)\n",
    "y = 1.2 -((f2assum * lambf1x)-(f1assum * lambf2x)/jacobi)"
   ]
  },
  {
   "cell_type": "code",
   "execution_count": 150,
   "id": "725e4115",
   "metadata": {},
   "outputs": [
    {
     "data": {
      "text/plain": [
       "-4.823199999999998"
      ]
     },
     "execution_count": 150,
     "metadata": {},
     "output_type": "execute_result"
    }
   ],
   "source": [
    "x"
   ]
  },
  {
   "cell_type": "code",
   "execution_count": 151,
   "id": "d07ee418",
   "metadata": {},
   "outputs": [
    {
     "data": {
      "text/plain": [
       "-14.537279999999996"
      ]
     },
     "execution_count": 151,
     "metadata": {},
     "output_type": "execute_result"
    }
   ],
   "source": [
    "y"
   ]
  },
  {
   "cell_type": "code",
   "execution_count": 2,
   "id": "55ae6da1",
   "metadata": {},
   "outputs": [],
   "source": [
    "import math\n",
    "import numpy as np"
   ]
  },
  {
   "cell_type": "code",
   "execution_count": null,
   "id": "58e3e193",
   "metadata": {},
   "outputs": [],
   "source": []
  },
  {
   "cell_type": "code",
   "execution_count": 3,
   "id": "db68d5d6",
   "metadata": {},
   "outputs": [],
   "source": [
    "data = [0.90,1.42,1.30,1.55,1.63,1.32,1.35,1.47,1.95,1.66,1.96,1.47,1.92,1.35,1.05,1.85,1.74,1.65,1.78,1.71,2.29,1.82,2.06,2.14,1.27]"
   ]
  },
  {
   "cell_type": "code",
   "execution_count": 4,
   "id": "4bf7edeb",
   "metadata": {},
   "outputs": [
    {
     "data": {
      "text/plain": [
       "1.6244000000000003"
      ]
     },
     "execution_count": 4,
     "metadata": {},
     "output_type": "execute_result"
    }
   ],
   "source": [
    "#mean\n",
    "np.mean(data)"
   ]
  },
  {
   "cell_type": "code",
   "execution_count": 5,
   "id": "8c7850f9",
   "metadata": {},
   "outputs": [
    {
     "data": {
      "text/plain": [
       "1.65"
      ]
     },
     "execution_count": 5,
     "metadata": {},
     "output_type": "execute_result"
    }
   ],
   "source": [
    "#median\n",
    "np.median(data)"
   ]
  },
  {
   "cell_type": "code",
   "execution_count": 6,
   "id": "1ab87cec",
   "metadata": {},
   "outputs": [
    {
     "data": {
      "text/plain": [
       "0.9"
      ]
     },
     "execution_count": 6,
     "metadata": {},
     "output_type": "execute_result"
    }
   ],
   "source": [
    "#range\n",
    "min(data)"
   ]
  },
  {
   "cell_type": "code",
   "execution_count": 7,
   "id": "8838a20f",
   "metadata": {},
   "outputs": [
    {
     "data": {
      "text/plain": [
       "2.29"
      ]
     },
     "execution_count": 7,
     "metadata": {},
     "output_type": "execute_result"
    }
   ],
   "source": [
    "max(data)"
   ]
  },
  {
   "cell_type": "code",
   "execution_count": 8,
   "id": "6e658634",
   "metadata": {},
   "outputs": [
    {
     "data": {
      "text/plain": [
       "0.3325306602405258"
      ]
     },
     "execution_count": 8,
     "metadata": {},
     "output_type": "execute_result"
    }
   ],
   "source": [
    "#표준편차\n",
    "math.sqrt(np.var(data))"
   ]
  },
  {
   "cell_type": "code",
   "execution_count": 9,
   "id": "53e9c0d0",
   "metadata": {},
   "outputs": [
    {
     "data": {
      "text/plain": [
       "0.11057663999999999"
      ]
     },
     "execution_count": 9,
     "metadata": {},
     "output_type": "execute_result"
    }
   ],
   "source": [
    "#분산\n",
    "np.var(data)"
   ]
  },
  {
   "cell_type": "code",
   "execution_count": 10,
   "id": "ec1da82a",
   "metadata": {},
   "outputs": [
    {
     "data": {
      "text/plain": [
       "20.47098376265241"
      ]
     },
     "execution_count": 10,
     "metadata": {},
     "output_type": "execute_result"
    }
   ],
   "source": [
    "#분산계수\n",
    "((math.sqrt(np.var(data)))/np.mean(data)) * 100 "
   ]
  },
  {
   "cell_type": "code",
   "execution_count": 11,
   "id": "e0ad1e9b",
   "metadata": {},
   "outputs": [],
   "source": [
    "import matplotlib.pyplot as plt"
   ]
  },
  {
   "cell_type": "code",
   "execution_count": 12,
   "id": "6b4eed49",
   "metadata": {},
   "outputs": [
    {
     "data": {
      "text/plain": [
       "(array([1., 1., 2., 4., 3., 4., 4., 3., 2., 1.]),\n",
       " array([0.9  , 1.039, 1.178, 1.317, 1.456, 1.595, 1.734, 1.873, 2.012,\n",
       "        2.151, 2.29 ]),\n",
       " <BarContainer object of 10 artists>)"
      ]
     },
     "execution_count": 12,
     "metadata": {},
     "output_type": "execute_result"
    },
    {
     "data": {
      "image/png": "[encoded data removed]",
      "text/plain": [
       "<Figure size 432x288 with 1 Axes>"
      ]
     },
     "metadata": {
      "needs_background": "light"
     },
     "output_type": "display_data"
    }
   ],
   "source": [
    "plt.hist(data)"
   ]
  },
  {
   "cell_type": "code",
   "execution_count": 31,
   "id": "19d714d5",
   "metadata": {},
   "outputs": [],
   "source": [
    "x = np.array([2,4,6,7,10,11,14,17,20])\n",
    "n = len(x)\n",
    "y = np.array([4,5,6,5,8,8,6,9,12])\n",
    "\n",
    "xx = sum(x*x)\n",
    "xy = sum(x*y)\n",
    "y_m = np.mean(y)\n",
    "x_m = np.mean(x)\n",
    "x = sum(np.array([2,4,6,7,10,11,14,17,20]))\n",
    "y = sum(np.array([4,5,6,5,8,8,6,9,12]))\n"
   ]
  },
  {
   "cell_type": "code",
   "execution_count": 33,
   "id": "0ee5c870",
   "metadata": {},
   "outputs": [],
   "source": [
    "a = (n*xy - x*y)/(n*xx - x*x)"
   ]
  },
  {
   "cell_type": "code",
   "execution_count": 34,
   "id": "08d31b99",
   "metadata": {},
   "outputs": [],
   "source": [
    "a0 = y_m -a *x_m"
   ]
  },
  {
   "cell_type": "code",
   "execution_count": 36,
   "id": "425037f8",
   "metadata": {},
   "outputs": [],
   "source": [
    "x = np.arange(-5,5)\n",
    "y = a * x +a0"
   ]
  },
  {
   "cell_type": "code",
   "execution_count": 37,
   "id": "45f8014c",
   "metadata": {},
   "outputs": [
    {
     "data": {
      "image/png": "[encoded data removed]",
      "text/plain": [
       "<Figure size 432x288 with 1 Axes>"
      ]
     },
     "metadata": {
      "needs_background": "light"
     },
     "output_type": "display_data"
    }
   ],
   "source": [
    "plt.plot(x,y)\n",
    "plt.show()"
   ]
  },
  {
   "cell_type": "code",
   "execution_count": 39,
   "id": "b145d7a0",
   "metadata": {},
   "outputs": [
    {
     "data": {
      "image/png": "[encoded data removed]",
      "text/plain": [
       "<Figure size 432x288 with 1 Axes>"
      ]
     },
     "metadata": {
      "needs_background": "light"
     },
     "output_type": "display_data"
    }
   ],
   "source": [
    "x = np.array([0,2,4,6,9,11,12,15,17,19])\n",
    "n = len(x)\n",
    "y = np.array([5,6,7,6,9,8,8,10,12,12])\n",
    "\n",
    "xx = sum(x*x)\n",
    "xy = sum(x*y)\n",
    "y_m = np.mean(y)\n",
    "x_m = np.mean(x)\n",
    "x = sum(np.array([0,2,4,6,9,11,12,15,17,19]))\n",
    "y = sum(np.array([5,6,7,6,9,8,8,10,12,12]))\n",
    "a = (n*xy - x*y)/(n*xx - x*x)\n",
    "a0 = y_m -a *x_m\n",
    "x = np.arange(-5,5)\n",
    "y = a * x +a0\n",
    "plt.plot(x,y)\n",
    "plt.show()"
   ]
  },
  {
   "cell_type": "code",
   "execution_count": 1,
   "id": "d01f9694",
   "metadata": {},
   "outputs": [],
   "source": [
    "import numpy as np\n",
    "import math"
   ]
  },
  {
   "cell_type": "code",
   "execution_count": 10,
   "id": "c52a1aec",
   "metadata": {},
   "outputs": [],
   "source": [
    "def newtint(x,y,xx):\n",
    "    #보간법\n",
    "    n = len(x)\n",
    "    if(len(y) != n):\n",
    "        print(\"y len err!!!!!\")\n",
    "        return\n",
    "    b = np.zeros((n,n))\n",
    "    for i in range(0,n):\n",
    "        b[i][0] = y[i]\n",
    "    for j in range(1,n):\n",
    "        for i in range(0,n-j):\n",
    "            b[i][j] = (b[i+1][j-1] - b[i][j-1])/(x[i+j] - x[i])\n",
    "    xt = 1\n",
    "    yint = b[0][0]\n",
    "    for j in range(0,n-1):\n",
    "        xt = xt * (xx - x[j])\n",
    "        yint += b[0][j+1] *xt\n",
    "    return yint\n",
    "    #return b"
   ]
  },
  {
   "cell_type": "code",
   "execution_count": 16,
   "id": "0749d1a3",
   "metadata": {},
   "outputs": [],
   "source": [
    "def lagrange(x,y,xx):\n",
    "    n = len(x)\n",
    "    if(len(y)!= n ):\n",
    "        print(\"y len err!!!!\")\n",
    "        return\n",
    "    s = 0\n",
    "    for i in range(0,n):\n",
    "        product = y[i]\n",
    "        for j in range(0,n):\n",
    "            if(i!=j):\n",
    "                product*= (xx-x[j])/(x[i]-x[j])\n",
    "        s+= product\n",
    "    return s"
   ]
  },
  {
   "cell_type": "code",
   "execution_count": 17,
   "id": "454b937c",
   "metadata": {},
   "outputs": [],
   "source": [
    "x = [0,20,40]\n",
    "y = [3.85,0.8,0.212]\n",
    "xx = 15\n",
    "result = lagrange(x,y,xx)"
   ]
  },
  {
   "cell_type": "code",
   "execution_count": 18,
   "id": "f3883186",
   "metadata": {},
   "outputs": [
    {
     "data": {
      "text/plain": [
       "1.3316875"
      ]
     },
     "execution_count": 18,
     "metadata": {},
     "output_type": "execute_result"
    }
   ],
   "source": [
    "result"
   ]
  },
  {
   "cell_type": "code",
   "execution_count": 30,
   "id": "a7e75d3b",
   "metadata": {},
   "outputs": [
    {
     "data": {
      "text/plain": [
       "7.742162962962962"
      ]
     },
     "execution_count": 30,
     "metadata": {},
     "output_type": "execute_result"
    }
   ],
   "source": [
    "x = [0,1,2.5,3,4.5,5,6]\n",
    "y = [2,5.4375,7.3516,7.5625,8.4453,9.1875,12]\n",
    "xx = 3.5\n",
    "newtint(x,y,xx)"
   ]
  },
  {
   "cell_type": "code",
   "execution_count": 31,
   "id": "bce8636e",
   "metadata": {},
   "outputs": [
    {
     "data": {
      "text/plain": [
       "10.734502995519037"
      ]
     },
     "execution_count": 31,
     "metadata": {},
     "output_type": "execute_result"
    }
   ],
   "source": [
    "x = [0,1,2,5.5,11,13,16,18]\n",
    "y = [0.5,3.134,5.3,9.9,10.2,9.35,7.2,6.2]\n",
    "xx = 8\n",
    "newtint(x,y,xx)"
   ]
  },
  {
   "cell_type": "code",
   "execution_count": 34,
   "id": "4b5d2faf",
   "metadata": {},
   "outputs": [],
   "source": [
    "x = [1,2,2.5,3,4,5]\n",
    "y = [0,5,6.5,7,3,1]\n",
    "xx = 3.4\n",
    "newt_result = []\n",
    "lagr_result = []\n",
    "#1차\n",
    "newt_result.append(newtint(x[3:5],y[3:5],xx))\n",
    "lagr_result.append(lagrange(x[3:5],y[3:5],xx))\n",
    "#2차\n",
    "newt_result.append(newtint(x[2:5],y[2:5],xx))\n",
    "lagr_result.append(lagrange(x[2:5],y[2:5],xx))\n",
    "#3차\n",
    "newt_result.append(newtint(x[1:5],y[1:5],xx))\n",
    "lagr_result.append(lagrange(x[1:5],y[1:5],xx))"
   ]
  },
  {
   "cell_type": "code",
   "execution_count": 36,
   "id": "75343a3b",
   "metadata": {},
   "outputs": [
    {
     "data": {
      "text/plain": [
       "[5.4, 6.200000000000001, 6.343999999999999]"
      ]
     },
     "execution_count": 36,
     "metadata": {},
     "output_type": "execute_result"
    }
   ],
   "source": [
    "newt_result"
   ]
  },
  {
   "cell_type": "code",
   "execution_count": 37,
   "id": "e1f8423b",
   "metadata": {},
   "outputs": [
    {
     "data": {
      "text/plain": [
       "[5.4, 6.199999999999999, 6.343999999999999]"
      ]
     },
     "execution_count": 37,
     "metadata": {},
     "output_type": "execute_result"
    }
   ],
   "source": [
    "lagr_result"
   ]
  },
  {
   "cell_type": "code",
   "execution_count": 4,
   "id": "9965ed16",
   "metadata": {},
   "outputs": [],
   "source": [
    "e = 2.7182818284590452353602874713527"
   ]
  },
  {
   "cell_type": "code",
   "execution_count": 12,
   "id": "83589505",
   "metadata": {},
   "outputs": [],
   "source": [
    "fx  = lambda x : (1- (e**(-x)))"
   ]
  },
  {
   "cell_type": "code",
   "execution_count": 16,
   "id": "1597aa19",
   "metadata": {},
   "outputs": [
    {
     "data": {
      "text/plain": [
       "0.9816843611112658"
      ]
     },
     "execution_count": 16,
     "metadata": {},
     "output_type": "execute_result"
    }
   ],
   "source": [
    "fx(4)"
   ]
  },
  {
   "cell_type": "code",
   "execution_count": 17,
   "id": "ec716ef8",
   "metadata": {},
   "outputs": [
    {
     "data": {
      "text/plain": [
       "0.0"
      ]
     },
     "execution_count": 17,
     "metadata": {},
     "output_type": "execute_result"
    }
   ],
   "source": [
    "fx(0)"
   ]
  },
  {
   "cell_type": "code",
   "execution_count": 18,
   "id": "2a830363",
   "metadata": {},
   "outputs": [
    {
     "data": {
      "text/plain": [
       "0.6321205588285577"
      ]
     },
     "execution_count": 18,
     "metadata": {},
     "output_type": "execute_result"
    }
   ],
   "source": [
    "fx(1)"
   ]
  },
  {
   "cell_type": "code",
   "execution_count": 19,
   "id": "a8664da4",
   "metadata": {},
   "outputs": [
    {
     "data": {
      "text/plain": [
       "0.8646647167633873"
      ]
     },
     "execution_count": 19,
     "metadata": {},
     "output_type": "execute_result"
    }
   ],
   "source": [
    "fx(2)"
   ]
  },
  {
   "cell_type": "code",
   "execution_count": 20,
   "id": "ee50fb50",
   "metadata": {},
   "outputs": [
    {
     "data": {
      "text/plain": [
       "0.950212931632136"
      ]
     },
     "execution_count": 20,
     "metadata": {},
     "output_type": "execute_result"
    }
   ],
   "source": [
    "fx(3)"
   ]
  },
  {
   "cell_type": "code",
   "execution_count": 21,
   "id": "eb7cbf36",
   "metadata": {},
   "outputs": [
    {
     "data": {
      "text/plain": [
       "0.7364028618842732"
      ]
     },
     "execution_count": 21,
     "metadata": {},
     "output_type": "execute_result"
    }
   ],
   "source": [
    "fx(4/3)"
   ]
  },
  {
   "cell_type": "code",
   "execution_count": 22,
   "id": "bb0fc04c",
   "metadata": {},
   "outputs": [
    {
     "data": {
      "text/plain": [
       "0.9305165487771985"
      ]
     },
     "execution_count": 22,
     "metadata": {},
     "output_type": "execute_result"
    }
   ],
   "source": [
    "fx(8/3)"
   ]
  },
  {
   "cell_type": "code",
   "execution_count": 23,
   "id": "5557c973",
   "metadata": {},
   "outputs": [
    {
     "data": {
      "text/plain": [
       "0.5506710358827784"
      ]
     },
     "execution_count": 23,
     "metadata": {},
     "output_type": "execute_result"
    }
   ],
   "source": [
    "fx(4/5)"
   ]
  },
  {
   "cell_type": "code",
   "execution_count": 24,
   "id": "803a9d74",
   "metadata": {},
   "outputs": [
    {
     "data": {
      "text/plain": [
       "0.7981034820053445"
      ]
     },
     "execution_count": 24,
     "metadata": {},
     "output_type": "execute_result"
    }
   ],
   "source": [
    "fx(8/5)"
   ]
  },
  {
   "cell_type": "code",
   "execution_count": 25,
   "id": "83a6dcbd",
   "metadata": {},
   "outputs": [
    {
     "data": {
      "text/plain": [
       "0.9092820467105874"
      ]
     },
     "execution_count": 25,
     "metadata": {},
     "output_type": "execute_result"
    }
   ],
   "source": [
    "fx(12/5)"
   ]
  },
  {
   "cell_type": "code",
   "execution_count": 26,
   "id": "2a653ff9",
   "metadata": {},
   "outputs": [
    {
     "data": {
      "text/plain": [
       "0.9592377960216338"
      ]
     },
     "execution_count": 26,
     "metadata": {},
     "output_type": "execute_result"
    }
   ],
   "source": [
    "fx(16/5)"
   ]
  },
  {
   "cell_type": "code",
   "execution_count": 33,
   "id": "da111651",
   "metadata": {},
   "outputs": [],
   "source": [
    "fy = lambda x : (x - 1/2*x**2 -x**4 + 1/3 * x **6)"
   ]
  },
  {
   "cell_type": "code",
   "execution_count": 34,
   "id": "52de4f25",
   "metadata": {},
   "outputs": [
    {
     "data": {
      "text/plain": [
       "1105.3333333333333"
      ]
     },
     "execution_count": 34,
     "metadata": {},
     "output_type": "execute_result"
    }
   ],
   "source": [
    "fy(4)"
   ]
  },
  {
   "cell_type": "code",
   "execution_count": 35,
   "id": "5dd7c738",
   "metadata": {},
   "outputs": [
    {
     "data": {
      "text/plain": [
       "1.3333333333333321"
      ]
     },
     "execution_count": 35,
     "metadata": {},
     "output_type": "execute_result"
    }
   ],
   "source": [
    "fy(-2)"
   ]
  },
  {
   "cell_type": "code",
   "execution_count": 36,
   "id": "24ba7aa4",
   "metadata": {},
   "outputs": [],
   "source": [
    "fx = lambda x: (1-x-4*x**3 + 2*x**5)"
   ]
  },
  {
   "cell_type": "code",
   "execution_count": 37,
   "id": "0d496528",
   "metadata": {},
   "outputs": [
    {
     "data": {
      "text/plain": [
       "1789"
      ]
     },
     "execution_count": 37,
     "metadata": {},
     "output_type": "execute_result"
    }
   ],
   "source": [
    "fx(4)"
   ]
  },
  {
   "cell_type": "code",
   "execution_count": 38,
   "id": "24d44c8c",
   "metadata": {},
   "outputs": [
    {
     "data": {
      "text/plain": [
       "-29"
      ]
     },
     "execution_count": 38,
     "metadata": {},
     "output_type": "execute_result"
    }
   ],
   "source": [
    "fx(-2)"
   ]
  },
  {
   "cell_type": "code",
   "execution_count": 39,
   "id": "fe80913f",
   "metadata": {},
   "outputs": [
    {
     "data": {
      "text/plain": [
       "-2"
      ]
     },
     "execution_count": 39,
     "metadata": {},
     "output_type": "execute_result"
    }
   ],
   "source": [
    "fx(1)"
   ]
  },
  {
   "cell_type": "code",
   "execution_count": 40,
   "id": "7c3b6df6",
   "metadata": {},
   "outputs": [
    {
     "data": {
      "text/plain": [
       "1"
      ]
     },
     "execution_count": 40,
     "metadata": {},
     "output_type": "execute_result"
    }
   ],
   "source": [
    "fx(0)"
   ]
  },
  {
   "cell_type": "code",
   "execution_count": 41,
   "id": "bcadb05e",
   "metadata": {},
   "outputs": [
    {
     "data": {
      "text/plain": [
       "31"
      ]
     },
     "execution_count": 41,
     "metadata": {},
     "output_type": "execute_result"
    }
   ],
   "source": [
    "fx(2)"
   ]
  },
  {
   "cell_type": "code",
   "execution_count": 42,
   "id": "85372137",
   "metadata": {},
   "outputs": [
    {
     "data": {
      "text/plain": [
       "1.9375"
      ]
     },
     "execution_count": 42,
     "metadata": {},
     "output_type": "execute_result"
    }
   ],
   "source": [
    "fx(-1/2)"
   ]
  },
  {
   "cell_type": "code",
   "execution_count": 43,
   "id": "da6289ed",
   "metadata": {},
   "outputs": [
    {
     "data": {
      "text/plain": [
       "-2"
      ]
     },
     "execution_count": 43,
     "metadata": {},
     "output_type": "execute_result"
    }
   ],
   "source": [
    "fx(1)"
   ]
  },
  {
   "cell_type": "code",
   "execution_count": 46,
   "id": "5e760be9",
   "metadata": {},
   "outputs": [
    {
     "data": {
      "text/plain": [
       "131.3125"
      ]
     },
     "execution_count": 46,
     "metadata": {},
     "output_type": "execute_result"
    }
   ],
   "source": [
    "fx(5/2)"
   ]
  },
  {
   "cell_type": "code",
   "execution_count": null,
   "id": "493073ac",
   "metadata": {},
   "outputs": [],
   "source": []
  }
 ],
 "metadata": {
  "kernelspec": {
   "display_name": "Python 3 (ipykernel)",
   "language": "python",
   "name": "python3"
  },
  "language_info": {
   "codemirror_mode": {
    "name": "ipython",
    "version": 3
   },
   "file_extension": ".py",
   "mimetype": "text/x-python",
   "name": "python",
   "nbconvert_exporter": "python",
   "pygments_lexer": "ipython3",
   "version": "3.9.7"
  }
 },
 "nbformat": 4,
 "nbformat_minor": 5
}
