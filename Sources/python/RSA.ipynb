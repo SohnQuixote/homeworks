{
 "cells": [
  {
   "cell_type": "code",
   "execution_count": 2,
   "id": "59d04666",
   "metadata": {},
   "outputs": [],
   "source": [
    "#alice side\n",
    "x=3\n",
    "r1 = (7**x)% 23"
   ]
  },
  {
   "cell_type": "code",
   "execution_count": 3,
   "id": "91ed24eb",
   "metadata": {},
   "outputs": [],
   "source": [
    "#bob side\n",
    "y =6\n",
    "r2 = (7**y)%23"
   ]
  },
  {
   "cell_type": "code",
   "execution_count": 5,
   "id": "8da115c1",
   "metadata": {},
   "outputs": [
    {
     "name": "stdout",
     "output_type": "stream",
     "text": [
      "alice sent 21 to bob\n",
      "bob sent 4 to alice\n"
     ]
    }
   ],
   "source": [
    "print(\"alice sent\" , r1, \"to bob\")\n",
    "print(\"bob sent\" , r2 , \"to alice\")"
   ]
  },
  {
   "cell_type": "code",
   "execution_count": 6,
   "id": "b813cd68",
   "metadata": {},
   "outputs": [],
   "source": [
    "ka = r2 **x %23\n",
    "kb = r1 **y %23"
   ]
  },
  {
   "cell_type": "code",
   "execution_count": 7,
   "id": "c10d9ba7",
   "metadata": {},
   "outputs": [
    {
     "name": "stdout",
     "output_type": "stream",
     "text": [
      "18 key is valid\n"
     ]
    }
   ],
   "source": [
    "if(ka == kb):\n",
    "    print(ka,\"key is valid\")"
   ]
  },
  {
   "cell_type": "code",
   "execution_count": null,
   "id": "bebc8dce",
   "metadata": {},
   "outputs": [],
   "source": []
  }
 ],
 "metadata": {
  "kernelspec": {
   "display_name": "Python 3",
   "language": "python",
   "name": "python3"
  },
  "language_info": {
   "codemirror_mode": {
    "name": "ipython",
    "version": 3
   },
   "file_extension": ".py",
   "mimetype": "text/x-python",
   "name": "python",
   "nbconvert_exporter": "python",
   "pygments_lexer": "ipython3",
   "version": "3.8.8"
  }
 },
 "nbformat": 4,
 "nbformat_minor": 5
}
