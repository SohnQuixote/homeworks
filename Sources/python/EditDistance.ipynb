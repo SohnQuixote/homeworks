{
 "cells": [
  {
   "cell_type": "code",
   "execution_count": 5,
   "id": "65a0cd8f",
   "metadata": {},
   "outputs": [],
   "source": [
    "def comp(a,b,i,j):\n",
    "    if a[i] == b[j]:\n",
    "        return 0\n",
    "    else :\n",
    "        return 1\n",
    "def edit_distance(a,b):\n",
    "    result = [[0] * (len(b)+1) for _ in range(len(a)+1)]\n",
    "    for i in range(0,len(a)+1):\n",
    "        result[i][0] = i\n",
    "    for j in range(0,len(b)+1):\n",
    "        result[0][j] = j\n",
    "    for i in range(1,len(a)+1):\n",
    "        for j in range(1,len(b)+1):\n",
    "            result[i][j] = min(result[i][j-1]+1 , result[i-1][j]+1, result[i-1][j-1] + comp(a,b,i-1,j-1))\n",
    "    return result"
   ]
  },
  {
   "cell_type": "code",
   "execution_count": 6,
   "id": "189210f9",
   "metadata": {},
   "outputs": [
    {
     "data": {
      "text/plain": [
       "[[0, 1, 2, 3, 4, 5, 6, 7, 8],\n",
       " [1, 1, 1, 2, 3, 4, 5, 6, 7],\n",
       " [2, 1, 2, 2, 3, 4, 5, 6, 6],\n",
       " [3, 2, 2, 3, 3, 3, 4, 5, 6],\n",
       " [4, 3, 3, 3, 4, 4, 3, 4, 5],\n",
       " [5, 4, 4, 4, 4, 5, 4, 4, 5],\n",
       " [6, 5, 5, 5, 5, 5, 5, 4, 5],\n",
       " [7, 6, 6, 6, 6, 6, 6, 5, 4]]"
      ]
     },
     "execution_count": 6,
     "metadata": {},
     "output_type": "execute_result"
    }
   ],
   "source": [
    "a = \"daphnia\"\n",
    "b =\"adelphia\"\n",
    "edit_distance(a,b)"
   ]
  },
  {
   "cell_type": "code",
   "execution_count": null,
   "id": "4271fe24",
   "metadata": {},
   "outputs": [],
   "source": []
  },
  {
   "cell_type": "code",
   "execution_count": null,
   "id": "3dfaf94b",
   "metadata": {},
   "outputs": [],
   "source": []
  },
  {
   "cell_type": "code",
   "execution_count": null,
   "id": "91dc16e7",
   "metadata": {},
   "outputs": [],
   "source": []
  }
 ],
 "metadata": {
  "kernelspec": {
   "display_name": "Python 3",
   "language": "python",
   "name": "python3"
  },
  "language_info": {
   "codemirror_mode": {
    "name": "ipython",
    "version": 3
   },
   "file_extension": ".py",
   "mimetype": "text/x-python",
   "name": "python",
   "nbconvert_exporter": "python",
   "pygments_lexer": "ipython3",
   "version": "3.7.10"
  }
 },
 "nbformat": 4,
 "nbformat_minor": 5
}
