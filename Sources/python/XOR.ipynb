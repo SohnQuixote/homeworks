{
 "cells": [
  {
   "cell_type": "code",
   "execution_count": 8,
   "metadata": {},
   "outputs": [],
   "source": [
    "#import tensorflow.compat.v1 as tf\n",
    "#tf.disable_v2_behavior()\n",
    "import tensorflow as tf\n",
    "import numpy as np\n",
    "import matplotlib.pyplot as plt\n",
    "\n",
    "np.random.seed(123)\n",
    "tf.random.set_seed(123)\n",
    "\n",
    "x = np.array([[0,0] , [0,1] ,[1,0] , [1,1]] , dtype= np.float32)\n",
    "y = np.array([[1,0] , [0,1] ,[0,1] , [1,0]] , dtype= np.float32)\n",
    "\n",
    "learning_rate = 0.15\n",
    "\n",
    "#x= tf.placeholder(tf.float32 , shape =(None,2) )\n",
    "#y = tf.placeholder(tf.float32 , shape = (None,2))\n",
    "#x = tf.convert_to_tensor(x_data,  dtype = tf.float32)\n",
    "#y = tf.convert_to_tensor(y_data , dtype = tf.float32)\n",
    "\n",
    "#h1_w23 = tf.truncated_normal(shape = (2,3) , mean = 0 ,stddev = 1.0 ,dtype = tf.float32)\n",
    "#h1_b13 = tf.zeros(shape = (1,3))\n",
    "fw = tf.keras.initializers.truncated_normal()\n",
    "fb = tf.keras.initializers.truncated_normal()\n",
    "\n",
    "w1 = tf.Variable(tf.random.normal([2,10]) , dtype = tf.float32)\n",
    "b1 = tf.Variable(tf.random.normal([1,10]), dtype = tf.float32)\n",
    "\n",
    "w2 = tf.Variable(tf.random.normal([10,2]) , dtype = tf.float32)\n",
    "b2 = tf.Variable(tf.random.normal([1,2]) , dtype = tf.float32)\n",
    "#w1 = tf.Variable(h1_w23)\n",
    "#b1 = tf.Variable(h1_b13)\n",
    "#입력 -> 히든\n"
   ]
  },
  {
   "cell_type": "code",
   "execution_count": 10,
   "metadata": {},
   "outputs": [
    {
     "data": {
      "text/plain": [
       "(4, 2)"
      ]
     },
     "execution_count": 10,
     "metadata": {},
     "output_type": "execute_result"
    }
   ],
   "source": [
    "x.shape\n",
    "y.shape"
   ]
  },
  {
   "cell_type": "code",
   "execution_count": 2,
   "metadata": {},
   "outputs": [],
   "source": [
    "#히든->출력\n",
    "#o_w31 = tf.truncated_normal(shape = (3,1) , mean =0 ,stddev = 1.0 , dtype = tf.float32)\n",
    "#o_b11 = tf.zeros(shape = (1,1))\n",
    "#w2 = tf.Variable(o_w31)\n",
    "#b2 = tf.Variable(o_b11)\n",
    "\n",
    "\n",
    "#z1 = tf.matmul(x,w1) +b1\n",
    "#a1 = tf.sigmoid(z1)\n",
    "\n",
    "#z2 = tf.matmul(a1 ,w2) +b2\n",
    "#a2 = tf.sigmoid(z2)\n",
    "\n",
    "#yhat = a2\n",
    "#loss = tf.nn.sigmoid_cross_entropy_with_logits(labels = y , logits = z2)\n",
    "#loss = tf.reduce_mean(loss)\n",
    "# 위 네트워크 설계\n",
    "\n",
    "#loss = -y*tf.log(yhat) - (1-y) *tf.log(1-yhat) #4*1\n",
    "#loss = tf.reduce_mean(loss)\n",
    "\n",
    "#optimizer = tf.train.GradientDescentOptimizer(learning_rate)\n",
    "#optimizer = tf.train.AdamOptimizer(learning_rate)\n",
    "#train = optimizer.minimize(loss)\n",
    "\n",
    "#thresholding = tf.greater_equal(yhat , 0.5)\n",
    "#thresholding = tf.cast(thresholding ,tf.float32) #true - 1.0 false - 0.0\n",
    "\n",
    "#prediction = tf.cast(tf.equal(thresholding , y) , tf.float32)\n",
    "#correct = tf.equal(tf.argmax(y , axis = 1) , tf.argmax(yhat , axis=1))\n",
    "#correct = tf.cast(correct , tf.float32)\n",
    "#accuracy = tf.reduce_mean(correct)\n",
    "\n",
    "\n",
    "#accuracy = tf.reduce_mean(prediction)\n",
    "\n",
    "\n",
    "#sess = tf.Session()\n",
    "#sess.run(tf.global_variables_initializer())\n",
    "\n",
    "\n"
   ]
  },
  {
   "cell_type": "code",
   "execution_count": 3,
   "metadata": {},
   "outputs": [
    {
     "data": {
      "image/png": "[encoded data removed]",
      "text/plain": [
       "<Figure size 432x288 with 1 Axes>"
      ]
     },
     "metadata": {
      "needs_background": "light"
     },
     "output_type": "display_data"
    }
   ],
   "source": [
    "loss_ = []\n",
    "epoch = 5000\n",
    "optimizer = tf.keras.optimizers.SGD(learning_rate)\n",
    "#optimizer = tf.keras.optimizers.Adam(learning_rate )    \n",
    "def binary_crossentropy_logits(y,logits) :\n",
    "    #cross_entropy = tf.nn.sigmoid_cross_entropy_with_logits(labels = y , logits = logits)\n",
    "    cross_entropy = -y*tf.math.log(logits) - (1-y) *tf.math.log(1-logits)\n",
    "    loss = tf.reduce_mean(cross_entropy)\n",
    "    return loss\n",
    "for i in range(epoch):\n",
    "    with tf.GradientTape() as tape:\n",
    "        z1 = tf.matmul(x,w1) +b1\n",
    "        a1 = tf.sigmoid(z1)\n",
    "        z2 = tf.matmul(a1 ,w2) +b2\n",
    "        a2 = tf.sigmoid(z2)\n",
    "        yhat = a2 \n",
    "        loss_value = binary_crossentropy_logits(y,yhat)\n",
    "    gradients = tape.gradient(loss_value , [w1,w2,b1,b2])\n",
    "        #loss = tf.reduce_mean((y-yhat) * (y-yhat))\n",
    "    #gradients = tape.gradient(loss ,[w1,b1,w2,b2])\n",
    "    \n",
    "    #train = optimizer.minimize(gradients ,var_list =[w1,b1,w2,b2])\n",
    "    loss_.append(loss_value)\n",
    "    optimizer.apply_gradients(grads_and_vars = zip(gradients,[w1,w2,b1,b2]))\n",
    "    #dw1,db1,dw2,db2 = tape.gradient(loss , [w1,b1,w2,b2])\n",
    "    \n",
    "    #loss = tf.nn.sigmoid_cross_entropy_with_logits(labels = y , logits = z2)\n",
    "    #loss = 1/4*(-y*tf.math.log(yhat) - (1-y) *tf.math.log(1-yhat))\n",
    "    #dw1,db1,dw2 , db2  = tape.gradient(loss , [w1,b1,w2,b2])\n",
    "    #optimizer.apply_gradients(grads_and_vars = zip([dw1,db1],[w1,b1]))\n",
    "    #optimizer.apply_gradients(grads_and_vars = zip([dw2,db2],[w2,b2]))\n",
    "    #loss = tf.reduce_mean(loss)\n",
    "    \n",
    "\n",
    "    #loss_.append(loss_value)\n",
    "    correct = tf.equal(tf.argmax(y , axis = 1) , tf.argmax(yhat , axis=1))\n",
    "    correct = tf.cast(correct , tf.float32)\n",
    "    accuracy = tf.reduce_mean(correct)\n",
    "    #print(i,loss_value)\n",
    "    #loss_.append(loss)\n",
    "    #outs =  sess.run([train,loss,yhat ] , feed_dict = {x:x_data , y:y_data})\n",
    "    #print(i ,outs[1])\n",
    "    #loss_.append(outs[1])\n",
    "    \n",
    "\n",
    "#loss 보고 학습더해야될지 판단\n",
    "plt.plot(loss_)\n",
    "plt.show()"
   ]
  },
  {
   "cell_type": "code",
   "execution_count": 4,
   "metadata": {},
   "outputs": [
    {
     "data": {
      "text/plain": [
       "<tf.Tensor: shape=(4,), dtype=float32, numpy=array([1., 1., 1., 1.], dtype=float32)>"
      ]
     },
     "execution_count": 4,
     "metadata": {},
     "output_type": "execute_result"
    }
   ],
   "source": [
    "correct"
   ]
  },
  {
   "cell_type": "code",
   "execution_count": null,
   "metadata": {},
   "outputs": [],
   "source": []
  },
  {
   "cell_type": "code",
   "execution_count": 5,
   "metadata": {},
   "outputs": [],
   "source": [
    "def test_func(x,y):\n",
    "    test= [[x,y]]\n",
    "    z1 = tf.matmul(test,w1) +b1\n",
    "    a1 = tf.sigmoid(z1)\n",
    "    z2 = tf.matmul(a1 ,w2) +b2\n",
    "    a2 = tf.sigmoid(z2)\n",
    "    yhat = a2 \n",
    "    thresholding = tf.greater_equal(yhat , 0.5)\n",
    "    thresholding = tf.cast(thresholding ,tf.float32)\n",
    "    return thresholding"
   ]
  },
  {
   "cell_type": "code",
   "execution_count": 6,
   "metadata": {},
   "outputs": [
    {
     "data": {
      "text/plain": [
       "0.0"
      ]
     },
     "execution_count": 6,
     "metadata": {},
     "output_type": "execute_result"
    }
   ],
   "source": [
    "pt = np.arange(0,1 ,0.01)\n",
    "pt_x,pt_y = np.meshgrid(pt,pt)\n",
    "pt_shape = pt_x.shape\n",
    "pt_x = pt_x.flatten()\n",
    "pt_y = pt_y.flatten()\n",
    "\n",
    "x_test = np.vstack((pt_x,pt_y)).T\n",
    "y_test = np.zeros(shape = (x_test.shape[0],2))\n",
    "x_test[0][0]\n",
    "#test_func(0.1,0.3)[0]"
   ]
  },
  {
   "cell_type": "code",
   "execution_count": 7,
   "metadata": {},
   "outputs": [
    {
     "data": {
      "image/png": "[encoded data removed]",
      "text/plain": [
       "<Figure size 432x288 with 1 Axes>"
      ]
     },
     "metadata": {
      "needs_background": "light"
     },
     "output_type": "display_data"
    }
   ],
   "source": [
    "result = []\n",
    "a= np.array\n",
    "for x in range(10000):\n",
    "    result.append( test_func(np.float32(x_test[x][0]) , np.float32(x_test[x][1])))\n",
    "    \n",
    "#print(result)\n",
    "result = np.array(result)\n",
    "\n",
    "#print(result)\n",
    "#result = np.argmax(result,axis = 1).astype(np.int32)\n",
    "#print(result)\n",
    "#print(labels)\n",
    "colors = ['r' , 'b']\n",
    "\n",
    "#print(result.shape)\n",
    "pt_x = pt_x.reshape(pt_shape)\n",
    "#print(pt_x)\n",
    "pt_y = pt_y.reshape(pt_shape)\n",
    "label = [0 for i in range(10000)]\n",
    "x =0\n",
    "for i in range(0,10000) :\n",
    "    for j in range(0,2) :\n",
    "        if(result[i][0][j] ==1 ):\n",
    "            label[i] = j\n",
    "#label = np.array([colors[i] = result[i][0][j] for (i,j) in result])\n",
    "label = np.array(label)\n",
    "label = label.reshape(pt_shape)\n",
    "#for i in range (0,100):\n",
    "    #for j in range (0,100):\n",
    "        #print(label[i][j] , end='')\n",
    "    #print()\n",
    "\n",
    "#plt.plot(label)\n",
    "#plt.imshow(label)\n",
    "#plt.contourf(pt_x,pt_y,label, cmap = plt.cm.Spectral)\n",
    "plt.scatter(pt_x ,pt_y , c= label)\n",
    "plt.show()\n",
    "#sess.close()\n"
   ]
  },
  {
   "cell_type": "code",
   "execution_count": null,
   "metadata": {},
   "outputs": [],
   "source": []
  },
  {
   "cell_type": "code",
   "execution_count": null,
   "metadata": {},
   "outputs": [],
   "source": []
  },
  {
   "cell_type": "code",
   "execution_count": null,
   "metadata": {},
   "outputs": [],
   "source": []
  },
  {
   "cell_type": "code",
   "execution_count": null,
   "metadata": {},
   "outputs": [],
   "source": []
  },
  {
   "cell_type": "code",
   "execution_count": null,
   "metadata": {},
   "outputs": [],
   "source": []
  },
  {
   "cell_type": "code",
   "execution_count": null,
   "metadata": {},
   "outputs": [],
   "source": []
  },
  {
   "cell_type": "code",
   "execution_count": null,
   "metadata": {},
   "outputs": [],
   "source": []
  },
  {
   "cell_type": "code",
   "execution_count": null,
   "metadata": {},
   "outputs": [],
   "source": []
  }
 ],
 "metadata": {
  "kernelspec": {
   "display_name": "Python 3",
   "language": "python",
   "name": "python3"
  },
  "language_info": {
   "codemirror_mode": {
    "name": "ipython",
    "version": 3
   },
   "file_extension": ".py",
   "mimetype": "text/x-python",
   "name": "python",
   "nbconvert_exporter": "python",
   "pygments_lexer": "ipython3",
   "version": "3.7.10"
  }
 },
 "nbformat": 4,
 "nbformat_minor": 4
}
