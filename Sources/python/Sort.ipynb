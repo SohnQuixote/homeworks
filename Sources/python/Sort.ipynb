{
 "cells": [
  {
   "cell_type": "code",
   "execution_count": 1,
   "id": "b6d8dfbb",
   "metadata": {},
   "outputs": [],
   "source": [
    "def select_sort(A):\n",
    "    for i in range(0 , len(A)-1):\n",
    "        min = i\n",
    "        for j in range(i+1 , len(A)):\n",
    "            if A[j]<A[min]:\n",
    "                min = j\n",
    "        temp = A[i]\n",
    "        A[i] = A[min]\n",
    "        A[min] = temp\n",
    "    return A\n"
   ]
  },
  {
   "cell_type": "code",
   "execution_count": 2,
   "id": "6ef5fb1c",
   "metadata": {},
   "outputs": [],
   "source": [
    "def bubble_sort(A):\n",
    "    for i in range(len(A) - 1, 0, -1):\n",
    "        swapped = False\n",
    "        for j in range(i):\n",
    "            if A[j] > A[j + 1]:\n",
    "                A[j], A[j + 1] = A[j + 1], A[j]\n",
    "                swapped = True\n",
    "        if not swapped:\n",
    "            break\n",
    "    return A"
   ]
  },
  {
   "cell_type": "code",
   "execution_count": 3,
   "id": "8151d091",
   "metadata": {},
   "outputs": [],
   "source": [
    "def insert_sort(A):\n",
    "    for i in range(1,len(A)):\n",
    "        CE = A[i]\n",
    "        j = i-1\n",
    "        while (j>=0) and (A[j] > CE):\n",
    "            A[j+1] = A[j]\n",
    "            j = j-1\n",
    "        A[j+1] = CE\n",
    "    return A"
   ]
  },
  {
   "cell_type": "code",
   "execution_count": 4,
   "id": "a8975f3c",
   "metadata": {},
   "outputs": [],
   "source": [
    "def shell_sort(A):\n",
    "    h_arr = [701,301,132,57,23,10,4,1]\n",
    "    for i in range(0 , len(h_arr)):\n",
    "        h = h_arr[i]\n",
    "        for j in range(h , len(A)):\n",
    "            CE = A[j]\n",
    "            k = j\n",
    "            while(k>=h) and (A[k-h] > CE):\n",
    "                A[k] = A[k-h]\n",
    "                k = k-h\n",
    "            A[k] = CE\n",
    "    return A"
   ]
  },
  {
   "cell_type": "code",
   "execution_count": 5,
   "id": "2cc2887f",
   "metadata": {},
   "outputs": [],
   "source": [
    "def make_heap(A):\n",
    "    for i in range((len(A)-1)//2 , 0 , -1):\n",
    "        down_heap(A,i ,len(A))\n"
   ]
  },
  {
   "cell_type": "code",
   "execution_count": 6,
   "id": "58faadd2",
   "metadata": {},
   "outputs": [],
   "source": [
    "def down_heap(A,i , n):\n",
    "    left = 2 *i\n",
    "    right = 2*i+1\n",
    "    if(left<=n-1) and (A[left] > A[i]):\n",
    "        big = left\n",
    "    else:\n",
    "        big =i\n",
    "    if (right<=n-1) and (A[right] > A[big]):\n",
    "        big = right\n",
    "    if(big !=i):\n",
    "        A[i] , A[big] = A[big] , A[i]\n",
    "        down_heap(A,big , n)\n",
    "    return"
   ]
  },
  {
   "cell_type": "code",
   "execution_count": 7,
   "id": "e05e5508",
   "metadata": {},
   "outputs": [],
   "source": [
    "def heap_sort(A):\n",
    "    make_heap(A)\n",
    "    heapsize= len(A)-1\n",
    "    for i in range(1,len(A)-1):\n",
    "        A[1] , A[heapsize] = A[heapsize] , A[1]\n",
    "        heapsize=  heapsize-1\n",
    "        down_heap(A,1 , heapsize+1)\n",
    "    return A"
   ]
  },
  {
   "cell_type": "code",
   "execution_count": 8,
   "id": "f05529ac",
   "metadata": {},
   "outputs": [],
   "source": [
    "def countingSort(A, digit):\n",
    "    n = len(A)\n",
    "    output = [0] * (n)\n",
    "    count = [0] * (10)\n",
    "    for i in range(0, n):\n",
    "        index = int(A[i]/digit) \n",
    "        count[ (index)%10 ] += 1\n",
    "    for i in range(1,10):\n",
    "        count[i] += count[i-1]\n",
    "        #자릿수에 대해서 다 더함\n",
    "        #print(i,count[i])\n",
    "    i = n - 1\n",
    "    while i >= 0:\n",
    "        index = int(A[i]/digit)\n",
    "        output[ count[ (index)%10 ] - 1] = A[i]\n",
    "        #뒤에서부터 빼면서 <=같은 자릿수가 있을 수 있기 때문\n",
    "        count[ (index)%10 ] -= 1\n",
    "        i -= 1\n",
    "    for i in range(0,len(A)): \n",
    "        A[i] = output[i]\n",
    "         #마지막으로 다 옮김\n",
    "def radix_sort(A):\n",
    "    maxValue = max(A) #가장 큰거\n",
    "    digit = 1 #자릿수 큰것부터 sort\n",
    "    while int(maxValue/digit) > 0: \n",
    "        countingSort(A,digit) #자릿수에 맞게 sort\n",
    "        digit *= 10\n",
    "    return A"
   ]
  },
  {
   "cell_type": "code",
   "execution_count": 9,
   "id": "9a29f02d",
   "metadata": {},
   "outputs": [],
   "source": [
    "def list_sort_check(A):\n",
    "    flag = True\n",
    "    for i in range(1,len(A)-1):\n",
    "        temp = A[i-1]\n",
    "        temp_2 = A[i]\n",
    "        if(temp>temp_2):\n",
    "            flag = False\n",
    "\n",
    "    if(flag) :\n",
    "        print(\"오름차순으로 잘 정렬되었습니다!!!\")\n",
    "    elif(flag == False):\n",
    "        print(\"정렬되지 않았습니다.\")"
   ]
  },
  {
   "cell_type": "code",
   "execution_count": 10,
   "id": "a2c91a6d",
   "metadata": {},
   "outputs": [],
   "source": [
    "import random\n",
    "def random_matrix(A):\n",
    "    for i in range(0,2000):\n",
    "        A.append(random.randrange(0,1000))"
   ]
  },
  {
   "cell_type": "code",
   "execution_count": 11,
   "id": "5a1843cd",
   "metadata": {},
   "outputs": [],
   "source": [
    "import datetime\n",
    "import time"
   ]
  },
  {
   "cell_type": "code",
   "execution_count": 12,
   "id": "9fda37b2",
   "metadata": {},
   "outputs": [
    {
     "name": "stdout",
     "output_type": "stream",
     "text": [
      "버블정렬 : 0.3580813407897949\n",
      "오름차순으로 잘 정렬되었습니다!!!\n"
     ]
    }
   ],
   "source": [
    "A = []\n",
    "random_matrix(A)\n",
    "start = time.time()\n",
    "\n",
    "A = bubble_sort(A)\n",
    "\n",
    "print(\"버블정렬 :\", time.time() - start) \n",
    "list_sort_check(A)"
   ]
  },
  {
   "cell_type": "code",
   "execution_count": 13,
   "id": "647abfac",
   "metadata": {},
   "outputs": [
    {
     "name": "stdout",
     "output_type": "stream",
     "text": [
      "선택정렬 : 0.11502432823181152\n",
      "오름차순으로 잘 정렬되었습니다!!!\n"
     ]
    }
   ],
   "source": [
    "A = []\n",
    "random_matrix(A)\n",
    "start = time.time()\n",
    "\n",
    "A = select_sort(A)\n",
    "\n",
    "print(\"선택정렬 :\", time.time() - start) \n",
    "list_sort_check(A)"
   ]
  },
  {
   "cell_type": "code",
   "execution_count": 15,
   "id": "7cc384a6",
   "metadata": {},
   "outputs": [
    {
     "name": "stdout",
     "output_type": "stream",
     "text": [
      "힙정렬 : 0.011002302169799805\n",
      "오름차순으로 잘 정렬되었습니다!!!\n"
     ]
    }
   ],
   "source": [
    "A = []\n",
    "random_matrix(A)\n",
    "start = time.time()\n",
    "\n",
    "A = heap_sort(A)\n",
    "\n",
    "print(\"힙정렬 :\", time.time() - start) \n",
    "A = A[1:]\n",
    "list_sort_check(A)"
   ]
  },
  {
   "cell_type": "code",
   "execution_count": 16,
   "id": "26bcd052",
   "metadata": {},
   "outputs": [
    {
     "name": "stdout",
     "output_type": "stream",
     "text": [
      "기수정렬 : 0.005000591278076172\n",
      "오름차순으로 잘 정렬되었습니다!!!\n"
     ]
    }
   ],
   "source": [
    "A = []\n",
    "random_matrix(A)\n",
    "start = time.time()\n",
    "\n",
    "A = radix_sort(A)\n",
    "\n",
    "print(\"기수정렬 :\", time.time() - start) \n",
    "\n",
    "\n",
    "list_sort_check(A)"
   ]
  },
  {
   "cell_type": "code",
   "execution_count": 17,
   "id": "d65a5f51",
   "metadata": {},
   "outputs": [
    {
     "name": "stdout",
     "output_type": "stream",
     "text": [
      "삽입정렬 : 0.18042755126953125\n",
      "오름차순으로 잘 정렬되었습니다!!!\n"
     ]
    }
   ],
   "source": [
    "A = []\n",
    "random_matrix(A)\n",
    "start = time.time()\n",
    "\n",
    "A = insert_sort(A)\n",
    "\n",
    "print(\"삽입정렬 :\", time.time() - start) \n",
    "list_sort_check(A)"
   ]
  },
  {
   "cell_type": "code",
   "execution_count": 18,
   "id": "0aed4a58",
   "metadata": {},
   "outputs": [
    {
     "name": "stdout",
     "output_type": "stream",
     "text": [
      "쉘정렬 : 0.006995201110839844\n",
      "오름차순으로 잘 정렬되었습니다!!!\n"
     ]
    }
   ],
   "source": [
    "A = []\n",
    "random_matrix(A)\n",
    "start = time.time()\n",
    "A = shell_sort(A)\n",
    "print(\"쉘정렬 :\", time.time() - start) \n",
    "list_sort_check(A)"
   ]
  },
  {
   "cell_type": "code",
   "execution_count": null,
   "id": "b3bd3cce",
   "metadata": {},
   "outputs": [],
   "source": []
  }
 ],
 "metadata": {
  "kernelspec": {
   "display_name": "Python 3",
   "language": "python",
   "name": "python3"
  },
  "language_info": {
   "codemirror_mode": {
    "name": "ipython",
    "version": 3
   },
   "file_extension": ".py",
   "mimetype": "text/x-python",
   "name": "python",
   "nbconvert_exporter": "python",
   "pygments_lexer": "ipython3",
   "version": "3.8.8"
  }
 },
 "nbformat": 4,
 "nbformat_minor": 5
}
