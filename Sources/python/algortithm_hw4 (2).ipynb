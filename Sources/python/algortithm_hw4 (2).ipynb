{
 "cells": [
  {
   "cell_type": "code",
   "execution_count": 28,
   "id": "ccb6f037",
   "metadata": {},
   "outputs": [
    {
     "name": "stdout",
     "output_type": "stream",
     "text": [
      "4750\n"
     ]
    }
   ],
   "source": [
    "input_matrix = [10,20,5,15,30]\n",
    "n = len(input_matrix)-1\n",
    "def matrix_chain(input_matrix , n):\n",
    "    C = [[0 for i in range(n+1)] for j in range(n+1)]\n",
    "    for L in range(1,n):\n",
    "        for i in range(1,n-L+1):\n",
    "            j = i+L\n",
    "            C[i][j] = 9999999\n",
    "            for k in range(i,j):\n",
    "                temp = C[i][k] + C[k+1][j] + (input_matrix[i-1] * input_matrix[k] * input_matrix[j])\n",
    "                if (temp < C[i][j]):\n",
    "                    C[i][j] = temp\n",
    "    return C[1][n]"
   ]
  },
  {
   "cell_type": "code",
   "execution_count": 29,
   "id": "25204efa",
   "metadata": {},
   "outputs": [
    {
     "name": "stdout",
     "output_type": "stream",
     "text": [
      "4750\n"
     ]
    }
   ],
   "source": [
    "print(matrix_chain(input_matrix,n))"
   ]
  },
  {
   "cell_type": "code",
   "execution_count": null,
   "id": "8c7c0ce5",
   "metadata": {},
   "outputs": [],
   "source": []
  }
 ],
 "metadata": {
  "kernelspec": {
   "display_name": "Python 3",
   "language": "python",
   "name": "python3"
  },
  "language_info": {
   "codemirror_mode": {
    "name": "ipython",
    "version": 3
   },
   "file_extension": ".py",
   "mimetype": "text/x-python",
   "name": "python",
   "nbconvert_exporter": "python",
   "pygments_lexer": "ipython3",
   "version": "3.7.10"
  }
 },
 "nbformat": 4,
 "nbformat_minor": 5
}
