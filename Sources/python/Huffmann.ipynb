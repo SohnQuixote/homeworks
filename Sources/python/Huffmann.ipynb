{
 "cells": [
  {
   "cell_type": "code",
   "execution_count": null,
   "id": "f8a8afe1",
   "metadata": {},
   "outputs": [],
   "source": []
  },
  {
   "cell_type": "code",
   "execution_count": null,
   "id": "ef1dc315",
   "metadata": {},
   "outputs": [],
   "source": []
  },
  {
   "cell_type": "code",
   "execution_count": 31,
   "id": "3306a834",
   "metadata": {},
   "outputs": [],
   "source": [
    "class Node:\n",
    "    def __init__(self, data):\n",
    "        self.data = data\n",
    "        self.left = None\n",
    "        self.right = None"
   ]
  },
  {
   "cell_type": "code",
   "execution_count": 32,
   "id": "67ee7ca4",
   "metadata": {},
   "outputs": [],
   "source": [
    "import heapq\n",
    "root = Node(0)\n",
    "def encode(frequency):\n",
    "    global root\n",
    "    heap = [[weight, [symbol, '']] for symbol, weight in frequency.items()]\n",
    "    heapT = [[weight ,Node(weight)] for _,weight  in frequency.items()]\n",
    "    heapq.heapify(heap)\n",
    "    heapq.heapify(heapT)\n",
    "    while len(heap) > 1:\n",
    "        lo = heapq.heappop(heap)\n",
    "        loT = heapq.heappop(heapT)\n",
    "        hi = heapq.heappop(heap)\n",
    "        hiT = heapq.heappop(heapT)\n",
    "        temp = Node(0)\n",
    "        temp.left = loT[1]\n",
    "        temp.right = hiT[1]\n",
    "        temp.data = loT[1].data+hiT[1].data\n",
    "        for pair in lo[1:]:\n",
    "            pair[1] = '0' + pair[1]\n",
    "        for pair in hi[1:]:\n",
    "            pair[1] = '1' + pair[1]\n",
    "        print(temp.data)\n",
    "        heapq.heappush(heapT,[temp.data , temp])\n",
    "\n",
    "        heapq.heappush(heap, [lo[0] + hi[0]] + lo[1:] + hi[1:])\n",
    "    nice = heapq.heappop(heapT)\n",
    "    root = nice[1]\n",
    "    print(root.data)\n",
    "    return sorted(heapq.heappop(heap)[1:], key=lambda p: (len(p[-1]), p))"
   ]
  },
  {
   "cell_type": "code",
   "execution_count": 33,
   "id": "71ac485e",
   "metadata": {},
   "outputs": [
    {
     "name": "stdout",
     "output_type": "stream",
     "text": [
      "210\n",
      "480\n",
      "930\n",
      "930\n",
      "Symbol    Weight    Huffman Code\n",
      "A         450       0\n",
      "C         270       11\n",
      "G         120       101\n",
      "T         90        100\n"
     ]
    }
   ],
   "source": [
    "frequency = {'A':450, 'T':90, 'G':120, 'C':270}\n",
    "huff = encode(frequency)\n",
    "print(\"Symbol\".ljust(10) + \"Weight\".ljust(10) + \"Huffman Code\")\n",
    "for p in huff:\n",
    "    print(p[0].ljust(10) + str(frequency[p[0]]).ljust(10) + p[1])"
   ]
  },
  {
   "cell_type": "code",
   "execution_count": 34,
   "id": "2330236a",
   "metadata": {},
   "outputs": [
    {
     "name": "stdout",
     "output_type": "stream",
     "text": [
      "450\n"
     ]
    }
   ],
   "source": [
    "print(root.left.data)"
   ]
  },
  {
   "cell_type": "code",
   "execution_count": 35,
   "id": "57015a1b",
   "metadata": {},
   "outputs": [
    {
     "name": "stdout",
     "output_type": "stream",
     "text": [
      "13\n"
     ]
    },
    {
     "ename": "TypeError",
     "evalue": "'<' not supported between instances of 'Node' and 'Node'",
     "output_type": "error",
     "traceback": [
      "\u001b[1;31m---------------------------------------------------------------------------\u001b[0m",
      "\u001b[1;31mTypeError\u001b[0m                                 Traceback (most recent call last)",
      "\u001b[1;32m<ipython-input-35-d4e3c5ce6310>\u001b[0m in \u001b[0;36m<module>\u001b[1;34m\u001b[0m\n\u001b[0;32m      1\u001b[0m \u001b[0mstring\u001b[0m \u001b[1;33m=\u001b[0m \u001b[1;34m\"addfasddfaaasddfdsaadfasfaasfdddfaasdfdfffsdggfsgsas\"\u001b[0m\u001b[1;33m\u001b[0m\u001b[1;33m\u001b[0m\u001b[0m\n\u001b[0;32m      2\u001b[0m \u001b[0mfrequency\u001b[0m \u001b[1;33m=\u001b[0m \u001b[1;33m{\u001b[0m\u001b[1;34m'a'\u001b[0m \u001b[1;33m:\u001b[0m\u001b[0mstring\u001b[0m\u001b[1;33m.\u001b[0m\u001b[0mcount\u001b[0m\u001b[1;33m(\u001b[0m\u001b[1;34m\"a\"\u001b[0m\u001b[1;33m)\u001b[0m \u001b[1;33m,\u001b[0m \u001b[1;34m's'\u001b[0m \u001b[1;33m:\u001b[0m \u001b[0mstring\u001b[0m\u001b[1;33m.\u001b[0m\u001b[0mcount\u001b[0m\u001b[1;33m(\u001b[0m\u001b[1;34m\"s\"\u001b[0m\u001b[1;33m)\u001b[0m \u001b[1;33m,\u001b[0m \u001b[1;34m'd'\u001b[0m \u001b[1;33m:\u001b[0m \u001b[0mstring\u001b[0m\u001b[1;33m.\u001b[0m\u001b[0mcount\u001b[0m\u001b[1;33m(\u001b[0m\u001b[1;34m\"d\"\u001b[0m\u001b[1;33m)\u001b[0m\u001b[1;33m,\u001b[0m\u001b[1;34m'f'\u001b[0m \u001b[1;33m:\u001b[0m\u001b[0mstring\u001b[0m\u001b[1;33m.\u001b[0m\u001b[0mcount\u001b[0m\u001b[1;33m(\u001b[0m\u001b[1;34m\"f\"\u001b[0m\u001b[1;33m)\u001b[0m\u001b[1;33m,\u001b[0m\u001b[1;34m'g'\u001b[0m \u001b[1;33m:\u001b[0m \u001b[0mstring\u001b[0m\u001b[1;33m.\u001b[0m\u001b[0mcount\u001b[0m\u001b[1;33m(\u001b[0m\u001b[1;34m\"g\"\u001b[0m\u001b[1;33m)\u001b[0m\u001b[1;33m}\u001b[0m\u001b[1;33m\u001b[0m\u001b[1;33m\u001b[0m\u001b[0m\n\u001b[1;32m----> 3\u001b[1;33m \u001b[0mhuff\u001b[0m \u001b[1;33m=\u001b[0m \u001b[0mencode\u001b[0m\u001b[1;33m(\u001b[0m\u001b[0mfrequency\u001b[0m\u001b[1;33m)\u001b[0m\u001b[1;33m\u001b[0m\u001b[1;33m\u001b[0m\u001b[0m\n\u001b[0m\u001b[0;32m      4\u001b[0m \u001b[0mprint\u001b[0m\u001b[1;33m(\u001b[0m\u001b[1;34m\"Symbol\"\u001b[0m\u001b[1;33m.\u001b[0m\u001b[0mljust\u001b[0m\u001b[1;33m(\u001b[0m\u001b[1;36m10\u001b[0m\u001b[1;33m)\u001b[0m \u001b[1;33m+\u001b[0m \u001b[1;34m\"Weight\"\u001b[0m\u001b[1;33m.\u001b[0m\u001b[0mljust\u001b[0m\u001b[1;33m(\u001b[0m\u001b[1;36m10\u001b[0m\u001b[1;33m)\u001b[0m \u001b[1;33m+\u001b[0m \u001b[1;34m\"Huffman Code\"\u001b[0m\u001b[1;33m)\u001b[0m\u001b[1;33m\u001b[0m\u001b[1;33m\u001b[0m\u001b[0m\n\u001b[0;32m      5\u001b[0m \u001b[1;32mfor\u001b[0m \u001b[0mp\u001b[0m \u001b[1;32min\u001b[0m \u001b[0mhuff\u001b[0m\u001b[1;33m:\u001b[0m\u001b[1;33m\u001b[0m\u001b[1;33m\u001b[0m\u001b[0m\n",
      "\u001b[1;32m<ipython-input-32-5bb80e32eb39>\u001b[0m in \u001b[0;36mencode\u001b[1;34m(frequency)\u001b[0m\n\u001b[0;32m     21\u001b[0m             \u001b[0mpair\u001b[0m\u001b[1;33m[\u001b[0m\u001b[1;36m1\u001b[0m\u001b[1;33m]\u001b[0m \u001b[1;33m=\u001b[0m \u001b[1;34m'1'\u001b[0m \u001b[1;33m+\u001b[0m \u001b[0mpair\u001b[0m\u001b[1;33m[\u001b[0m\u001b[1;36m1\u001b[0m\u001b[1;33m]\u001b[0m\u001b[1;33m\u001b[0m\u001b[1;33m\u001b[0m\u001b[0m\n\u001b[0;32m     22\u001b[0m         \u001b[0mprint\u001b[0m\u001b[1;33m(\u001b[0m\u001b[0mtemp\u001b[0m\u001b[1;33m.\u001b[0m\u001b[0mdata\u001b[0m\u001b[1;33m)\u001b[0m\u001b[1;33m\u001b[0m\u001b[1;33m\u001b[0m\u001b[0m\n\u001b[1;32m---> 23\u001b[1;33m         \u001b[0mheapq\u001b[0m\u001b[1;33m.\u001b[0m\u001b[0mheappush\u001b[0m\u001b[1;33m(\u001b[0m\u001b[0mheapT\u001b[0m\u001b[1;33m,\u001b[0m\u001b[1;33m[\u001b[0m\u001b[0mtemp\u001b[0m\u001b[1;33m.\u001b[0m\u001b[0mdata\u001b[0m \u001b[1;33m,\u001b[0m \u001b[0mtemp\u001b[0m\u001b[1;33m]\u001b[0m\u001b[1;33m)\u001b[0m\u001b[1;33m\u001b[0m\u001b[1;33m\u001b[0m\u001b[0m\n\u001b[0m\u001b[0;32m     24\u001b[0m \u001b[1;33m\u001b[0m\u001b[0m\n\u001b[0;32m     25\u001b[0m         \u001b[0mheapq\u001b[0m\u001b[1;33m.\u001b[0m\u001b[0mheappush\u001b[0m\u001b[1;33m(\u001b[0m\u001b[0mheap\u001b[0m\u001b[1;33m,\u001b[0m \u001b[1;33m[\u001b[0m\u001b[0mlo\u001b[0m\u001b[1;33m[\u001b[0m\u001b[1;36m0\u001b[0m\u001b[1;33m]\u001b[0m \u001b[1;33m+\u001b[0m \u001b[0mhi\u001b[0m\u001b[1;33m[\u001b[0m\u001b[1;36m0\u001b[0m\u001b[1;33m]\u001b[0m\u001b[1;33m]\u001b[0m \u001b[1;33m+\u001b[0m \u001b[0mlo\u001b[0m\u001b[1;33m[\u001b[0m\u001b[1;36m1\u001b[0m\u001b[1;33m:\u001b[0m\u001b[1;33m]\u001b[0m \u001b[1;33m+\u001b[0m \u001b[0mhi\u001b[0m\u001b[1;33m[\u001b[0m\u001b[1;36m1\u001b[0m\u001b[1;33m:\u001b[0m\u001b[1;33m]\u001b[0m\u001b[1;33m)\u001b[0m\u001b[1;33m\u001b[0m\u001b[1;33m\u001b[0m\u001b[0m\n",
      "\u001b[1;31mTypeError\u001b[0m: '<' not supported between instances of 'Node' and 'Node'"
     ]
    }
   ],
   "source": [
    "string = \"addfasddfaaasddfdsaadfasfaasfdddfaasdfdfffsdggfsgsas\"\n",
    "frequency = {'a' :string.count(\"a\") , 's' : string.count(\"s\") , 'd' : string.count(\"d\"),'f' :string.count(\"f\"),'g' : string.count(\"g\")}\n",
    "huff = encode(frequency)\n",
    "print(\"Symbol\".ljust(10) + \"Weight\".ljust(10) + \"Huffman Code\")\n",
    "for p in huff:\n",
    "    print(p[0].ljust(10) + str(frequency[p[0]]).ljust(10) + p[1])"
   ]
  },
  {
   "cell_type": "code",
   "execution_count": 22,
   "id": "3481a872",
   "metadata": {},
   "outputs": [],
   "source": [
    "\n",
    "before_tree = {'a' : [0,1] ,'d' : [1,1] , 'f':[0,0] ,'g':[1,0,0] ,'s':[1,0,1]}\n",
    "root = Node(-1)\n",
    "root.left = Node(0)\n",
    "root.right = Node(1)\n",
    "root.left.right = Node(\"01\")\n",
    "root.right.right = Node(\"11\")\n",
    "root.left.left = Node(\"00\")\n",
    "root.right.left = Node([1,0])\n",
    "root.right.left.left = Node(\"100\")\n",
    "root.right.left.right = Node(\"101\")"
   ]
  },
  {
   "cell_type": "code",
   "execution_count": 28,
   "id": "e60b22cc",
   "metadata": {},
   "outputs": [
    {
     "name": "stdout",
     "output_type": "stream",
     "text": [
      "011111000110111110001010110111110011101010111000110100010110100111111000101101110011000000101111001000010110010101101\n"
     ]
    }
   ],
   "source": [
    "result = \"\"\n",
    "string = tuple(string)\n",
    "for i in string:\n",
    "    temp = root\n",
    "    for j in before_tree[i]:\n",
    "        if(j == 0):\n",
    "            temp = temp.left\n",
    "        elif(j==1):\n",
    "            temp = temp.right\n",
    "    result  = result +temp.data\n",
    "print(result)"
   ]
  },
  {
   "cell_type": "code",
   "execution_count": 32,
   "id": "bf822712",
   "metadata": {},
   "outputs": [
    {
     "name": "stdout",
     "output_type": "stream",
     "text": [
      "압축률 : 28.125 %\n"
     ]
    }
   ],
   "source": [
    "print(\"압축률 :\" ,len(result)/(len(string) * 8) * 100 ,\"%\")"
   ]
  },
  {
   "cell_type": "code",
   "execution_count": 44,
   "id": "341a6cdf",
   "metadata": {},
   "outputs": [
    {
     "name": "stdout",
     "output_type": "stream",
     "text": [
      "addfasddfaaasddfdsaadfasfaasfdddfaasdfdfffsdggfsgsas\n"
     ]
    }
   ],
   "source": [
    "root = Node(-1)\n",
    "root.left = Node(0)\n",
    "root.right = Node(1)\n",
    "root.left.right = Node(\"a\")\n",
    "root.right.right = Node(\"d\")\n",
    "root.left.left = Node(\"f\")\n",
    "root.right.left = Node([1,0])\n",
    "root.right.left.left = Node(\"g\")\n",
    "root.right.left.right = Node(\"s\")\n",
    "result = list(result)\n",
    "string =\"\"\n",
    "temp = root\n",
    "for i in result:\n",
    "    \n",
    "    if(int(i) == 0 ):\n",
    "        temp = temp.left\n",
    "    if(int(i)==1):\n",
    "        temp = temp.right\n",
    "    if(temp.left == None and temp.right == None):\n",
    "        string  = string +temp.data\n",
    "        temp = root\n",
    "print(string)"
   ]
  },
  {
   "cell_type": "code",
   "execution_count": null,
   "id": "0bdd6bc0",
   "metadata": {},
   "outputs": [],
   "source": []
  }
 ],
 "metadata": {
  "kernelspec": {
   "display_name": "Python 3",
   "language": "python",
   "name": "python3"
  },
  "language_info": {
   "codemirror_mode": {
    "name": "ipython",
    "version": 3
   },
   "file_extension": ".py",
   "mimetype": "text/x-python",
   "name": "python",
   "nbconvert_exporter": "python",
   "pygments_lexer": "ipython3",
   "version": "3.7.10"
  }
 },
 "nbformat": 4,
 "nbformat_minor": 5
}
