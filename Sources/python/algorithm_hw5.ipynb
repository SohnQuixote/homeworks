{
 "cells": [
  {
   "cell_type": "code",
   "execution_count": 39,
   "id": "7fbd6f44",
   "metadata": {},
   "outputs": [],
   "source": [
    "def CoinEx(d,n):\n",
    "    C = []\n",
    "    C.append(0)\n",
    "    Coin2D = [[0]*len(d) for _ in range (n+1)]\n",
    "    #print(Coin2D)\n",
    "    for i in range(1,n+1):\n",
    "        C.append(999999)\n",
    "    for j in range(1,n+1):\n",
    "        for i in range(0,len(d)):\n",
    "            if(d[i]<=j) and (C[j-d[i]] < C[j]):\n",
    "                if(C[j-d[i]] !=0):\n",
    "                    for k in range(0,len(d)):\n",
    "                        Coin2D[j][k] = Coin2D[j-d[i]][k]\n",
    "                Coin2D[j][i] +=1\n",
    "                \n",
    "                    \n",
    "                C[j] = C[j-d[i]]+1\n",
    "    print(n , \"원\")\n",
    "    for i in range(0,len(d)):\n",
    "        print(d[i], \"원 : \" , Coin2D[n][i] ,\"개\")\n",
    "    print(\"합계 :\" , C[n])"
   ]
  },
  {
   "cell_type": "code",
   "execution_count": 41,
   "id": "3cb16043",
   "metadata": {},
   "outputs": [
    {
     "name": "stdout",
     "output_type": "stream",
     "text": [
      "25 원\n",
      "16 원 :  0 개\n",
      "10 원 :  2 개\n",
      "5 원 :  1 개\n",
      "1 원 :  0 개\n",
      "합계 : 3\n"
     ]
    }
   ],
   "source": [
    "d = [16,10,5,1]\n",
    "#coin_dict = {16:0,10:0,5:0,1:0}\n",
    "CoinEx(d,25)"
   ]
  },
  {
   "cell_type": "code",
   "execution_count": null,
   "id": "ca438a70",
   "metadata": {},
   "outputs": [],
   "source": []
  }
 ],
 "metadata": {
  "kernelspec": {
   "display_name": "Python 3",
   "language": "python",
   "name": "python3"
  },
  "language_info": {
   "codemirror_mode": {
    "name": "ipython",
    "version": 3
   },
   "file_extension": ".py",
   "mimetype": "text/x-python",
   "name": "python",
   "nbconvert_exporter": "python",
   "pygments_lexer": "ipython3",
   "version": "3.7.10"
  }
 },
 "nbformat": 4,
 "nbformat_minor": 5
}
