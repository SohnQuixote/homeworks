{
 "cells": [
  {
   "cell_type": "code",
   "execution_count": 1,
   "id": "810258ac",
   "metadata": {},
   "outputs": [],
   "source": [
    "weight = [5,4,6,3]\n",
    "value = [10,40,30,50]\n",
    "Capacity = 10"
   ]
  },
  {
   "cell_type": "code",
   "execution_count": 35,
   "id": "076670eb",
   "metadata": {},
   "outputs": [],
   "source": [
    "def zero_one_knapsack(weight,value,C):\n",
    "    w = len(weight)\n",
    "    K = [[0] * (C+1) for _ in range(w+1)]\n",
    "    for i in range(1,w+1):\n",
    "        for j in range (1,C+1):\n",
    "            \n",
    "            if(weight[i-1]>j):\n",
    "                K[i][j] = K[i-1][j]\n",
    "            else:\n",
    "                K[i][j] = max(K[i-1][j], K[i-1][j-weight[i-1]] + value[i-1])\n",
    "    return K[w][C]"
   ]
  },
  {
   "cell_type": "code",
   "execution_count": 36,
   "id": "104c94fa",
   "metadata": {},
   "outputs": [
    {
     "data": {
      "text/plain": [
       "90"
      ]
     },
     "execution_count": 36,
     "metadata": {},
     "output_type": "execute_result"
    }
   ],
   "source": [
    "zero_one_knapsack(weight,value,Capacity)"
   ]
  },
  {
   "cell_type": "code",
   "execution_count": 21,
   "id": "25ca5f34",
   "metadata": {},
   "outputs": [
    {
     "name": "stdout",
     "output_type": "stream",
     "text": [
      "1\n",
      "2\n",
      "3\n"
     ]
    }
   ],
   "source": [
    "for i in range(1,4):\n",
    "    print(i)"
   ]
  },
  {
   "cell_type": "code",
   "execution_count": null,
   "id": "7776cb81",
   "metadata": {},
   "outputs": [],
   "source": []
  }
 ],
 "metadata": {
  "kernelspec": {
   "display_name": "Python 3",
   "language": "python",
   "name": "python3"
  },
  "language_info": {
   "codemirror_mode": {
    "name": "ipython",
    "version": 3
   },
   "file_extension": ".py",
   "mimetype": "text/x-python",
   "name": "python",
   "nbconvert_exporter": "python",
   "pygments_lexer": "ipython3",
   "version": "3.7.10"
  }
 },
 "nbformat": 4,
 "nbformat_minor": 5
}
