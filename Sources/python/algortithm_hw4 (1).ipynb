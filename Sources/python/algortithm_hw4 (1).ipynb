{
 "cells": [
  {
   "cell_type": "code",
   "execution_count": 37,
   "id": "c29b4c27",
   "metadata": {},
   "outputs": [],
   "source": [
    "input_matrix = [50,15,20,30,45,60,70]\n",
    "n = len(input_matrix)-1\n",
    "def matrix_chain(input_matrix , n):\n",
    "    C = [[0 for i in range(n+1)] for j in range(n+1)]\n",
    "    for L in range(1,n):\n",
    "        for i in range(1,n-L+1):\n",
    "            j = i+L\n",
    "            C[i][j] = 999999999\n",
    "            for k in range(i,j):\n",
    "                temp = C[i][k] + C[k+1][j] + (input_matrix[i-1] * input_matrix[k] * input_matrix[j])\n",
    "                if (temp < C[i][j]):\n",
    "                    C[i][j] = temp\n",
    "                    if(j!= i+1) :\n",
    "                        if(i+2<=k and k+3<=j):\n",
    "                            C[j][i] = i,C[k][i], C[j][k+1],j\n",
    "                        elif(i+2<=k) :\n",
    "                            C[j][i] = i,C[k][i],k+1,j\n",
    "                        elif(k+3<=j):\n",
    "                            C[j][i] = i,k,C[j][k+1],j\n",
    "                        else :\n",
    "                            C[j][i] = i,k,j\n",
    "                        \n",
    "    return C"
   ]
  },
  {
   "cell_type": "code",
   "execution_count": 23,
   "id": "adbf4b61",
   "metadata": {},
   "outputs": [
    {
     "data": {
      "text/plain": [
       "'def print_order(C,n):\\n    result = []\\n    i = C[n][1][0]\\n    j = C[n][1][1]\\n    k = C[n][1][2]\\n    while(1):\\n        print(result)\\n        if(i == j or i+1 == j  ) :\\n            result.append(\"(\")\\n            result.append(i)\\n            result.append(j)\\n            result.append(\")\")\\n        elif(i+2 <= j):\\n            temp_i = i\\n            temp_j = j\\n            i = C[temp_j][temp_i][0]\\n            j = C[temp_j][temp_i][1]\\n            k = C[temp_j][temp_i][2]\\n            continue\\n        if(j+1 == k or j +2== k  ) :\\n            result.append(\"(\")\\n            result.append(j+1)\\n            result.append(k)\\n            result.append(\")\")\\n            if(k==n):\\n                break\\n        elif(j+3 <= k):\\n            temp_j = j\\n            temp_k = k\\n            i = C[temp_k][temp_j+1][0]\\n            j = C[temp_k][temp_j+1][1]\\n            k = C[temp_k][temp_j+1][2]\\n            continue\\n    return result'"
      ]
     },
     "execution_count": 23,
     "metadata": {},
     "output_type": "execute_result"
    }
   ],
   "source": [
    "#독립히스토리 시도\n",
    "\"\"\"def print_order(C,n):\n",
    "    result = []\n",
    "    i = C[n][1][0]\n",
    "    j = C[n][1][1]\n",
    "    k = C[n][1][2]\n",
    "    while(1):\n",
    "        print(result)\n",
    "        if(i == j or i+1 == j  ) :\n",
    "            result.append(\"(\")\n",
    "            result.append(i)\n",
    "            result.append(j)\n",
    "            result.append(\")\")\n",
    "        elif(i+2 <= j):\n",
    "            temp_i = i\n",
    "            temp_j = j\n",
    "            i = C[temp_j][temp_i][0]\n",
    "            j = C[temp_j][temp_i][1]\n",
    "            k = C[temp_j][temp_i][2]\n",
    "            continue\n",
    "        if(j+1 == k or j +2== k  ) :\n",
    "            result.append(\"(\")\n",
    "            result.append(j+1)\n",
    "            result.append(k)\n",
    "            result.append(\")\")\n",
    "            if(k==n):\n",
    "                break\n",
    "        elif(j+3 <= k):\n",
    "            temp_j = j\n",
    "            temp_k = k\n",
    "            i = C[temp_k][temp_j+1][0]\n",
    "            j = C[temp_k][temp_j+1][1]\n",
    "            k = C[temp_k][temp_j+1][2]\n",
    "            continue\n",
    "    return result\"\"\""
   ]
  },
  {
   "cell_type": "code",
   "execution_count": 39,
   "id": "455b2469",
   "metadata": {},
   "outputs": [
    {
     "name": "stdout",
     "output_type": "stream",
     "text": [
      "(1, 1, (2, (2, (2, 3, 4), 5, 5), 6, 6), 6)\n"
     ]
    }
   ],
   "source": [
    "print(matrix_chain(input_matrix,n)[n][1])"
   ]
  },
  {
   "cell_type": "code",
   "execution_count": 40,
   "id": "3aab94e4",
   "metadata": {},
   "outputs": [
    {
     "name": "stdout",
     "output_type": "stream",
     "text": [
      "185250\n"
     ]
    }
   ],
   "source": [
    "print(matrix_chain(input_matrix,n)[1][n])"
   ]
  },
  {
   "cell_type": "code",
   "execution_count": null,
   "id": "997ef1d0",
   "metadata": {},
   "outputs": [],
   "source": []
  }
 ],
 "metadata": {
  "kernelspec": {
   "display_name": "Python 3",
   "language": "python",
   "name": "python3"
  },
  "language_info": {
   "codemirror_mode": {
    "name": "ipython",
    "version": 3
   },
   "file_extension": ".py",
   "mimetype": "text/x-python",
   "name": "python",
   "nbconvert_exporter": "python",
   "pygments_lexer": "ipython3",
   "version": "3.7.10"
  }
 },
 "nbformat": 4,
 "nbformat_minor": 5
}
