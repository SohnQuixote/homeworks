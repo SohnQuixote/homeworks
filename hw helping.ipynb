{
 "cells": [
  {
   "cell_type": "markdown",
   "id": "efb7fc5c",
   "metadata": {},
   "source": [
    "학생 N명의 국어, 영어, 수학 점수가 순서대로 주어진다. 이때, 다음과 같은 조건으로 학생의 등수를 매긴다.\n",
    "\n",
    "1. 국어 점수가 높을수록 등수가 높다\n",
    "2. 만약 국어 점수가 같으면 영어 점수가 높을수록 등수가 높다. \n",
    "3. 국어 점수와 영어 점수가 같으면 수학 점수가 높을수록 등수가 높다.\n",
    "\n",
    "1등에게는 100만원, 2등에게는 80만원, 3등에게는 50만원의 장학금이 주어진다.\n",
    "단, 점수 총합이 동일한 경우 동일한 등수로 취급한다. \n",
    "\n",
    "장학금의 총합을 구하는 프로그램을 작성하시오.\n",
    "\n",
    "[입력 예시1]\n",
    "5   → N\n",
    "50 60 100\n",
    "80 60 50\n",
    "80 70 100\n",
    "50 60 90\n",
    "60 80 100\n",
    "\n",
    "[출력 예시1]\n",
    "230"
   ]
  },
  {
   "cell_type": "code",
   "execution_count": 1,
   "id": "e410acab",
   "metadata": {},
   "outputs": [
    {
     "data": {
      "text/plain": [
       "'N = int(input())\\nkorea = []\\nenglish = []\\nmath = []\\nscore_sum = []\\nfor i in range(0,N):\\n    korea.append(int(input()))\\n    english.append(int(input()))\\n    math.append(int(input()))\\n    score_sum.append(korea[i]+english[i]+math[i])'"
      ]
     },
     "execution_count": 1,
     "metadata": {},
     "output_type": "execute_result"
    }
   ],
   "source": [
    "'''N = int(input())\n",
    "korea = []\n",
    "english = []\n",
    "math = []\n",
    "score_sum = []\n",
    "for i in range(0,N):\n",
    "    korea.append(int(input()))\n",
    "    english.append(int(input()))\n",
    "    math.append(int(input()))\n",
    "    score_sum.append(korea[i]+english[i]+math[i])'''"
   ]
  },
  {
   "cell_type": "code",
   "execution_count": 2,
   "id": "6ddab8a8",
   "metadata": {},
   "outputs": [],
   "source": [
    "import copy"
   ]
  },
  {
   "cell_type": "code",
   "execution_count": 3,
   "id": "14a57c93",
   "metadata": {},
   "outputs": [],
   "source": [
    "korea = [50,80,80,50,60]\n",
    "english = [60,60,70,60,80]\n",
    "math = [100,50,100,90,100]\n",
    "score_sum = [210,190,250,200,240]"
   ]
  },
  {
   "cell_type": "code",
   "execution_count": 4,
   "id": "21255604",
   "metadata": {},
   "outputs": [],
   "source": [
    "def ranks(ko,en,ma):\n",
    "    korea_rank_indexes = []\n",
    "    math_rank_indexes = []\n",
    "    english_rank_indexes = []\n",
    "    length = len(ko)\n",
    "    k = copy.deepcopy(ko)\n",
    "    e = copy.deepcopy(en)\n",
    "    m = copy.deepcopy(ma)\n",
    "    for i in range(0,length):\n",
    "\n",
    "        korea_rank_indexes.append([max(k), k.index(max(k))])\n",
    "        k[k.index(max(k))] = -1\n",
    "        english_rank_indexes.append([max(e), e.index(max(e))])\n",
    "        e[e.index(max(e))] = -1\n",
    "        math_rank_indexes.append([max(m), m.index(max(m))])\n",
    "        m[m.index(max(m))] = -1\n",
    "    return korea_rank_indexes,english_rank_indexes,math_rank_indexes\n"
   ]
  },
  {
   "cell_type": "code",
   "execution_count": 5,
   "id": "35c9e22c",
   "metadata": {},
   "outputs": [],
   "source": [
    "k,e,m = ranks(korea,english,math)"
   ]
  },
  {
   "cell_type": "code",
   "execution_count": 6,
   "id": "f35a4df9",
   "metadata": {},
   "outputs": [
    {
     "data": {
      "text/plain": [
       "[[80, 1], [80, 2], [60, 4], [50, 0], [50, 3]]"
      ]
     },
     "execution_count": 6,
     "metadata": {},
     "output_type": "execute_result"
    }
   ],
   "source": [
    "k"
   ]
  },
  {
   "cell_type": "code",
   "execution_count": null,
   "id": "a60535c6",
   "metadata": {},
   "outputs": [],
   "source": []
  },
  {
   "cell_type": "code",
   "execution_count": null,
   "id": "25b34518",
   "metadata": {},
   "outputs": [],
   "source": [
    "janghak(k,e,m,score_sum,korea,english,math)"
   ]
  },
  {
   "cell_type": "code",
   "execution_count": null,
   "id": "8b23ae42",
   "metadata": {},
   "outputs": [],
   "source": [
    "janghak(k,e,m,score_sum,korea,english,math)"
   ]
  },
  {
   "cell_type": "code",
   "execution_count": null,
   "id": "2f71f0e4",
   "metadata": {},
   "outputs": [],
   "source": [
    "import copy\n",
    "N = int(input())\n",
    "korea = []\n",
    "english = []\n",
    "math = []\n",
    "score_sum = []\n",
    "scores = 0\n",
    "for i in range(0,N):\n",
    "    score=input().split()\n",
    "    scores = 0\n",
    "    korea.append(int(score[0]))\n",
    "    english.append(int(score[1]))\n",
    "    math.append(int(score[2]))\n",
    "    for j in range(0,3):\n",
    "        scores+=int(score[j])\n",
    "    score_sum.append(scores)\n",
    "#korea = [50,80,80,50,60]\n",
    "#english = [60,60,70,60,80]\n",
    "#math = [100,50,100,90,100]\n",
    "#score_sum = [210,190,250,200,240]\n",
    "def ranks(ko,en,ma):\n",
    "    korea_rank_indexes = []\n",
    "    math_rank_indexes = []\n",
    "    english_rank_indexes = []\n",
    "    length = len(ko)\n",
    "    k = copy.deepcopy(ko)\n",
    "    e = copy.deepcopy(en)\n",
    "    m = copy.deepcopy(ma)\n",
    "    for i in range(0,length):\n",
    "\n",
    "        korea_rank_indexes.append([max(k), k.index(max(k))])\n",
    "        k[k.index(max(k))] = -1\n",
    "        english_rank_indexes.append([max(e), e.index(max(e))])\n",
    "        e[e.index(max(e))] = -1\n",
    "        math_rank_indexes.append([max(m), m.index(max(m))])\n",
    "        m[m.index(max(m))] = -1\n",
    "    return korea_rank_indexes,english_rank_indexes,math_rank_indexes\n",
    "k,e,m = ranks(korea,english,math)\n",
    "def janghak(k,e,m,s,k_s,e_s,m_s):\n",
    "    one_candid = []\n",
    "    one_finished = False\n",
    "    two_candid = []\n",
    "    two_finished = False\n",
    "    three_candid = []\n",
    "    three_finished = False\n",
    "    math_candid = []\n",
    "    last_compare = []\n",
    "    length = len(k)\n",
    "    one_candid.append(k[0])\n",
    "    for i in range(1,length):\n",
    "        if(k[i][0] == k[0][0]):\n",
    "            one_candid.append(k[i])\n",
    "    if(len(one_candid) == 1):\n",
    "        del k[0]\n",
    "        one_candid = []\n",
    "        one_candid.append(k[0][1])\n",
    "        one_finished  = True\n",
    "\n",
    "    else:\n",
    "        for i in range(0,len(one_candid)):\n",
    "            two_candid.append([e_s[one_candid[i][1]],one_candid[i][1]])\n",
    "        two_candid.sort(key=lambda x:x[0],reverse = True)\n",
    "        three_candid.append(two_candid[0])\n",
    "        for i in range(1,len(two_candid)):\n",
    "            if(two_candid[i][0] == two_candid[0][0]):\n",
    "                three_candid.append(two_candid[i])\n",
    "        if(len(three_candid) == 1):\n",
    "            for i in range(0,length):\n",
    "                if(k[i][1] == two_candid[0][1]):\n",
    "                    del k[i]\n",
    "                    break\n",
    "            one_candid = []\n",
    "            one_candid.append(three_candid[0][1])\n",
    "            one_finished = True\n",
    "        else:\n",
    "            for i in range(0,len(three_candid)):\n",
    "                math_candid.append([m_s[three_candid[i][1]], three_candid[i][1]])\n",
    "            math_candid.sort(key=lambda x:x[0],reverse = True)\n",
    "            last_compare.append(math_candid[0])\n",
    "            for i in range(1, len(math_candid)):\n",
    "                if(math_candid[i][0] == math_candid[0][0]):\n",
    "                    last_compare.append(math_candid[i])\n",
    "                if(len(last_compare) == 0):\n",
    "                    for i in range(0,length):\n",
    "                        if(k[i][1] == math_candid[0][1]):\n",
    "                            del k[i]\n",
    "                            break\n",
    "                        one_candid = []\n",
    "                        one_candid.append(two_candid[0][1])\n",
    "                        one_finished = True\n",
    "                else:\n",
    "                    one_candid = last_compare\n",
    "                    \n",
    "    return one_candid\n",
    "one = janghak(k,e,m,score_sum,korea,english,math)\n",
    "two = janghak(k,e,m,score_sum,korea,english,math)\n",
    "three = janghak(k,e,m,score_sum,korea,english,math)\n",
    "one_count = 0\n",
    "two_count = 0\n",
    "three_count = 0\n",
    "for i in range(0,len(score_sum)):\n",
    "    if(score_sum[one[0]] == score_sum[i]):\n",
    "        one_count+=1\n",
    "    if(score_sum[two[0]] == score_sum[i] ):\n",
    "        two_count+=1\n",
    "    if(score_sum[three[0]] == score_sum[i]):\n",
    "        three_count +=1\n",
    "print(100*one_count+80*two_count+50*three_count)"
   ]
  },
  {
   "cell_type": "code",
   "execution_count": null,
   "id": "af812c20",
   "metadata": {},
   "outputs": [],
   "source": [
    "two"
   ]
  },
  {
   "cell_type": "code",
   "execution_count": null,
   "id": "92ff0c2d",
   "metadata": {},
   "outputs": [],
   "source": []
  }
 ],
 "metadata": {
  "kernelspec": {
   "display_name": "Python 3",
   "language": "python",
   "name": "python3"
  },
  "language_info": {
   "codemirror_mode": {
    "name": "ipython",
    "version": 3
   },
   "file_extension": ".py",
   "mimetype": "text/x-python",
   "name": "python",
   "nbconvert_exporter": "python",
   "pygments_lexer": "ipython3",
   "version": "3.8.8"
  }
 },
 "nbformat": 4,
 "nbformat_minor": 5
}
