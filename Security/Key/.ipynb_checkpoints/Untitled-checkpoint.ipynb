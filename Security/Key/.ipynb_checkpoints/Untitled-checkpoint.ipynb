{
 "cells": [
  {
   "cell_type": "code",
   "execution_count": 1,
   "id": "6764daea",
   "metadata": {},
   "outputs": [],
   "source": [
    "from Cryptodome.PublicKey import RSA\n",
    "from Cryptodome.Signature import pkcs1_15\n",
    "from Cryptodome.Hash import SHA256\n",
    "from Cryptodome.Signature.pkcs1_15 import PKCS115_SigScheme\n",
    "import pickle"
   ]
  },
  {
   "cell_type": "code",
   "execution_count": 2,
   "id": "0e223347",
   "metadata": {},
   "outputs": [],
   "source": [
    "def genCertificate(mypubKey, CAPrivKey):\n",
    "    h = SHA256.new(mypubKey.export_key())\n",
    "    S_CA= pkcs1_15.new(CAPrivKey).sign(h)\n",
    "    certificate = [mypubKey.export_key(),S_CA]\n",
    "    return certificate"
   ]
  },
  {
   "cell_type": "code",
   "execution_count": 3,
   "id": "61e66b85",
   "metadata": {},
   "outputs": [],
   "source": [
    "def veriCertificate(aCertificate ,CACertificate):\n",
    "    temp = CACertificate[0]\n",
    "    CertPubKey=RSA.import_key(temp)\n",
    "    h = SHA256.new(aCertificate[0])\n",
    "    #obj = RSA.import_key(aCertificate[0])\n",
    "    a = True\n",
    "    try:\n",
    "        pkcs1_15.new(CertPubKey).verify(h, aCertificate[1])\n",
    "        a = True\n",
    "    except (ValueError, TypeError):\n",
    "         a= False\n",
    "    return a"
   ]
  },
  {
   "cell_type": "code",
   "execution_count": 4,
   "id": "6b733c31",
   "metadata": {},
   "outputs": [],
   "source": [
    "#a CA의 RSA 개인키를 만든다. 이를 파일 CAPriv.pem에 저장한다.\n",
    "CAPrivKey = RSA.generate(2048)\n",
    "f = open('CAPriv.pem', 'wb')\n",
    "f.write(CAPrivKey.export_key('PEM', passphrase=\"!@#$\"))\n",
    "f.close()"
   ]
  },
  {
   "cell_type": "code",
   "execution_count": 5,
   "id": "93cf6a0f",
   "metadata": {},
   "outputs": [],
   "source": [
    "#b CA의 RSA 개인키에서 공개키 CA_pub를 추출한다. 이를 파일 CAPub.pem에 저장한다.\n",
    "CA_pub = CAPrivKey.publickey()\n",
    "f = open('CAPub.pem', 'wb')\n",
    "f.write(CA_pub.export_key('PEM'))\n",
    "f.close()"
   ]
  },
  {
   "cell_type": "code",
   "execution_count": 6,
   "id": "da0619f7",
   "metadata": {},
   "outputs": [],
   "source": [
    "#c CA는 자신의 공개키에 SAH256을 적용하고, 자신의 개인키로 서명하여 서명 S_CA를 만들고, 이를 이용하여 자신의 root 인증서 [CA_pub, S_CA]를 만들어 CACertCA.plk 파일에 저장한다. 인증서의 저장은 pickle.dump()를 쓰고, 인증서를 읽는 것은 pickle.load()를 쓴다.\n",
    "rootCertificate = genCertificate(CA_pub,CAPrivKey)\n",
    "with open('CACert.plk', 'wb') as f:\n",
    "    pickle.dump(rootCertificate, f)"
   ]
  },
  {
   "cell_type": "code",
   "execution_count": 7,
   "id": "5b6cf445",
   "metadata": {},
   "outputs": [],
   "source": [
    "#d Bob은 자신의 RSA 개인키를 만든다. 이를 파일 BobPriv.pem에 저장한다.\n",
    "BobPrivKey = RSA.generate(2048)\n",
    "f = open('BobPriv.pem', 'wb')\n",
    "f.write(BobPrivKey.export_key('PEM', passphrase=\"!@#$\"))\n",
    "f.close()"
   ]
  },
  {
   "cell_type": "code",
   "execution_count": 8,
   "id": "45c64f05",
   "metadata": {},
   "outputs": [],
   "source": [
    "#e Bob은 개인키에서 공개키 Bob_pub를 추출하여 파일 BobPub.pem에 저장한다.\n",
    "\n",
    "Bob_pub = BobPrivKey.publickey()\n",
    "f = open('BobPub.pem', 'wb')\n",
    "f.write(Bob_pub.export_key('PEM'))\n",
    "f.close()"
   ]
  },
  {
   "cell_type": "code",
   "execution_count": 9,
   "id": "f06fb357",
   "metadata": {},
   "outputs": [],
   "source": [
    "#f CA는 자신의 개인키로 서명한 Bob의 공개키 인증서 [Bob_pub, S_Bob_CA]를 만들어 BobCertCA.plk에 저장한다. \n",
    "\n",
    "BobCertificate = genCertificate(Bob_pub,CAPrivKey)\n",
    "with open ('BobCertCa.plk' , 'wb') as f:\n",
    "    pickle.dump(BobCertificate , f)"
   ]
  },
  {
   "cell_type": "code",
   "execution_count": 10,
   "id": "5da8ff7d",
   "metadata": {},
   "outputs": [
    {
     "name": "stdout",
     "output_type": "stream",
     "text": [
      "Bob sent message :  I bought 100 sumin coins\n",
      "Bob sent signature b'3v\\x83E\\x84\\xefq\\x05R\\xfbHP\\xe2]\\x13\\xaeHo\\xd3\\xdaj\\xea\\x8d\\x91\\xb6z,\\xc0L\\xae/\\x93\\xe1+\\xb3ej\\xb1 \\xa1?<\\xcb\\x88\\xc3\\xff\\xab\\x9feH_\\xfb\\n>\\x81\\nY-\\xd7>Z\\xaa\\xa3\\x9ez6\\x07T\\xe7\\xfe\\x9e\\xb8&\\xdd\\xa1\\xb8k\\xb4\\xa4F\\xad\\xfe\\x94\\xc1&\\xeb\\xbaM\\xbd\\xf8\\n\\xc6:\\x17j6\\xc8\\xb8dk@\\x1b\\x157\\xbeF\\xd5\\x99:\\xc4{\\xa6\\xd9\\xc73\\x9fX\\x16\\xce\\xc5>F6\\xb9\\xe4\\x97A\\xf4\\xcd:\\xbe\\xa7<\\xaa\\xf0\\x15\\xf1\\x0c\\xf1S\\x90k\\x8d\\xfe\\xf6\\xe3\\xfd5U]\\x9ekk3\\x86\\xb3\\xf8q\\xe62`\\x02 yw\\x02\\x87\\xc0\\x19\\x94\\xc4\\x9bJx\\x0f\\xfe\\x1c\\xab)-\\xcb\"\\xdf\\x80\\x84\\xe1\\xf9rCC8\\xa6\\xee\\xc2\\xdf=\\xd8\\x03\\x10\\x10\\xd8H\\xffqfn\\xf3\\xcc\\\\\\x98\\x97\\xcb\\x14\\xbe\\xdd\\xf5\\xe8T\\x989:%O\\x9f\\x91U\\x01\\xa6\\xa8\\x10uh +\\xe5\\xf2\\xcb)?\\x14g\\x84\\xb3(\\xd3\\x17\\xe8\\x15\\x87\"\\x17\\xf3\\rE\\xf1\\xd3'\n",
      "Bob sent cert [b'-----BEGIN PUBLIC KEY-----\\nMIIBIjANBgkqhkiG9w0BAQEFAAOCAQ8AMIIBCgKCAQEAiqJQl5nTaMM8BDflljBB\\nDDwP4bIuLiAM5myrFQTiddNK+ortxLZfWREkRa79sKNti44yNUWN6FkTOtT6x0Md\\nmUHkRUJ9eh99F/OhAkFcqhe/l47n8rmLvM7sB4G4tjuqX6MxnYHdJWjyBeVoHSxs\\n91hCIpa//bXrqLD0eEaoaGgPIOp5F/3MpcGyfWu1Jqg+8ZbXMFKfO3Hvl44xfnmn\\nGYFBqcWnYORPw87+zoPrC6arkQmCy5zzNfHqNWryvQl2yn9H11WrsUxuYuoGxhnp\\nBJ0MrRFPKW+wA5MQio39eS4cr82UyC9VIux9K3IJNRdd44Ez96akHeF9OOPvzKrN\\nKwIDAQAB\\n-----END PUBLIC KEY-----', b\"\\xb6/\\x1e\\xbf\\x17\\x02(1`\\xf2\\xd8R\\x0b\\xdd\\xb5\\xb4\\x8dNw(.x\\xd1o\\xae\\x00\\x80/v|>Z\\xce\\xf5\\xd2\\x13\\xf2\\x1f\\x1a[\\x9b\\xbaZ\\xe2\\xfe\\x80E\\xb5\\x9d\\xe8A\\xcat\\xc5r^\\xf3\\xbcc>\\xa8\\xb9@q\\xb3^\\xeaUP0\\x16\\xb7*|\\xe6\\x9b\\xa2\\xb3\\x8b\\x05\\x19A\\xea\\x9d\\xe9\\xd5\\x80S7\\x11s\\xc2}\\xba\\x80\\x87U_~\\x08;\\xed2\\x0c\\x95\\xb9A\\xd7\\xd1@\\x16\\xcc7\\xe9\\\\\\xc5\\xc7\\xc0\\x1d\\xf3\\xef\\xe8\\x8b\\x86\\xd6\\xad\\xfd\\t\\xe8\\xa64\\xbdI\\x9d\\xc7C/\\x87\\xae\\xe5\\x16`y\\x92\\xaf\\x9e\\x9d\\x85\\xa3\\x15y7+\\xad\\x94\\xce;\\xc6\\x96G\\xb8\\xf4\\xfeI\\xb6\\x9b\\xa6\\tg3\\xee\\\\A\\xe8\\xab\\n\\xcb\\x95P\\x15~d\\x06&\\x1d\\xd4\\xa6@\\xeetjAi\\xfc@K\\x88\\x19}*)\\xe8~\\xce\\xaf\\x05\\x8f\\x85\\xec|G\\x9fk+\\xf5\\xd9zn?=N\\xdfV*\\x84(\\x84\\xf7\\xadJiuA\\x83\\xcfEm\\xac[\\x0c\\xddRq<3\\xfa\\xc3\\x95\\xc4\\xc6K\\x99\\n'\\xb1\\xbe\"]\n",
      "to Alice\n"
     ]
    }
   ],
   "source": [
    "#g Bob은 M = \"I bought 100 doge coins.\" 메시지에 SHA256을 적용한 후 자신의 개인키로 서명한 서명 S, 메시지 M, 그리고 공개키 인증서 [Bob_pub, S_Bob_CA]를  Alice에게 보낸다. (보냈다고 가정하고 print로 출력한다.)\n",
    "message = 'I bought 100 sumin coins'\n",
    "h = SHA256.new(message.encode('utf-8'))\n",
    "signature = pkcs1_15.new(BobPrivKey).sign(h)\n",
    "print(\"Bob sent message : \" , message)\n",
    "print(\"Bob sent signature\" , signature)\n",
    "print(\"Bob sent cert\" , BobCertificate)\n",
    "print(\"to Alice\")"
   ]
  },
  {
   "cell_type": "code",
   "execution_count": 11,
   "id": "21a78166",
   "metadata": {},
   "outputs": [
    {
     "name": "stdout",
     "output_type": "stream",
     "text": [
      "Alice received message : [ I bought 100 sumin coins b'3v\\x83E\\x84\\xefq\\x05R\\xfbHP\\xe2]\\x13\\xaeHo\\xd3\\xdaj\\xea\\x8d\\x91\\xb6z,\\xc0L\\xae/\\x93\\xe1+\\xb3ej\\xb1 \\xa1?<\\xcb\\x88\\xc3\\xff\\xab\\x9feH_\\xfb\\n>\\x81\\nY-\\xd7>Z\\xaa\\xa3\\x9ez6\\x07T\\xe7\\xfe\\x9e\\xb8&\\xdd\\xa1\\xb8k\\xb4\\xa4F\\xad\\xfe\\x94\\xc1&\\xeb\\xbaM\\xbd\\xf8\\n\\xc6:\\x17j6\\xc8\\xb8dk@\\x1b\\x157\\xbeF\\xd5\\x99:\\xc4{\\xa6\\xd9\\xc73\\x9fX\\x16\\xce\\xc5>F6\\xb9\\xe4\\x97A\\xf4\\xcd:\\xbe\\xa7<\\xaa\\xf0\\x15\\xf1\\x0c\\xf1S\\x90k\\x8d\\xfe\\xf6\\xe3\\xfd5U]\\x9ekk3\\x86\\xb3\\xf8q\\xe62`\\x02 yw\\x02\\x87\\xc0\\x19\\x94\\xc4\\x9bJx\\x0f\\xfe\\x1c\\xab)-\\xcb\"\\xdf\\x80\\x84\\xe1\\xf9rCC8\\xa6\\xee\\xc2\\xdf=\\xd8\\x03\\x10\\x10\\xd8H\\xffqfn\\xf3\\xcc\\\\\\x98\\x97\\xcb\\x14\\xbe\\xdd\\xf5\\xe8T\\x989:%O\\x9f\\x91U\\x01\\xa6\\xa8\\x10uh +\\xe5\\xf2\\xcb)?\\x14g\\x84\\xb3(\\xd3\\x17\\xe8\\x15\\x87\"\\x17\\xf3\\rE\\xf1\\xd3' [b'-----BEGIN PUBLIC KEY-----\\nMIIBIjANBgkqhkiG9w0BAQEFAAOCAQ8AMIIBCgKCAQEAiqJQl5nTaMM8BDflljBB\\nDDwP4bIuLiAM5myrFQTiddNK+ortxLZfWREkRa79sKNti44yNUWN6FkTOtT6x0Md\\nmUHkRUJ9eh99F/OhAkFcqhe/l47n8rmLvM7sB4G4tjuqX6MxnYHdJWjyBeVoHSxs\\n91hCIpa//bXrqLD0eEaoaGgPIOp5F/3MpcGyfWu1Jqg+8ZbXMFKfO3Hvl44xfnmn\\nGYFBqcWnYORPw87+zoPrC6arkQmCy5zzNfHqNWryvQl2yn9H11WrsUxuYuoGxhnp\\nBJ0MrRFPKW+wA5MQio39eS4cr82UyC9VIux9K3IJNRdd44Ez96akHeF9OOPvzKrN\\nKwIDAQAB\\n-----END PUBLIC KEY-----', b\"\\xb6/\\x1e\\xbf\\x17\\x02(1`\\xf2\\xd8R\\x0b\\xdd\\xb5\\xb4\\x8dNw(.x\\xd1o\\xae\\x00\\x80/v|>Z\\xce\\xf5\\xd2\\x13\\xf2\\x1f\\x1a[\\x9b\\xbaZ\\xe2\\xfe\\x80E\\xb5\\x9d\\xe8A\\xcat\\xc5r^\\xf3\\xbcc>\\xa8\\xb9@q\\xb3^\\xeaUP0\\x16\\xb7*|\\xe6\\x9b\\xa2\\xb3\\x8b\\x05\\x19A\\xea\\x9d\\xe9\\xd5\\x80S7\\x11s\\xc2}\\xba\\x80\\x87U_~\\x08;\\xed2\\x0c\\x95\\xb9A\\xd7\\xd1@\\x16\\xcc7\\xe9\\\\\\xc5\\xc7\\xc0\\x1d\\xf3\\xef\\xe8\\x8b\\x86\\xd6\\xad\\xfd\\t\\xe8\\xa64\\xbdI\\x9d\\xc7C/\\x87\\xae\\xe5\\x16`y\\x92\\xaf\\x9e\\x9d\\x85\\xa3\\x15y7+\\xad\\x94\\xce;\\xc6\\x96G\\xb8\\xf4\\xfeI\\xb6\\x9b\\xa6\\tg3\\xee\\\\A\\xe8\\xab\\n\\xcb\\x95P\\x15~d\\x06&\\x1d\\xd4\\xa6@\\xeetjAi\\xfc@K\\x88\\x19}*)\\xe8~\\xce\\xaf\\x05\\x8f\\x85\\xec|G\\x9fk+\\xf5\\xd9zn?=N\\xdfV*\\x84(\\x84\\xf7\\xadJiuA\\x83\\xcfEm\\xac[\\x0c\\xddRq<3\\xfa\\xc3\\x95\\xc4\\xc6K\\x99\\n'\\xb1\\xbe\"] ] from bob\n"
     ]
    }
   ],
   "source": [
    "#h Alice는 메시지 [M, S, [Bob_pub, S_Bob_CA]]를 받는다.\n",
    "print(\"Alice received message : [\" , message , signature , BobCertificate ,\"] from bob\")"
   ]
  },
  {
   "cell_type": "code",
   "execution_count": 12,
   "id": "e84ec575",
   "metadata": {},
   "outputs": [],
   "source": [
    "#i Alice는 Bob의 공개키 인증서를 검증하기 위해 CA의 root 인증서 [CA_pub, S_CA]를 파일 CACertCA.plk에서 읽는다.\n",
    "with open('CACert.plk', 'rb') as f:\n",
    "    CArootCertificate = pickle.load(f) "
   ]
  },
  {
   "cell_type": "code",
   "execution_count": 13,
   "id": "06e3b262",
   "metadata": {},
   "outputs": [
    {
     "name": "stdout",
     "output_type": "stream",
     "text": [
      "Certificate is valid\n"
     ]
    }
   ],
   "source": [
    "#j CA의 root 인증서를 CA의 root 인증서로 검증한다. 검증 실패의 경우 오류 메시지를 출력하고 종료한다. \n",
    "flag = veriCertificate(CArootCertificate , CArootCertificate)\n",
    "if(flag == True):\n",
    "    print(\"Certificate is valid\")\n",
    "else :\n",
    "    print(\"Certificate is not valid\")\n",
    "    quit()"
   ]
  },
  {
   "cell_type": "code",
   "execution_count": 14,
   "id": "71115d48",
   "metadata": {},
   "outputs": [
    {
     "name": "stdout",
     "output_type": "stream",
     "text": [
      "Certificate is valid\n"
     ]
    }
   ],
   "source": [
    "#k Bob의 인증서를 CA의 root 인증서로 검증한다. 검증 실패의 경우 오류 메시지를 출력하고 종료한다.\n",
    "flag = veriCertificate(BobCertificate , CArootCertificate)\n",
    "if(flag == True):\n",
    "    print(\"Certificate is valid\")\n",
    "else :\n",
    "    print(\"Certificate is not valid\")\n",
    "    quit()"
   ]
  },
  {
   "cell_type": "code",
   "execution_count": 15,
   "id": "5c2b5cbb",
   "metadata": {},
   "outputs": [
    {
     "name": "stdout",
     "output_type": "stream",
     "text": [
      "The signature is valid.\n"
     ]
    }
   ],
   "source": [
    "#l  메시지 [M, S]를 Bob의 인증서에 있는 공개키로 검증한다. 검증 실패의 경우 오류 메시지를 출력하고 종료한다.\n",
    "BobPubKey= RSA.import_key(BobCertificate[0])\n",
    "h = SHA256.new(message.encode('utf-8'))\n",
    "try:\n",
    "    pkcs1_15.new(BobPubKey).verify(h, signature)\n",
    "    print(\"The signature is valid.\")\n",
    "except (ValueError, TypeError):\n",
    "    print(\"The signature is not valid.\")\n",
    "    quit()"
   ]
  },
  {
   "cell_type": "code",
   "execution_count": 16,
   "id": "3facc691",
   "metadata": {},
   "outputs": [
    {
     "name": "stdout",
     "output_type": "stream",
     "text": [
      "Good Job.Well done!\n"
     ]
    }
   ],
   "source": [
    "#m\n",
    "print(\"Good Job.Well done!\")"
   ]
  },
  {
   "cell_type": "code",
   "execution_count": null,
   "id": "6a5ca9de",
   "metadata": {},
   "outputs": [],
   "source": []
  }
 ],
 "metadata": {
  "kernelspec": {
   "display_name": "Python 3",
   "language": "python",
   "name": "python3"
  },
  "language_info": {
   "codemirror_mode": {
    "name": "ipython",
    "version": 3
   },
   "file_extension": ".py",
   "mimetype": "text/x-python",
   "name": "python",
   "nbconvert_exporter": "python",
   "pygments_lexer": "ipython3",
   "version": "3.8.8"
  }
 },
 "nbformat": 4,
 "nbformat_minor": 5
}
