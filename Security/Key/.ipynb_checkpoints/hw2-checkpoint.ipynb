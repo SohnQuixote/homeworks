{
 "cells": [
  {
   "cell_type": "code",
   "execution_count": 1,
   "id": "6764daea",
   "metadata": {},
   "outputs": [],
   "source": [
    "from Cryptodome.PublicKey import RSA\n",
    "from Cryptodome.Signature import pkcs1_15\n",
    "from Cryptodome.Hash import SHA256\n",
    "from Cryptodome.Signature.pkcs1_15 import PKCS115_SigScheme\n",
    "import pickle"
   ]
  },
  {
   "cell_type": "code",
   "execution_count": 2,
   "id": "0e223347",
   "metadata": {},
   "outputs": [],
   "source": [
    "def genCertificate(mypubKey, CAPrivKey):\n",
    "    h = SHA256.new(mypubKey.export_key())\n",
    "    S_CA= pkcs1_15.new(CAPrivKey).sign(h)\n",
    "    certificate = [mypubKey.export_key(),S_CA]\n",
    "    return certificate"
   ]
  },
  {
   "cell_type": "code",
   "execution_count": 3,
   "id": "61e66b85",
   "metadata": {},
   "outputs": [],
   "source": [
    "def veriCertificate(aCertificate ,CACertificate):\n",
    "    temp = CACertificate[0]\n",
    "    CertPubKey=RSA.import_key(temp)\n",
    "    h = SHA256.new(aCertificate[0])\n",
    "    #obj = RSA.import_key(aCertificate[0])\n",
    "    a = True\n",
    "    try:\n",
    "        pkcs1_15.new(CertPubKey).verify(h, aCertificate[1])\n",
    "        a = True\n",
    "    except (ValueError, TypeError):\n",
    "         a= False\n",
    "    return a"
   ]
  },
  {
   "cell_type": "code",
   "execution_count": 4,
   "id": "6b733c31",
   "metadata": {},
   "outputs": [],
   "source": [
    "#a CA의 RSA 개인키를 만든다. 이를 파일 CAPriv.pem에 저장한다.\n",
    "CAPrivKey = RSA.generate(2048)\n",
    "f = open('CAPriv.pem', 'wb')\n",
    "f.write(CAPrivKey.export_key('PEM', passphrase=\"!@#$\"))\n",
    "f.close()"
   ]
  },
  {
   "cell_type": "code",
   "execution_count": 5,
   "id": "93cf6a0f",
   "metadata": {},
   "outputs": [],
   "source": [
    "#b CA의 RSA 개인키에서 공개키 CA_pub를 추출한다. 이를 파일 CAPub.pem에 저장한다.\n",
    "CA_pub = CAPrivKey.publickey()\n",
    "f = open('CAPub.pem', 'wb')\n",
    "f.write(CA_pub.export_key('PEM'))\n",
    "f.close()"
   ]
  },
  {
   "cell_type": "code",
   "execution_count": 6,
   "id": "da0619f7",
   "metadata": {},
   "outputs": [],
   "source": [
    "#c CA는 자신의 공개키에 SAH256을 적용하고, 자신의 개인키로 서명하여 서명 S_CA를 만들고, 이를 이용하여 자신의 root 인증서 [CA_pub, S_CA]를 만들어 CACertCA.plk 파일에 저장한다. 인증서의 저장은 pickle.dump()를 쓰고, 인증서를 읽는 것은 pickle.load()를 쓴다.\n",
    "rootCertificate = genCertificate(CA_pub,CAPrivKey)\n",
    "with open('CACert.plk', 'wb') as f:\n",
    "    pickle.dump(rootCertificate, f)"
   ]
  },
  {
   "cell_type": "code",
   "execution_count": 7,
   "id": "5b6cf445",
   "metadata": {},
   "outputs": [],
   "source": [
    "#d Bob은 자신의 RSA 개인키를 만든다. 이를 파일 BobPriv.pem에 저장한다.\n",
    "BobPrivKey = RSA.generate(2048)\n",
    "f = open('BobPriv.pem', 'wb')\n",
    "f.write(BobPrivKey.export_key('PEM', passphrase=\"!@#$\"))\n",
    "f.close()"
   ]
  },
  {
   "cell_type": "code",
   "execution_count": 8,
   "id": "45c64f05",
   "metadata": {},
   "outputs": [],
   "source": [
    "#e Bob은 개인키에서 공개키 Bob_pub를 추출하여 파일 BobPub.pem에 저장한다.\n",
    "\n",
    "Bob_pub = BobPrivKey.publickey()\n",
    "f = open('BobPub.pem', 'wb')\n",
    "f.write(Bob_pub.export_key('PEM'))\n",
    "f.close()"
   ]
  },
  {
   "cell_type": "code",
   "execution_count": 9,
   "id": "f06fb357",
   "metadata": {},
   "outputs": [],
   "source": [
    "#f CA는 자신의 개인키로 서명한 Bob의 공개키 인증서 [Bob_pub, S_Bob_CA]를 만들어 BobCertCA.plk에 저장한다. \n",
    "\n",
    "BobCertificate = genCertificate(Bob_pub,CAPrivKey)\n",
    "with open ('BobCertCa.plk' , 'wb') as f:\n",
    "    pickle.dump(BobCertificate , f)"
   ]
  },
  {
   "cell_type": "code",
   "execution_count": 10,
   "id": "5da8ff7d",
   "metadata": {},
   "outputs": [
    {
     "name": "stdout",
     "output_type": "stream",
     "text": [
      "Bob sent message :  I bought 100 sumin coins\n",
      "Bob sent signature b'f}\\x94\\xd8DL\\x82\\x9b\\x89\\x86bKd\\xc4\\'Q>t%\\x9a\\x0cFs 1\\th\\xbdPA\\xed\\xb7Zn\\xdfa\\x999\\xcd{\\xb1g\\x14u:0\\xe2\\xda\\xca\\xd9R\\x8fM\\x07\\xc8\\x07Iy\\x7f\\x87\\xe9\\xd2\\xc0\\xec\\xe8u\\x94\\r\\xcd\\x1f\\'\\xe7\\x89\\x07CF\\x91\\x8b\\xd0\\xc5\\x83z\\xd3P\\xfa\\xf0T\\xbb\\xc4\\xd2o\\x97\\x1d\\x90\\x1d\\x82^I\\xe6\\xb2\\x9b\\xec\\xe8\\xb1\\xcc\\xf0\\r\\xa9\\xbe\\x85\\xe3\\xffG3\\xff \\xeeau\\x19\\x9a\\xfaC\\xc9\\xf7\\x85i\\xce\\xa8\\xbf\\xc4\\xed\\x1aP\\xa9v\"\\\\\\xcd9\\x07\\x07c\\xe8.\\x03\\x8bC\\xddH\\x91\\x8a\\x9a\\x80n\\xd2t[\\x16\\xe4\\x93\\xb1\\x8cv\\xcc\\x06\\x12\\xa8\\xfa\\x9c_D\\x98K\\x8a\\xf0\\xce\\xde\\xa7\\xf1#\\xfc\\x92\\x1e\\xcfa\\x9b\\xd1\\xd4\\xf7\\x1bM@\\x02\\\\j\\x01\\xb4\\xcf7\\xd5\\xd3\\xb7p\\x9e\\x16a\\x83\\xe16\\x80*W\\xd4\\x12\\xf1\\xd4n\\x89\\xc1T\\xc7z\\x10\\x98\\x7f\\x034?\\x16\\xab\\x06@\\x06w\\x9d\\xb0arE\\xba\\x13\\xe6\\xb7\\xf4BQ\\x922\\xe1#\\x93\\x05\\x97\\xd5a'\n",
      "Bob sent cert [b'-----BEGIN PUBLIC KEY-----\\nMIIBIjANBgkqhkiG9w0BAQEFAAOCAQ8AMIIBCgKCAQEA6rLzdiQooQLeWYhbLtKL\\nC6S3xWcbB6DOJl/kPw8Z5FtMGiNeSFhPCy3yxvvPGmpL4lba/3Y2TLxgJ8WkkKpO\\n/S+GIhlaf35+NMZQgr6VE2gxNpZpdM6KB58R+yiHqzXhOQJRqKhYNFQ2w8lMYKe8\\n6mHNhuHKYb/z42pzviqBS1+PHFoTbLgwiwOWRYXACvyV/gILyDKow/Qs1FI3usXj\\n2cGWfQm3HN+9LEc3i6/MU+UlfDQsbHJ2r/IAEr3wZwydJkHP57J032rZHN4cQtbX\\nJNj+zdYip/QvT12fGNGRPF0ow5SZxPvVSHenmsanV9VcwEq3BQMJ9hm2146/spES\\nnwIDAQAB\\n-----END PUBLIC KEY-----', b')\\x10\\xb8\\xe6\\x04\\xc6\\xa0\\x1dS@\\x94\\xad\\x17\\xf4\\xb3J\\xa6\\x92..\\x9e\\xde\\x10\\xb3/\\x03e\\x8bA\\xe1\\xc6Q\\xe8\\xc2\\x06Z\\x00\\xad\\x0b\\x89p|\\xa2\\xd6^\\x8cLf\\xf5\\xda\\xdc\\x82X\\x06\\xb0\\x10\\x82g7<\\x06H\\xe2=\\xc8\\x02v\\x10\\xf2B\\xad\\x10_/@]Br\\xf5\\xfe\\xf4\\xdb\\x80wC\\xa8\\xd9\\xf7v\\xf3\\x84;Z\\xb1\\xdco\\x8ea\\xcf\\xac\\xff\\x03\\'M\\xd5\\xb0\\x1a\\xeeC\\x8er\\xab\\xb1e\\x8f\\xe6IH\\xd5\\xa4*\\x1f\\x14\\xba\\xdd\\x84\\x81[\\xe5\\xa2\\x85\\xd2,?\\x99\\x8b|\\t\\xe7\\xe0\\x04kh\"!\\xa1\\xf6cL\\x10\\r\\x91\\xfa\\x15\\xe0Xt\\x9fb\\xa8\\x93Qg\\xd3\\x86\\xd3\\x92\\xcaaoN\\xf9\\x8e\\xec\\xf4q\\xa533\\xa7\\xc0M\\xdf\\xcaq\\xd4]9\\t\\x0f\\x9dW`\\xbebK\\xb7\\x01sfw\\xb4\\x9d#\\xf6\\xa7\\x15e\\xdd\\xe6\\x80I~tx\\xa69;\\xac\\xad[r\\xe6L\\xb8\\xf7\\x13\\xa2\\x94JN\\xe6\\x1f\\xce?v\\x13K\\xd7r\\x0fL\\x9e\\x89U\\xda$R&et\\xe3+{?\\x82']\n",
      "to Alice\n"
     ]
    }
   ],
   "source": [
    "#g Bob은 M = \"I bought 100 doge coins.\" 메시지에 SHA256을 적용한 후 자신의 개인키로 서명한 서명 S, 메시지 M, 그리고 공개키 인증서 [Bob_pub, S_Bob_CA]를  Alice에게 보낸다. (보냈다고 가정하고 print로 출력한다.)\n",
    "message = 'I bought 100 sumin coins'\n",
    "h = SHA256.new(message.encode('utf-8'))\n",
    "signature = pkcs1_15.new(BobPrivKey).sign(h)\n",
    "print(\"Bob sent message : \" , message)\n",
    "print(\"Bob sent signature\" , signature)\n",
    "print(\"Bob sent cert\" , BobCertificate)\n",
    "print(\"to Alice\")"
   ]
  },
  {
   "cell_type": "code",
   "execution_count": 11,
   "id": "21a78166",
   "metadata": {},
   "outputs": [
    {
     "name": "stdout",
     "output_type": "stream",
     "text": [
      "Alice received message : [ I bought 100 sumin coins b'f}\\x94\\xd8DL\\x82\\x9b\\x89\\x86bKd\\xc4\\'Q>t%\\x9a\\x0cFs 1\\th\\xbdPA\\xed\\xb7Zn\\xdfa\\x999\\xcd{\\xb1g\\x14u:0\\xe2\\xda\\xca\\xd9R\\x8fM\\x07\\xc8\\x07Iy\\x7f\\x87\\xe9\\xd2\\xc0\\xec\\xe8u\\x94\\r\\xcd\\x1f\\'\\xe7\\x89\\x07CF\\x91\\x8b\\xd0\\xc5\\x83z\\xd3P\\xfa\\xf0T\\xbb\\xc4\\xd2o\\x97\\x1d\\x90\\x1d\\x82^I\\xe6\\xb2\\x9b\\xec\\xe8\\xb1\\xcc\\xf0\\r\\xa9\\xbe\\x85\\xe3\\xffG3\\xff \\xeeau\\x19\\x9a\\xfaC\\xc9\\xf7\\x85i\\xce\\xa8\\xbf\\xc4\\xed\\x1aP\\xa9v\"\\\\\\xcd9\\x07\\x07c\\xe8.\\x03\\x8bC\\xddH\\x91\\x8a\\x9a\\x80n\\xd2t[\\x16\\xe4\\x93\\xb1\\x8cv\\xcc\\x06\\x12\\xa8\\xfa\\x9c_D\\x98K\\x8a\\xf0\\xce\\xde\\xa7\\xf1#\\xfc\\x92\\x1e\\xcfa\\x9b\\xd1\\xd4\\xf7\\x1bM@\\x02\\\\j\\x01\\xb4\\xcf7\\xd5\\xd3\\xb7p\\x9e\\x16a\\x83\\xe16\\x80*W\\xd4\\x12\\xf1\\xd4n\\x89\\xc1T\\xc7z\\x10\\x98\\x7f\\x034?\\x16\\xab\\x06@\\x06w\\x9d\\xb0arE\\xba\\x13\\xe6\\xb7\\xf4BQ\\x922\\xe1#\\x93\\x05\\x97\\xd5a' [b'-----BEGIN PUBLIC KEY-----\\nMIIBIjANBgkqhkiG9w0BAQEFAAOCAQ8AMIIBCgKCAQEA6rLzdiQooQLeWYhbLtKL\\nC6S3xWcbB6DOJl/kPw8Z5FtMGiNeSFhPCy3yxvvPGmpL4lba/3Y2TLxgJ8WkkKpO\\n/S+GIhlaf35+NMZQgr6VE2gxNpZpdM6KB58R+yiHqzXhOQJRqKhYNFQ2w8lMYKe8\\n6mHNhuHKYb/z42pzviqBS1+PHFoTbLgwiwOWRYXACvyV/gILyDKow/Qs1FI3usXj\\n2cGWfQm3HN+9LEc3i6/MU+UlfDQsbHJ2r/IAEr3wZwydJkHP57J032rZHN4cQtbX\\nJNj+zdYip/QvT12fGNGRPF0ow5SZxPvVSHenmsanV9VcwEq3BQMJ9hm2146/spES\\nnwIDAQAB\\n-----END PUBLIC KEY-----', b')\\x10\\xb8\\xe6\\x04\\xc6\\xa0\\x1dS@\\x94\\xad\\x17\\xf4\\xb3J\\xa6\\x92..\\x9e\\xde\\x10\\xb3/\\x03e\\x8bA\\xe1\\xc6Q\\xe8\\xc2\\x06Z\\x00\\xad\\x0b\\x89p|\\xa2\\xd6^\\x8cLf\\xf5\\xda\\xdc\\x82X\\x06\\xb0\\x10\\x82g7<\\x06H\\xe2=\\xc8\\x02v\\x10\\xf2B\\xad\\x10_/@]Br\\xf5\\xfe\\xf4\\xdb\\x80wC\\xa8\\xd9\\xf7v\\xf3\\x84;Z\\xb1\\xdco\\x8ea\\xcf\\xac\\xff\\x03\\'M\\xd5\\xb0\\x1a\\xeeC\\x8er\\xab\\xb1e\\x8f\\xe6IH\\xd5\\xa4*\\x1f\\x14\\xba\\xdd\\x84\\x81[\\xe5\\xa2\\x85\\xd2,?\\x99\\x8b|\\t\\xe7\\xe0\\x04kh\"!\\xa1\\xf6cL\\x10\\r\\x91\\xfa\\x15\\xe0Xt\\x9fb\\xa8\\x93Qg\\xd3\\x86\\xd3\\x92\\xcaaoN\\xf9\\x8e\\xec\\xf4q\\xa533\\xa7\\xc0M\\xdf\\xcaq\\xd4]9\\t\\x0f\\x9dW`\\xbebK\\xb7\\x01sfw\\xb4\\x9d#\\xf6\\xa7\\x15e\\xdd\\xe6\\x80I~tx\\xa69;\\xac\\xad[r\\xe6L\\xb8\\xf7\\x13\\xa2\\x94JN\\xe6\\x1f\\xce?v\\x13K\\xd7r\\x0fL\\x9e\\x89U\\xda$R&et\\xe3+{?\\x82'] ] from bob\n"
     ]
    }
   ],
   "source": [
    "#h Alice는 메시지 [M, S, [Bob_pub, S_Bob_CA]]를 받는다.\n",
    "print(\"Alice received message : [\" , message , signature , BobCertificate ,\"] from bob\")"
   ]
  },
  {
   "cell_type": "code",
   "execution_count": 12,
   "id": "e84ec575",
   "metadata": {},
   "outputs": [],
   "source": [
    "#i Alice는 Bob의 공개키 인증서를 검증하기 위해 CA의 root 인증서 [CA_pub, S_CA]를 파일 CACertCA.plk에서 읽는다.\n",
    "with open('CACert.plk', 'rb') as f:\n",
    "    CArootCertificate = pickle.load(f) "
   ]
  },
  {
   "cell_type": "code",
   "execution_count": 13,
   "id": "06e3b262",
   "metadata": {},
   "outputs": [
    {
     "name": "stdout",
     "output_type": "stream",
     "text": [
      "Certificate is valid\n"
     ]
    }
   ],
   "source": [
    "#j CA의 root 인증서를 CA의 root 인증서로 검증한다. 검증 실패의 경우 오류 메시지를 출력하고 종료한다. \n",
    "flag = veriCertificate(CArootCertificate , CArootCertificate)\n",
    "if(flag == True):\n",
    "    print(\"Certificate is valid\")\n",
    "else :\n",
    "    print(\"Certificate is not valid\")\n",
    "    quit()"
   ]
  },
  {
   "cell_type": "code",
   "execution_count": 14,
   "id": "71115d48",
   "metadata": {},
   "outputs": [
    {
     "name": "stdout",
     "output_type": "stream",
     "text": [
      "Certificate is valid\n"
     ]
    }
   ],
   "source": [
    "#k Bob의 인증서를 CA의 root 인증서로 검증한다. 검증 실패의 경우 오류 메시지를 출력하고 종료한다.\n",
    "flag = veriCertificate(BobCertificate , CArootCertificate)\n",
    "if(flag == True):\n",
    "    print(\"Certificate is valid\")\n",
    "else :\n",
    "    print(\"Certificate is not valid\")\n",
    "    quit()"
   ]
  },
  {
   "cell_type": "code",
   "execution_count": 15,
   "id": "5c2b5cbb",
   "metadata": {},
   "outputs": [
    {
     "name": "stdout",
     "output_type": "stream",
     "text": [
      "The signature is valid.\n"
     ]
    }
   ],
   "source": [
    "#l  메시지 [M, S]를 Bob의 인증서에 있는 공개키로 검증한다. 검증 실패의 경우 오류 메시지를 출력하고 종료한다.\n",
    "BobPubKey= RSA.import_key(BobCertificate[0])\n",
    "h = SHA256.new(message.encode('utf-8'))\n",
    "try:\n",
    "    pkcs1_15.new(BobPubKey).verify(h, signature)\n",
    "    print(\"The signature is valid.\")\n",
    "except (ValueError, TypeError):\n",
    "    print(\"The signature is not valid.\")\n",
    "    quit()"
   ]
  },
  {
   "cell_type": "code",
   "execution_count": 16,
   "id": "3facc691",
   "metadata": {},
   "outputs": [
    {
     "name": "stdout",
     "output_type": "stream",
     "text": [
      "Good Job.Well done!\n"
     ]
    }
   ],
   "source": [
    "#m\n",
    "print(\"Good Job.Well done!\")"
   ]
  },
  {
   "cell_type": "code",
   "execution_count": null,
   "id": "6a5ca9de",
   "metadata": {},
   "outputs": [],
   "source": []
  }
 ],
 "metadata": {
  "kernelspec": {
   "display_name": "Python 3",
   "language": "python",
   "name": "python3"
  },
  "language_info": {
   "codemirror_mode": {
    "name": "ipython",
    "version": 3
   },
   "file_extension": ".py",
   "mimetype": "text/x-python",
   "name": "python",
   "nbconvert_exporter": "python",
   "pygments_lexer": "ipython3",
   "version": "3.8.8"
  }
 },
 "nbformat": 4,
 "nbformat_minor": 5
}
